{
 "cells": [
  {
   "cell_type": "code",
   "execution_count": 1,
   "metadata": {},
   "outputs": [
    {
     "name": "stdout",
     "output_type": "stream",
     "text": [
      "local\n",
      "enclosing\n",
      "global\n"
     ]
    }
   ],
   "source": [
    "#L = local\n",
    "#E = Enclose\n",
    "#G = global\n",
    "#B = buil in\n",
    "\n",
    "a = \"global\"\n",
    "\n",
    "def outer():\n",
    "    a =\"enclosing\"\n",
    "\n",
    "    def inner():\n",
    "        a = \"local\"\n",
    "        print(a)\n",
    "\n",
    "    inner()\n",
    "    print(a)\n",
    "\n",
    "outer()\n",
    "print(a)"
   ]
  },
  {
   "cell_type": "code",
   "execution_count": null,
   "metadata": {},
   "outputs": [
    {
     "name": "stdout",
     "output_type": "stream",
     "text": [
      "10\n",
      "22 30 40\n",
      "<built-in function abs>\n",
      "100\n"
     ]
    }
   ],
   "source": [
    "x = 10  #global var\n",
    "\n",
    "def outerfx():\n",
    "    global x  # calling global var =10\n",
    "    x+=1  #10+1 = 11\n",
    "    y =10  #y is local in outer(enclose)\n",
    "\n",
    "    def innerfx():\n",
    "        global x   #11\n",
    "        nonlocal y #get enclose y\n",
    "        z = 10   # z is local in inner\n",
    "        x*= 2    #11*2\n",
    "        y*=3\n",
    "        z*= 4\n",
    "        return z\n",
    "    \n",
    "    z = innerfx()\n",
    "    return y, z\n",
    "\n",
    "print(x)\n",
    "y, z = outerfx()\n",
    "print(x, y,z)\n",
    "\n",
    "print(abs)  #built in fx\n",
    "abs = 100\n",
    "print(abs)"
   ]
  },
  {
   "cell_type": "code",
   "execution_count": null,
   "metadata": {},
   "outputs": [
    {
     "name": "stdout",
     "output_type": "stream",
     "text": [
      "L\n",
      "s\n",
      "n\n",
      "you need python\n",
      "you need\n",
      "ace\n",
      "Python\n"
     ]
    }
   ],
   "source": [
    "#String\n",
    "#[start:end]\n",
    "#[start:]\n",
    "#[:end]\n",
    "#[start:end:step]\n",
    "\n",
    "a = \"Life is too short, you need python\"\n",
    "#indexing\n",
    "print(a[0])\n",
    "print(a[12])\n",
    "print(a[-1])\n",
    "\n",
    "#slicing\n",
    "print(a[19:]) # start\n",
    "print(a[19: -7]) #start:end (end is count from back)\n",
    "\n",
    "b = \"abcde\"\n",
    "print(b[::2]) #skip each 2\n",
    "\n",
    "#cannot change string but can paste on it\n",
    "c = \"Pithon\"\n",
    "#c[1] = \"y\" cannot\n",
    "c = c[:1] + \"y\" + c[2:]  #use this instead or replace\n",
    "c.replace(\"i\" , \"y\")\n",
    "print(c)\n"
   ]
  },
  {
   "cell_type": "code",
   "execution_count": 4,
   "metadata": {},
   "outputs": [
    {
     "name": "stdout",
     "output_type": "stream",
     "text": [
      "my age is 20 my name is anna\n",
      "my age is 20 my name is anna\n",
      "my age is 20 my name is anna\n",
      "my age is 65 my name is ali\n",
      "my age is 20 my name is anna my height is3.46\n"
     ]
    }
   ],
   "source": [
    "#print string\n",
    "\n",
    "#% format\n",
    "num = 20\n",
    "name = \"anna\"\n",
    "print(\"my age is %d my name is %s\" %(num, name))\n",
    "\n",
    "#.format()\n",
    "print(\"my age is {} my name is {}\" .format(num, name))\n",
    "print(\"my age is {num} my name is {name}\".format(num=num, name=name))\n",
    "print(\"my age is {num} my name is {name}\".format(num=65, name=\"ali\"))\n",
    "\n",
    "\n",
    "\n",
    "#f-string\n",
    "height = 3.456\n",
    "print (f'my age is {num} my name is {name} my height is{height:.2f}')\n"
   ]
  }
 ],
 "metadata": {
  "kernelspec": {
   "display_name": "Python 3",
   "language": "python",
   "name": "python3"
  },
  "language_info": {
   "codemirror_mode": {
    "name": "ipython",
    "version": 3
   },
   "file_extension": ".py",
   "mimetype": "text/x-python",
   "name": "python",
   "nbconvert_exporter": "python",
   "pygments_lexer": "ipython3",
   "version": "3.13.2"
  }
 },
 "nbformat": 4,
 "nbformat_minor": 2
}
