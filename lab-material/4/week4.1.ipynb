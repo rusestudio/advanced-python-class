{
 "cells": [
  {
   "cell_type": "code",
   "execution_count": null,
   "metadata": {},
   "outputs": [],
   "source": [
    "#struct"
   ]
  },
  {
   "cell_type": "code",
   "execution_count": null,
   "metadata": {},
   "outputs": [],
   "source": [
    "import struct\n",
    "\n",
    "#pack data- make data into binary\n",
    "binary_data = struct.pack(\"<if\",42,3.14)\n",
    "#i- int, f-float data\n",
    "print(binary_data)\n",
    "\n",
    "#unpack data back\n",
    "unpack_data = struct.unpack(\"<if\", binary_data)\n",
    "print(unpack_data)"
   ]
  },
  {
   "cell_type": "code",
   "execution_count": null,
   "metadata": {},
   "outputs": [
    {
     "data": {
      "text/plain": [
       "20"
      ]
     },
     "execution_count": 2,
     "metadata": {},
     "output_type": "execute_result"
    }
   ],
   "source": [
    "import struct\n",
    "#see size of binary data\n",
    "struct.calcsize(\"<3i2f\")\n",
    "#1 int = 4 byte\n",
    "#1 float = 4 byte\n",
    "#3 int -, 2 float = 20 byte"
   ]
  },
  {
   "cell_type": "code",
   "execution_count": 1,
   "metadata": {},
   "outputs": [
    {
     "name": "stdout",
     "output_type": "stream",
     "text": [
      "b'\\xec\\x95\\x88\\xeb\\x85\\x95\\xed\\x95\\x98\\xec\\x84\\xb8\\xec\\x9a\\x94\\x00\\x00\\x00\\x00\\x00'\n"
     ]
    }
   ],
   "source": [
    "import struct\n",
    "\n",
    "MAX_NUM_UNICODE_CHARS =5\n",
    "max_num_unicide_bytes = MAX_NUM_UNICODE_CHARS *4 # 5*4 =20\n",
    "unicode_str = \"안녕하세요\"\n",
    "# hangul takes 3bytes. \n",
    "\n",
    "#our max is 20 but 안녕하세요 only takes 15\n",
    "#so, 3*5 = 15                \n",
    "#so the balance will  be fill with null byte (\\x00)                      \n",
    "packed_data = struct.pack(f\"{max_num_unicide_bytes}s\", unicode_str.encode(\"utf-8\"))\n",
    "\n",
    "print(packed_data)"
   ]
  },
  {
   "cell_type": "code",
   "execution_count": null,
   "metadata": {},
   "outputs": [],
   "source": [
    "unpacked_data = struct.unpack(\"20s\", packed_data)[0]\n",
    "\n",
    "decoded_str = unpack_data.decode(\"utf-8\")\n",
    "print(decoded_str == \"안녕하세요\") #so if check will get false coz the null\n",
    "\n",
    "decoded_str = decoded_str.rstrip(\"\\x00\") #so strip the null\n",
    "print(decoded_str == \"안녕하세요\")\n",
    "\n"
   ]
  },
  {
   "cell_type": "code",
   "execution_count": 3,
   "metadata": {},
   "outputs": [],
   "source": [
    "grades = [\n",
    "    (\"안나\", 85, 90, 80),\n",
    "    (\"이아민\",80, 90, 85),\n",
    "    ( \"아아리\",  67, 80, 90),\n",
    "    ( \"한하나\",  34, 90,90),\n",
    "    (\"다리\", 86, 78,65),\n",
    "]\n",
    "\n",
    "grades =[\n",
    "    (name, kor, eng, math, (kor+eng+ math)/3)\n",
    "    for name, kor, eng, math in grades \n",
    "]\n"
   ]
  },
  {
   "cell_type": "code",
   "execution_count": 5,
   "metadata": {},
   "outputs": [
    {
     "ename": "AttributeError",
     "evalue": "'tuple' object has no attribute 'encode'",
     "output_type": "error",
     "traceback": [
      "\u001b[1;31m---------------------------------------------------------------------------\u001b[0m",
      "\u001b[1;31mAttributeError\u001b[0m                            Traceback (most recent call last)",
      "Cell \u001b[1;32mIn[5], line 10\u001b[0m\n\u001b[0;32m      7\u001b[0m struct_format \u001b[38;5;241m=\u001b[39m  \u001b[38;5;124mf\u001b[39m\u001b[38;5;124m\"\u001b[39m\u001b[38;5;132;01m{\u001b[39;00mmax_num_unicode_bytes\u001b[38;5;132;01m}\u001b[39;00m\u001b[38;5;124ms3if\u001b[39m\u001b[38;5;124m\"\u001b[39m \u001b[38;5;66;03m#s=1*3, + 12*3=24 = 28\u001b[39;00m\n\u001b[0;32m      9\u001b[0m \u001b[38;5;28;01mwith\u001b[39;00m \u001b[38;5;28mopen\u001b[39m(\u001b[38;5;124m\"\u001b[39m\u001b[38;5;124mgrades.bin\u001b[39m\u001b[38;5;124m\"\u001b[39m, \u001b[38;5;124m\"\u001b[39m\u001b[38;5;124mwb\u001b[39m\u001b[38;5;124m\"\u001b[39m) \u001b[38;5;28;01mas\u001b[39;00m f: \u001b[38;5;66;03m#140\u001b[39;00m\n\u001b[1;32m---> 10\u001b[0m     packed_data \u001b[38;5;241m=\u001b[39m struct\u001b[38;5;241m.\u001b[39mpack(struct_format, grades[\u001b[38;5;241m0\u001b[39m]\u001b[38;5;241m.\u001b[39mencode(\u001b[38;5;124m\"\u001b[39m\u001b[38;5;124mutf-8\u001b[39m\u001b[38;5;124m\"\u001b[39m), \u001b[38;5;241m*\u001b[39mgrades[\u001b[38;5;241m1\u001b[39m:])\n\u001b[0;32m     11\u001b[0m     f\u001b[38;5;241m.\u001b[39mwrite(packed_data)\n",
      "\u001b[1;31mAttributeError\u001b[0m: 'tuple' object has no attribute 'encode'"
     ]
    }
   ],
   "source": [
    "import struct\n",
    "\n",
    "# to get max char in name\n",
    "MAX_NUM_UNICODE_CHARS = max(len(grade[0]) for grade in grades) #name 최대 길 = 3\n",
    "max_num_unicode_bytes = MAX_NUM_UNICODE_CHARS *4 #3*4=12\n",
    "\n",
    "struct_format =  f\"{max_num_unicode_bytes}s3if\" #s=1*3, + 12*3=24 = 28\n",
    "\n",
    "with open(\"grades.bin\", \"wb\") as f: #140\n",
    "    packed_data = struct.pack(struct_format, grades[0].encode(\"utf-8\"), *grades[1:])\n",
    "    f.write(packed_data)"
   ]
  },
  {
   "cell_type": "code",
   "execution_count": null,
   "metadata": {},
   "outputs": [],
   "source": [
    "import struct\n",
    "import os\n",
    "\n",
    "file_path = \"grades.bin\"\n",
    "file_size = os.path.getsize(file_path)\n",
    "\n",
    "struct_format = f\"{max_num_unicide_bytes}s3if\" #need to match the size, if put s5if cannot\n",
    "datum_size = struct.calcsize(struct_format)\n",
    "\n",
    "with open(file_path, \"rb\") as f:\n",
    "    for _ in range(file_size // datum_size):\n",
    "        packed_data = f.read(datum_size)\n",
    "        name, *grades, average_score = struct.unpack(struct_format, packed_data)\n",
    "        name = name.decode(\"utf-8\").rstrip(\"\\x00\")\n",
    "        print(name, grades, average_score)"
   ]
  },
  {
   "cell_type": "code",
   "execution_count": 6,
   "metadata": {},
   "outputs": [
    {
     "ename": "NameError",
     "evalue": "name 'file_path' is not defined",
     "output_type": "error",
     "traceback": [
      "\u001b[1;31m---------------------------------------------------------------------------\u001b[0m",
      "\u001b[1;31mNameError\u001b[0m                                 Traceback (most recent call last)",
      "Cell \u001b[1;32mIn[6], line 9\u001b[0m\n\u001b[0;32m      6\u001b[0m datum_size \u001b[38;5;241m=\u001b[39m struct\u001b[38;5;241m.\u001b[39mcalcsize(struct_format) \n\u001b[0;32m      7\u001b[0m index_to_read \u001b[38;5;241m=\u001b[39m\u001b[38;5;241m3\u001b[39m\n\u001b[1;32m----> 9\u001b[0m \u001b[38;5;28;01mwith\u001b[39;00m \u001b[38;5;28mopen\u001b[39m (file_path, \u001b[38;5;124m\"\u001b[39m\u001b[38;5;124mrb\u001b[39m\u001b[38;5;124m\"\u001b[39m) \u001b[38;5;28;01mas\u001b[39;00m f:\n\u001b[0;32m     10\u001b[0m     f\u001b[38;5;241m.\u001b[39mseek((index_to_read\u001b[38;5;241m-\u001b[39m\u001b[38;5;241m1\u001b[39m)\u001b[38;5;241m*\u001b[39m datum_size)\n\u001b[0;32m     11\u001b[0m     packed_data \u001b[38;5;241m=\u001b[39m f\u001b[38;5;241m.\u001b[39mread(datum_size)\n",
      "\u001b[1;31mNameError\u001b[0m: name 'file_path' is not defined"
     ]
    }
   ],
   "source": [
    "#seek\n",
    "#find target \n",
    "\n",
    "import struct \n",
    "\n",
    "datum_size = struct.calcsize(struct_format) \n",
    "index_to_read =3\n",
    "\n",
    "with open (file_path, \"rb\") as f:\n",
    "    f.seek((index_to_read-1)* datum_size)\n",
    "    packed_data = f.read(datum_size)\n",
    "\n",
    "    name, *grades, average_score = struct.unpack(struct_format, packed_data)\n",
    "    name = name.decode(\"utf-8\").rstrip(\"\\x00\")\n",
    "\n",
    "    print(name, grades, average_score)"
   ]
  },
  {
   "cell_type": "code",
   "execution_count": null,
   "metadata": {},
   "outputs": [],
   "source": [
    "import socket\n",
    "import struct \n",
    "\n",
    "HOST = \"127.0.0.1\"\n",
    "PORT = 12345\n",
    "\n",
    "server_socket = socket.socket(socket.AF_INET, socket.SOCK_STREAM)\n",
    "server_socket.bind((HOST, PORT))\n",
    "server_socket.listen(1)\n",
    "\n",
    "print(f\"server host {HOST}:{PORT} port\")\n",
    "\n",
    "conn, addr = server_socket.accept()\n",
    "print(f\"client {addr} connected\")\n",
    "\n",
    "fmt = \"if10s\"\n",
    "size = struct.calcsize(fmt)\n",
    "\n",
    "while True:\n",
    "    data = conn.recv(size)\n",
    "    if not data:\n",
    "        break\n",
    "\n",
    "    int_num, float_num, text = struct.unpack(fmt, data)\n",
    "    text = text.decode(\"utf-8\").rstrip(\"\\x00\") #remove null\n",
    "\n",
    "    print(f\"send data int={int_num}, float={float_num}, string={text}\")\n",
    "\n",
    "conn.close()\n",
    "server_socket.close()\n",
    "print(\"server end\")"
   ]
  }
 ],
 "metadata": {
  "kernelspec": {
   "display_name": "base",
   "language": "python",
   "name": "python3"
  },
  "language_info": {
   "codemirror_mode": {
    "name": "ipython",
    "version": 3
   },
   "file_extension": ".py",
   "mimetype": "text/x-python",
   "name": "python",
   "nbconvert_exporter": "python",
   "pygments_lexer": "ipython3",
   "version": "3.12.7"
  }
 },
 "nbformat": 4,
 "nbformat_minor": 2
}
