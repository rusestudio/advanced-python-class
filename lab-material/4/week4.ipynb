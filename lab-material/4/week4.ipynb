{
 "cells": [
  {
   "cell_type": "code",
   "execution_count": 1,
   "metadata": {},
   "outputs": [],
   "source": [
    "from typing import List\n",
    "\n",
    "def mul(n:int) -> List[str]:\n",
    "    result =[]\n",
    "    for i in range(1,n+1):\n",
    "        mul_i =\"\"\n",
    "        for j in range(1, n+1):\n",
    "            mul_i += f\"{i} * {j} = {i *j:3}\\n\"\n",
    "        result.append(mul_i)\n",
    "\n",
    "    return result"
   ]
  },
  {
   "cell_type": "code",
   "execution_count": 3,
   "metadata": {},
   "outputs": [],
   "source": [
    "file = open(\"mul.txt\", \"w\")\n",
    "for mult in mul(9):\n",
    "    file.write(mult + \"\\n\")"
   ]
  },
  {
   "cell_type": "code",
   "execution_count": null,
   "metadata": {},
   "outputs": [],
   "source": [
    "file.close()\n",
    "#if use with  no need to close() coz auto close"
   ]
  },
  {
   "cell_type": "code",
   "execution_count": null,
   "metadata": {},
   "outputs": [],
   "source": [
    "#read file\n",
    "#read file overall \n",
    "with open (\"mul.txt\", \"r\") as file:\n",
    "    print(file.read())\n",
    "\n",
    "#read file overall n\n",
    "#return back with line split \\n\n",
    "with open(\"mul.txt\", \"r\") as f:\n",
    "    for line in f.readlines():\n",
    "        print(line, end=\"\")\n",
    "\n",
    "#read file line by line\n",
    "#read one line and return in line\n",
    "with open (\"mul.txt\", \"r\") as f:\n",
    "    for line in f:\n",
    "        print(line, end=\"\")"
   ]
  },
  {
   "cell_type": "code",
   "execution_count": null,
   "metadata": {},
   "outputs": [],
   "source": [
    "#csv- real data separate by comma\n",
    "#json- read string data\n",
    "#must import csv\n",
    "\n",
    "import csv\n",
    "\n",
    "game_level ={   #data in dict type\n",
    "    \"anna\": 50,\n",
    "    \"amin\": 85,\n",
    "    \"ali\": 70,\n",
    "    \"hana\":65,\n",
    "    \"darek\": 90\n",
    "}\n",
    "\n",
    "#write file\n",
    "with open(\"game_level.csv\", \"w\") as f:\n",
    "    writer = csv.writer(f)\n",
    "    for name, level in game_level.items():\n",
    "        writer.writerow([name,level])\n"
   ]
  },
  {
   "cell_type": "code",
   "execution_count": 9,
   "metadata": {},
   "outputs": [
    {
     "ename": "ValueError",
     "evalue": "not enough values to unpack (expected 2, got 0)",
     "output_type": "error",
     "traceback": [
      "\u001b[31m---------------------------------------------------------------------------\u001b[39m",
      "\u001b[31mValueError\u001b[39m                                Traceback (most recent call last)",
      "\u001b[36mCell\u001b[39m\u001b[36m \u001b[39m\u001b[32mIn[9]\u001b[39m\u001b[32m, line 6\u001b[39m\n\u001b[32m      3\u001b[39m reader = csv.reader(f)\n\u001b[32m      5\u001b[39m game_level={}\n\u001b[32m----> \u001b[39m\u001b[32m6\u001b[39m \u001b[38;5;28;01mfor\u001b[39;00m name, level \u001b[38;5;129;01min\u001b[39;00m reader:\n\u001b[32m      7\u001b[39m     game_level[name]= \u001b[38;5;28mint\u001b[39m(level)\n\u001b[32m      9\u001b[39m \u001b[38;5;28mprint\u001b[39m(game_level)\n",
      "\u001b[31mValueError\u001b[39m: not enough values to unpack (expected 2, got 0)"
     ]
    }
   ],
   "source": [
    "#read file\n",
    "with open (\"game_level.csv\", \"r\") as f:\n",
    "    reader = csv.reader(f)\n",
    "\n",
    "    game_level={}\n",
    "    for name, level in reader:\n",
    "        game_level[name]= int(level)\n",
    "\n",
    "    print(game_level)"
   ]
  },
  {
   "cell_type": "code",
   "execution_count": 8,
   "metadata": {},
   "outputs": [],
   "source": [
    "#json\n",
    "#express obj in string\n",
    "# can use also data in dict, list of dict type\n",
    "#must import json\n",
    "#import ujson as json\n",
    "\n",
    "import json\n",
    "\n",
    "grade_student = [\n",
    "    {\"name\": \"안나\", \"kor\":90, \"eng\": 80, \"math\": 85},\n",
    "    {\"name\": \"아민\", \"kor\":84, \"eng\": 89, \"math\": 80},\n",
    "    {\"name\": \"아리\", \"kor\":85, \"eng\": 85, \"math\": 67},\n",
    "    {\"name\": \"하나\", \"kor\":70, \"eng\": 76, \"math\": 34},\n",
    "    {\"name\": \"다리\", \"kor\":80, \"eng\": 90, \"math\": 86},\n",
    "]\n",
    "\n",
    "#with open (\"student.json\", \"w\") as f:\n",
    "    #ensure ascii false to get hangul\n",
    "    #indent2 to get item by line\n",
    "    #json.dump(grade, f, ensure_ascii=False, indent=2)\n",
    "\n",
    "#with open (\"student\", \"r\") as f:\n",
    "    #game_level = json.load(f)"
   ]
  },
  {
   "cell_type": "code",
   "execution_count": 9,
   "metadata": {},
   "outputs": [],
   "source": [
    "with open (\"student.json\", \"w\") as f:\n",
    "    #ensure ascii false to get hangul\n",
    "    #indent2 to get item by line\n",
    "    json.dump(grade_student, f, ensure_ascii=False, indent=2)"
   ]
  },
  {
   "cell_type": "code",
   "execution_count": null,
   "metadata": {},
   "outputs": [],
   "source": [
    "#save json dict type\n",
    "\n",
    "import json\n",
    "\n",
    "with open (\"student_grade.json\", \"w\") as f:\n",
    "    for grades in grade:\n",
    "        f.write(json.dumps(grade, ensure_ascii=False) + \"\\n\")\n",
    "\n",
    "with open (\"student_grade.json\", \"r\") as f:\n",
    "    student_grade =[]\n",
    "    for line in f.readlines():\n",
    "        student_grade.append(json.loads(line))"
   ]
  },
  {
   "cell_type": "code",
   "execution_count": null,
   "metadata": {},
   "outputs": [],
   "source": [
    "#pickle\n",
    "#have module obj\n",
    "#can serialize and deserialize\n",
    "#read n write data in binary\n",
    "\n",
    "import pickle\n",
    "\n",
    "data = {  #dict type data\n",
    "    'name': 'anna', \n",
    "    'age' : 23,\n",
    "    'city' : 'chuncheon'\n",
    "}\n",
    "\n",
    "with open('data.pkl', 'wb') as f: \n",
    "    pickle.dump(data,f)\n",
    "\n",
    "with open('data.pkl', \"rb\") as f:\n",
    "    loaded_data = pickle.load(f)\n",
    "\n",
    "print(loaded_data) #print data\n"
   ]
  },
  {
   "cell_type": "code",
   "execution_count": null,
   "metadata": {},
   "outputs": [],
   "source": [
    "#return data in byte/binary\n",
    "serialized_data  = pickle.dumps(data)\n",
    "\n",
    "#return data into ori type\n",
    "deserialized_data = pickle.loads(serialized_data)\n",
    "\n",
    "print(deserialized_data) #print data"
   ]
  },
  {
   "cell_type": "code",
   "execution_count": null,
   "metadata": {},
   "outputs": [],
   "source": [
    "import random \n",
    "from time import perf_counter\n",
    "\n",
    "total_num =100_000_000\n",
    "random_num = [random.random() for _ in range(total_num)]\n",
    "\n",
    "start = perf_counter()\n",
    "with open(\"random_num.json\", \"w\") as f:\n",
    "    json.dump(random_num, f)\n",
    "\n",
    "print(f\"write time: {perf_counter()- start:.2f}s\")"
   ]
  },
  {
   "cell_type": "code",
   "execution_count": null,
   "metadata": {},
   "outputs": [],
   "source": [
    "import pickle\n",
    "\n",
    "class Person:\n",
    "    def __init__(self, name, age):\n",
    "        self.name =name\n",
    "        self.age = age\n",
    "\n",
    "    def __repr__(self):\n",
    "        return f'person(name={self.name}, age={self.age})'\n",
    "    \n",
    "\n",
    "#make obj\n",
    "p = Person('anna', 23)\n",
    "\n",
    "#save in file\n",
    "with open('person.pkl', 'wb') as f:\n",
    "    pickle.dump(p,f)\n",
    "\n",
    "#load in file\n",
    "with open('person.pkl', 'rb') as f:\n",
    "    loaded_p = pickle.load(f)\n",
    "\n",
    "print(loaded_p) #print person data"
   ]
  },
  {
   "cell_type": "code",
   "execution_count": 12,
   "metadata": {},
   "outputs": [],
   "source": [
    "import pickle\n",
    "#pickle is not safe compare to others\n",
    "#need to run use linux, coz cannot use window\n",
    "class HiddenAttack:\n",
    "    def __init__(self):\n",
    "        self.data =\"safe data\"\n",
    "\n",
    "    def __reduce__(self):\n",
    "        import os\n",
    "        return (os.system, (\"echo 'you have been hacked!'\",))\n",
    "    \n",
    "with open(\"hidden_attack.pkl\", \"wb\") as f:\n",
    "    pickle.dump(HiddenAttack(), f)\n",
    "\n",
    "with open(\"hidden_attack.pkl\", \"rb\") as f:\n",
    "    obj = pickle.load(f) #print u have been hacked!"
   ]
  }
 ],
 "metadata": {
  "kernelspec": {
   "display_name": "myenv",
   "language": "python",
   "name": "python3"
  },
  "language_info": {
   "codemirror_mode": {
    "name": "ipython",
    "version": 3
   },
   "file_extension": ".py",
   "mimetype": "text/x-python",
   "name": "python",
   "nbconvert_exporter": "python",
   "pygments_lexer": "ipython3",
   "version": "3.13.2"
  }
 },
 "nbformat": 4,
 "nbformat_minor": 2
}
