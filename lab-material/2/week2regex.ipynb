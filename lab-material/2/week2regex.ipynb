{
 "cells": [
  {
   "cell_type": "code",
   "execution_count": 3,
   "metadata": {},
   "outputs": [
    {
     "name": "stdout",
     "output_type": "stream",
     "text": [
      "\n",
      "park 800905-*******\n",
      "kim 700905-*******\n",
      "\n"
     ]
    },
    {
     "name": "stderr",
     "output_type": "stream",
     "text": [
      "<>:8: SyntaxWarning: invalid escape sequence '\\d'\n",
      "<>:9: SyntaxWarning: invalid escape sequence '\\g'\n",
      "<>:8: SyntaxWarning: invalid escape sequence '\\d'\n",
      "<>:9: SyntaxWarning: invalid escape sequence '\\g'\n",
      "C:\\Users\\user\\AppData\\Local\\Temp\\ipykernel_23644\\284481944.py:8: SyntaxWarning: invalid escape sequence '\\d'\n",
      "  pat = re.compile(\"(\\d{6})[-]\\d{7}\")\n",
      "C:\\Users\\user\\AppData\\Local\\Temp\\ipykernel_23644\\284481944.py:9: SyntaxWarning: invalid escape sequence '\\g'\n",
      "  print(pat.sub(\"\\g<1>-*******\", data))\n"
     ]
    }
   ],
   "source": [
    "import re\n",
    "\n",
    "data = \"\"\"\n",
    "park 800905-1049118\n",
    "kim 700905-1059119\n",
    "\"\"\"\n",
    "\n",
    "pat = re.compile(\"(\\d{6})[-]\\d{7}\")\n",
    "print(pat.sub(\"\\g<1>-*******\", data))"
   ]
  },
  {
   "cell_type": "code",
   "execution_count": 3,
   "metadata": {},
   "outputs": [],
   "source": [
    "import re\n",
    "\n",
    "text = \"hi my id card number is 123456-567890\"\n",
    "\n",
    "pattern = re.compile(r\"(\\d{6})-(\\d{7})\", re.IGNORECASE)\n",
    "searched_result = pattern.search(text)\n",
    "\n"
   ]
  },
  {
   "cell_type": "code",
   "execution_count": 4,
   "metadata": {},
   "outputs": [
    {
     "ename": "AttributeError",
     "evalue": "'NoneType' object has no attribute 'group'",
     "output_type": "error",
     "traceback": [
      "\u001b[31m---------------------------------------------------------------------------\u001b[39m",
      "\u001b[31mAttributeError\u001b[39m                            Traceback (most recent call last)",
      "\u001b[36mCell\u001b[39m\u001b[36m \u001b[39m\u001b[32mIn[4]\u001b[39m\u001b[32m, line 1\u001b[39m\n\u001b[32m----> \u001b[39m\u001b[32m1\u001b[39m \u001b[38;5;28mprint\u001b[39m(\u001b[43msearched_result\u001b[49m\u001b[43m.\u001b[49m\u001b[43mgroup\u001b[49m())\n\u001b[32m      2\u001b[39m \u001b[38;5;28mprint\u001b[39m(searched_result.group(\u001b[32m1\u001b[39m))\n\u001b[32m      3\u001b[39m \u001b[38;5;28mprint\u001b[39m(searched_result.group(\u001b[32m2\u001b[39m))\n",
      "\u001b[31mAttributeError\u001b[39m: 'NoneType' object has no attribute 'group'"
     ]
    }
   ],
   "source": [
    "print(searched_result.group())\n",
    "print(searched_result.group(1))\n",
    "print(searched_result.group(2))\n",
    "print(searched_result.groups())\n"
   ]
  },
  {
   "cell_type": "code",
   "execution_count": 23,
   "metadata": {},
   "outputs": [
    {
     "name": "stdout",
     "output_type": "stream",
     "text": [
      "None\n",
      "<re.Match object; span=(15, 28), match='010-1234-1234'>\n",
      "['010-1234-1234', '010-5678-0987']\n",
      "<callable_iterator object at 0x0000020B093D1BA0>\n",
      "<re.Match object; span=(15, 28), match='010-1234-1234'>\n",
      "<re.Match object; span=(30, 43), match='010-5678-0987'>\n"
     ]
    }
   ],
   "source": [
    "import re\n",
    "\n",
    "\n",
    "text = \"안녕하세요. 제 전화번호는 010-1234-1234, 010-5678-0987입니다.\"\n",
    "\n",
    "pattern = re.compile(r\"\\d{3}-\\d{4}-\\d{4}\")\n",
    "\n",
    "print(pattern.match(text))\n",
    "print(pattern.search(text))\n",
    "print(pattern.findall(text))\n",
    "print(pattern.finditer(text))\n",
    "\n",
    "for match in pattern.finditer(text):\n",
    "    print(match)"
   ]
  },
  {
   "cell_type": "code",
   "execution_count": 26,
   "metadata": {},
   "outputs": [
    {
     "name": "stdout",
     "output_type": "stream",
     "text": [
      "전화번호: 010-1234-1234, 010-7890-7654, 010-6789-1234\n",
      "전화번호: 010-3333-4444 010-5555-8888\n"
     ]
    }
   ],
   "source": [
    "import re\n",
    "\n",
    "phone_line =\"\"\" \n",
    "전화번호: 010-1234-1234, 010 7890 7654, +82)010-6789-1234\n",
    "전화번호: +82)010 3333 4444 +82) 010 5555 8888\n",
    "\"\"\".strip()\n",
    "\n",
    "pattern = re.compile(r\"(\\+82\\) ?)?(\\d{3})[- ](\\d{4})[- ](\\d{4})\", re.MULTILINE)\n",
    "\n",
    "phone_line= pattern.sub(r\"\\2-\\3-\\4\", phone_line)\n",
    "print(phone_line)"
   ]
  }
 ],
 "metadata": {
  "kernelspec": {
   "display_name": "Python 3",
   "language": "python",
   "name": "python3"
  },
  "language_info": {
   "codemirror_mode": {
    "name": "ipython",
    "version": 3
   },
   "file_extension": ".py",
   "mimetype": "text/x-python",
   "name": "python",
   "nbconvert_exporter": "python",
   "pygments_lexer": "ipython3",
   "version": "3.13.2"
  }
 },
 "nbformat": 4,
 "nbformat_minor": 2
}
