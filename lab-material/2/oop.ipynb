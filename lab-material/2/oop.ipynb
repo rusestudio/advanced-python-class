{
 "cells": [
  {
   "cell_type": "code",
   "execution_count": 27,
   "metadata": {},
   "outputs": [],
   "source": [
    "from typing import List, Optional\n",
    "from random import randint, random"
   ]
  },
  {
   "cell_type": "code",
   "execution_count": null,
   "metadata": {},
   "outputs": [],
   "source": [
    "class VendingMachine:\n",
    "    price = 100_000\n",
    "    drink_prices = {\"콜라\": 500, \"커피\": 800}\n",
    "\n",
    "    def __init__(self, machine_id: int):\n",
    "        self.machine_id = machine_id\n",
    "        self.drink_num = {drink: 0 for drink in self.drink_prices.keys()}\n",
    "\n",
    "        self.money = 0\n",
    "\n",
    "    def return_money(self):\n",
    "        # 현재 투입된 돈을 반환하고, 현재 투입된 돈을 0으로 초기화합니다.\n",
    "        current_money = self.money\n",
    "        self.money = 0\n",
    "        return current_money\n",
    "\n",
    "    def sell_drink(self, drink: str, money: int) -> Optional[str]:\n",
    "        if self.drink_num[drink] > 0 and self.drink_prices[drink] == money:\n",
    "            # 음료수를 판매하고, 음료수의 이름을 반환합니다.\n",
    "            self.drink_num[drink] -= 1\n",
    "            self.money += money\n",
    "\n",
    "            return drink\n",
    "        else:\n",
    "            raise ValueError(\"받은 금액이 음료수의 가격과 다르거나, 해당 음료수가 없습니다.\")\n",
    "\n",
    "    def get_drink(self, drink: str, num: int):\n",
    "        self.drink_num[drink] += num\n",
    "\n",
    "    def print_drinks(self):\n",
    "        for (drink, price), num in zip(\n",
    "            self.drink_prices.items(), self.drink_num.values()\n",
    "        ):\n",
    "            print(\n",
    "                f\"{self.machine_id} 자판기의 {drink}의 가격은 {price}이고 현재 {num}개 남았습니다.\"\n",
    "            )"
   ]
  },
  {
   "cell_type": "code",
   "execution_count": null,
   "metadata": {},
   "outputs": [],
   "source": [
    "class Boss:\n",
    "    def __init__(self, name: str, value: int):\n",
    "        self.name = name\n",
    "        self.value = value\n",
    "\n",
    "        self.machines: List[VendingMachine] = []\n",
    "\n",
    "    def buy_machine(self, machine_id: int):\n",
    "        if self.value >= VendingMachine.price:\n",
    "            # 자판기를 살 수 있는 만큼 돈이 있으면 자판기를 삽니다.\n",
    "            self.value -= VendingMachine.price\n",
    "\n",
    "            # 사장은 자판기를 삽니다.\n",
    "            machine = VendingMachine(machine_id)\n",
    "\n",
    "            # 사장이 산 자판기를 저장합니다.\n",
    "            self.machines.append(machine)\n",
    "            print(f\"{self.name}은 {machine_id} 자판기를 샀습니다.\")\n",
    "            return machine\n",
    "        else:\n",
    "            print(f\"{self.name}은 현재 자판기를 살 돈이 부족합니다.\")\n",
    "            return None\n",
    "        \n",
    "    def add_drink(self, machine: VendingMachine, drink_type: str, num_drink: int):\n",
    "        drink_price = machine.drink_prices[drink_type]\n",
    "        total_price = drink_price * num_drink\n",
    "        if self.value >= total_price:\n",
    "            machine.get_drink(drink_type, num_drink)\n",
    "            self.value -= total_price\n",
    "            print(f\"{self.name}은 {machine.machine_id} 자판기에 {drink_type} {num_drink}개를 넣었습니다.\")\n",
    "        else:\n",
    "            print(f\"{self.name}은 현재 음료수를 넣을 돈이 부족합니다. 현재 {self.value}원이 있습니다.\")\n",
    "\n",
    "    def get_money_from_machine(self):\n",
    "        for machine in self.machines:\n",
    "            self.value += machine.return_money()\n",
    "            \n",
    "    def print_value(self):\n",
    "        print(f\"{self.name}은 현재 {self.value}원이 있습니다.\")"
   ]
  },
  {
   "cell_type": "code",
   "execution_count": 60,
   "metadata": {},
   "outputs": [],
   "source": [
    "class Customer:\n",
    "    def __init__(self, name: str, value: int):\n",
    "        self.name = name\n",
    "        self.value = value\n",
    "\n",
    "    def buy_drink(self, machine: VendingMachine, drink: str):\n",
    "        drink_price = machine.drink_prices[drink]\n",
    "        \n",
    "        if self.value >= drink_price:\n",
    "            try:\n",
    "                drink = machine.sell_drink(drink, drink_price)\n",
    "                self.value -= drink_price\n",
    "                print(f\"{self.name}은 {drink}를 샀습니다. 현재 {self.value}원이 있습니다.\")\n",
    "            except ValueError as e:\n",
    "                print(e)\n",
    "        else:\n",
    "            print(f\"{self.name}은 현재 음료수를 살 돈이 부족합니다. 현재 {self.value}원이 있습니다.\")"
   ]
  },
  {
   "cell_type": "code",
   "execution_count": 61,
   "metadata": {},
   "outputs": [
    {
     "name": "stdout",
     "output_type": "stream",
     "text": [
      "김사장은 0 자판기를 샀습니다.\n",
      "김사장은 0 자판기에 콜라 18개를 넣었습니다.\n",
      "김사장은 0 자판기에 커피 15개를 넣었습니다.\n",
      "김사장은 1 자판기를 샀습니다.\n",
      "김사장은 1 자판기에 콜라 16개를 넣었습니다.\n",
      "김사장은 1 자판기에 커피 9개를 넣었습니다.\n",
      "김사장은 2 자판기를 샀습니다.\n",
      "김사장은 2 자판기에 콜라 18개를 넣었습니다.\n",
      "김사장은 2 자판기에 커피 9개를 넣었습니다.\n",
      "김사장은 3 자판기를 샀습니다.\n",
      "김사장은 3 자판기에 콜라 17개를 넣었습니다.\n",
      "김사장은 3 자판기에 커피 9개를 넣었습니다.\n",
      "김사장은 4 자판기를 샀습니다.\n",
      "김사장은 4 자판기에 콜라 7개를 넣었습니다.\n",
      "김사장은 4 자판기에 커피 19개를 넣었습니다.\n",
      "김사장은 5 자판기를 샀습니다.\n",
      "김사장은 5 자판기에 콜라 7개를 넣었습니다.\n",
      "김사장은 5 자판기에 커피 18개를 넣었습니다.\n",
      "김사장은 6 자판기를 샀습니다.\n",
      "김사장은 6 자판기에 콜라 19개를 넣었습니다.\n",
      "김사장은 6 자판기에 커피 9개를 넣었습니다.\n",
      "김사장은 7 자판기를 샀습니다.\n",
      "김사장은 7 자판기에 콜라 9개를 넣었습니다.\n",
      "김사장은 7 자판기에 커피 10개를 넣었습니다.\n",
      "김사장은 8 자판기를 샀습니다.\n",
      "김사장은 8 자판기에 콜라 19개를 넣었습니다.\n",
      "김사장은 8 자판기에 커피 11개를 넣었습니다.\n",
      "김사장은 9 자판기를 샀습니다.\n",
      "김사장은 9 자판기에 콜라 14개를 넣었습니다.\n",
      "김사장은 9 자판기에 커피 20개를 넣었습니다.\n",
      "김사장은 현재 324800원이 있습니다.\n"
     ]
    }
   ],
   "source": [
    "boss = Boss(\"김사장\", 1_500_000)\n",
    "machines: List[VendingMachine] = []\n",
    "\n",
    "# 사장은 10대의 자판기를 삽니다.\n",
    "for i in range(10):\n",
    "    machine = boss.buy_machine(i)\n",
    "    boss.add_drink(machine, \"콜라\", randint(5, 20))\n",
    "    boss.add_drink(machine, \"커피\", randint(5, 20))\n",
    "    # 자판기들을 machines에 저장합니다.\n",
    "    machines.append(machine)\n",
    "\n",
    "boss.print_value()"
   ]
  },
  {
   "cell_type": "code",
   "execution_count": 62,
   "metadata": {},
   "outputs": [
    {
     "name": "stdout",
     "output_type": "stream",
     "text": [
      "손님_0은 현재 음료수를 살 돈이 부족합니다. 현재 621원이 있습니다.\n",
      "손님_1은 현재 음료수를 살 돈이 부족합니다. 현재 277원이 있습니다.\n",
      "손님_2은 현재 음료수를 살 돈이 부족합니다. 현재 304원이 있습니다.\n",
      "손님_3은 현재 음료수를 살 돈이 부족합니다. 현재 387원이 있습니다.\n",
      "손님_4은 현재 음료수를 살 돈이 부족합니다. 현재 504원이 있습니다.\n",
      "손님_5은 커피를 샀습니다. 현재 71원이 있습니다.\n",
      "손님_6은 커피를 샀습니다. 현재 78원이 있습니다.\n",
      "손님_7은 커피를 샀습니다. 현재 190원이 있습니다.\n",
      "손님_8은 현재 음료수를 살 돈이 부족합니다. 현재 321원이 있습니다.\n",
      "손님_9은 커피를 샀습니다. 현재 43원이 있습니다.\n"
     ]
    }
   ],
   "source": [
    "customers = [Customer(f\"손님_{i}\", randint(100, 1000)) for i in range(10)]\n",
    "\n",
    "for customer in customers:\n",
    "    machine = machines[randint(0, 9)]\n",
    "\n",
    "    # 30% 확률로 콜라를 사고, 70% 확률로 커피를 삽니다.\n",
    "    if random() < 0.3:\n",
    "        customer.buy_drink(machine, \"콜라\")\n",
    "    else:\n",
    "        customer.buy_drink(machine, \"커피\")"
   ]
  },
  {
   "cell_type": "code",
   "execution_count": 63,
   "metadata": {},
   "outputs": [
    {
     "name": "stdout",
     "output_type": "stream",
     "text": [
      "0 자판기의 콜라의 가격은 500이고 현재 18개 남았습니다.\n",
      "0 자판기의 커피의 가격은 800이고 현재 14개 남았습니다.\n",
      "1 자판기의 콜라의 가격은 500이고 현재 16개 남았습니다.\n",
      "1 자판기의 커피의 가격은 800이고 현재 9개 남았습니다.\n",
      "2 자판기의 콜라의 가격은 500이고 현재 18개 남았습니다.\n",
      "2 자판기의 커피의 가격은 800이고 현재 8개 남았습니다.\n",
      "3 자판기의 콜라의 가격은 500이고 현재 17개 남았습니다.\n",
      "3 자판기의 커피의 가격은 800이고 현재 8개 남았습니다.\n",
      "4 자판기의 콜라의 가격은 500이고 현재 7개 남았습니다.\n",
      "4 자판기의 커피의 가격은 800이고 현재 18개 남았습니다.\n",
      "5 자판기의 콜라의 가격은 500이고 현재 7개 남았습니다.\n",
      "5 자판기의 커피의 가격은 800이고 현재 18개 남았습니다.\n",
      "6 자판기의 콜라의 가격은 500이고 현재 19개 남았습니다.\n",
      "6 자판기의 커피의 가격은 800이고 현재 9개 남았습니다.\n",
      "7 자판기의 콜라의 가격은 500이고 현재 9개 남았습니다.\n",
      "7 자판기의 커피의 가격은 800이고 현재 10개 남았습니다.\n",
      "8 자판기의 콜라의 가격은 500이고 현재 19개 남았습니다.\n",
      "8 자판기의 커피의 가격은 800이고 현재 11개 남았습니다.\n",
      "9 자판기의 콜라의 가격은 500이고 현재 14개 남았습니다.\n",
      "9 자판기의 커피의 가격은 800이고 현재 20개 남았습니다.\n"
     ]
    }
   ],
   "source": [
    "for machine in machines:\n",
    "    machine.print_drinks()"
   ]
  },
  {
   "cell_type": "code",
   "execution_count": 64,
   "metadata": {},
   "outputs": [
    {
     "name": "stdout",
     "output_type": "stream",
     "text": [
      "328000\n"
     ]
    }
   ],
   "source": [
    "boss.get_money_from_machine()\n",
    "print(boss.value)"
   ]
  }
 ],
 "metadata": {
  "kernelspec": {
   "display_name": "py12",
   "language": "python",
   "name": "python3"
  },
  "language_info": {
   "codemirror_mode": {
    "name": "ipython",
    "version": 3
   },
   "file_extension": ".py",
   "mimetype": "text/x-python",
   "name": "python",
   "nbconvert_exporter": "python",
   "pygments_lexer": "ipython3",
   "version": "3.12.9"
  }
 },
 "nbformat": 4,
 "nbformat_minor": 2
}
