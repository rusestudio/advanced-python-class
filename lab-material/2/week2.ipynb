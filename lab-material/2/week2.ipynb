{
 "cells": [
  {
   "cell_type": "code",
   "execution_count": 1,
   "metadata": {},
   "outputs": [
    {
     "name": "stdout",
     "output_type": "stream",
     "text": [
      "3\n",
      "[2, 3]\n",
      "[1, 3, 5]\n"
     ]
    }
   ],
   "source": [
    "#list\n",
    "\n",
    "a = [1,2,3,4,5]\n",
    "b =[]\n",
    "c =['i','love', 'you']\n",
    "d =['i', 'love','you', 3000 ] #deff data can\n",
    "\n",
    "#indexing, slicing list\n",
    "print(a[2])\n",
    "print(a[1:3])\n",
    "print(a[::2])"
   ]
  },
  {
   "cell_type": "code",
   "execution_count": null,
   "metadata": {},
   "outputs": [
    {
     "name": "stdout",
     "output_type": "stream",
     "text": [
      "[1, 2, 3, 4, 5, 1, 2, 3, 4, 5]\n",
      "[1, 2, 3, 4, 5, 1, 2, 3, 4, 5]\n",
      "5\n",
      "[1, 2, 4, 4, 5]\n",
      "[1, 4, 4, 5]\n"
     ]
    }
   ],
   "source": [
    "a = [1,2,3,4,5]\n",
    "b = [1,2,3,4,5]\n",
    "print(a+b)\n",
    "print(a*2)\n",
    "print(len(a))\n",
    "\n",
    "b[2] = 4 # change val at index 2\n",
    "print(b)\n",
    "\n",
    "del b[1] #del val at index 1\n",
    "print(b)"
   ]
  },
  {
   "cell_type": "code",
   "execution_count": null,
   "metadata": {},
   "outputs": [
    {
     "name": "stdout",
     "output_type": "stream",
     "text": [
      "[1, 2, 10, 3, 4, 5]\n",
      "10\n",
      "5\n"
     ]
    }
   ],
   "source": [
    "#insert n pop\n",
    "a = [1,2,3,4,5]\n",
    "a.insert(2,10) #add 10 at index 2\n",
    "print(a)\n",
    "b = a.pop(2) # take val at index 2\n",
    "c = a.pop()  # take first element from back\n",
    "print(b)\n",
    "print(c)"
   ]
  },
  {
   "cell_type": "code",
   "execution_count": 6,
   "metadata": {},
   "outputs": [
    {
     "name": "stdout",
     "output_type": "stream",
     "text": [
      "[1, 2, 3, 4, 5, 8, [9, 10]]\n",
      "[1, 2, 3, 4, 5, 8, [9, 10], 9, 10]\n"
     ]
    }
   ],
   "source": [
    "#append n extend\n",
    "a = [1,2,3,4,5]\n",
    "a.append(8) # add 8 in list\n",
    "a.append([9,10])  #cannot use this to put 2 number \n",
    "# coz it gonna be array instead use extend\n",
    "print(a)\n",
    "\n",
    "a.extend([9,10])\n",
    "print(a)"
   ]
  },
  {
   "cell_type": "code",
   "execution_count": 5,
   "metadata": {},
   "outputs": [
    {
     "name": "stdout",
     "output_type": "stream",
     "text": [
      "<built-in method sort of list object at 0x0000013BE362C840>\n"
     ]
    },
    {
     "ename": "TypeError",
     "evalue": "object of type 'int' has no len()",
     "output_type": "error",
     "traceback": [
      "\u001b[31m---------------------------------------------------------------------------\u001b[39m",
      "\u001b[31mTypeError\u001b[39m                                 Traceback (most recent call last)",
      "\u001b[36mCell\u001b[39m\u001b[36m \u001b[39m\u001b[32mIn[5]\u001b[39m\u001b[32m, line 5\u001b[39m\n\u001b[32m      2\u001b[39m a.sort\n\u001b[32m      3\u001b[39m \u001b[38;5;28mprint\u001b[39m(a.sort)\n\u001b[32m----> \u001b[39m\u001b[32m5\u001b[39m \u001b[38;5;28mprint\u001b[39m(\u001b[38;5;28;43msorted\u001b[39;49m\u001b[43m(\u001b[49m\u001b[43ma\u001b[49m\u001b[43m,\u001b[49m\u001b[43m \u001b[49m\u001b[43mkey\u001b[49m\u001b[43m=\u001b[49m\u001b[38;5;28;43;01mlambda\u001b[39;49;00m\u001b[43m \u001b[49m\u001b[43mx\u001b[49m\u001b[43m:\u001b[49m\u001b[38;5;28;43mlen\u001b[39;49m\u001b[43m(\u001b[49m\u001b[43mx\u001b[49m\u001b[43m)\u001b[49m\u001b[43m)\u001b[49m)\n",
      "\u001b[36mCell\u001b[39m\u001b[36m \u001b[39m\u001b[32mIn[5]\u001b[39m\u001b[32m, line 5\u001b[39m, in \u001b[36m<lambda>\u001b[39m\u001b[34m(x)\u001b[39m\n\u001b[32m      2\u001b[39m a.sort\n\u001b[32m      3\u001b[39m \u001b[38;5;28mprint\u001b[39m(a.sort)\n\u001b[32m----> \u001b[39m\u001b[32m5\u001b[39m \u001b[38;5;28mprint\u001b[39m(\u001b[38;5;28msorted\u001b[39m(a, key=\u001b[38;5;28;01mlambda\u001b[39;00m x:\u001b[38;5;28;43mlen\u001b[39;49m\u001b[43m(\u001b[49m\u001b[43mx\u001b[49m\u001b[43m)\u001b[49m))\n",
      "\u001b[31mTypeError\u001b[39m: object of type 'int' has no len()"
     ]
    }
   ],
   "source": [
    "a=[3,4,5,6,1]\n",
    "a.sort\n",
    "print(a.sort)\n",
    "\n",
    "print(sorted(a, key=lambda x:len(x)))"
   ]
  },
  {
   "cell_type": "code",
   "execution_count": null,
   "metadata": {},
   "outputs": [
    {
     "ename": "TypeError",
     "evalue": "'tuple' object doesn't support item deletion",
     "output_type": "error",
     "traceback": [
      "\u001b[31m---------------------------------------------------------------------------\u001b[39m",
      "\u001b[31mTypeError\u001b[39m                                 Traceback (most recent call last)",
      "\u001b[36mCell\u001b[39m\u001b[36m \u001b[39m\u001b[32mIn[6]\u001b[39m\u001b[32m, line 3\u001b[39m\n\u001b[32m      1\u001b[39m \u001b[38;5;66;03m#tuple\u001b[39;00m\n\u001b[32m      2\u001b[39m t1 = (\u001b[32m1\u001b[39m,\u001b[32m2\u001b[39m, \u001b[33m'\u001b[39m\u001b[33ma\u001b[39m\u001b[33m'\u001b[39m, \u001b[33m'\u001b[39m\u001b[33mb\u001b[39m\u001b[33m'\u001b[39m)\n\u001b[32m----> \u001b[39m\u001b[32m3\u001b[39m \u001b[38;5;28;01mdel\u001b[39;00m \u001b[43mt1\u001b[49m\u001b[43m[\u001b[49m\u001b[32;43m0\u001b[39;49m\u001b[43m]\u001b[49m\n\u001b[32m      4\u001b[39m \u001b[38;5;28mprint\u001b[39m(t1)\n",
      "\u001b[31mTypeError\u001b[39m: 'tuple' object doesn't support item deletion"
     ]
    }
   ],
   "source": [
    "#tuple\n",
    "t1 = (1,2, 'a', 'b')\n",
    "t1 =(1,) #to make tuple val with 1 muast put (1,)\n",
    "del t1[0]\n",
    "print(t1)"
   ]
  },
  {
   "cell_type": "code",
   "execution_count": 7,
   "metadata": {},
   "outputs": [
    {
     "name": "stdout",
     "output_type": "stream",
     "text": [
      "56\n",
      "64\n",
      "72\n",
      "40\n",
      "48\n",
      "56\n",
      "416\n"
     ]
    }
   ],
   "source": [
    "#get size of\n",
    "import sys\n",
    "\n",
    "print(sys.getsizeof([]))\n",
    "print(sys.getsizeof([1]))\n",
    "print(sys.getsizeof([1,2]))\n",
    "\n",
    "print(sys.getsizeof(()))\n",
    "print(sys.getsizeof((1,)))\n",
    "print(sys.getsizeof((1,2)))\n",
    "\n",
    "print(sys.getsizeof(type(int)))"
   ]
  },
  {
   "cell_type": "code",
   "execution_count": null,
   "metadata": {},
   "outputs": [
    {
     "name": "stdout",
     "output_type": "stream",
     "text": [
      "1\n",
      "6\n",
      "[2, 3, 4, 5, 6]\n",
      "[1, 2, 3, 4, 5, 6]\n",
      "[1, 2, 3, 4, 5, 6]\n",
      "[1, 2, 3, 4, 5, 6]\n"
     ]
    }
   ],
   "source": [
    "#unpacking \n",
    "a=[1,2,3,4,5,6]\n",
    "\n",
    "first_num = a[0] #normal way\n",
    "last_num = a[-1]\n",
    "rest_num = a[1:]\n",
    "print(first_num)\n",
    "print(last_num)\n",
    "print(rest_num)\n",
    "\n",
    "first_num, *rest_num = a \n",
    "print(a)\n",
    "\n",
    "first_num, *rest_num, last_num =a\n",
    "print(a)\n",
    "\n",
    "#packing\n",
    "first_num, rest_num, last_num =a\n",
    "print(a)"
   ]
  },
  {
   "cell_type": "code",
   "execution_count": 16,
   "metadata": {},
   "outputs": [
    {
     "name": "stdout",
     "output_type": "stream",
     "text": [
      "{'l', 'h', 'e', 'o'}\n",
      "{4, 5, 6}\n",
      "{4, 5, 6}\n",
      "{1, 2, 3, 4, 5, 6, 7, 8, 9}\n",
      "{1, 2, 3, 4, 5, 6, 7, 8, 9}\n",
      "{1, 2, 3}\n",
      "{1, 2, 3}\n",
      "{1, 2, 3, 4}\n",
      "{1, 2, 3, 4, 5, 6}\n"
     ]
    }
   ],
   "source": [
    "#set\n",
    "s2 = set(\"hello\")\n",
    "print(s2)  #no reapeat no 순서\n",
    "\n",
    "sa = set([1,2,3,4,5,6])\n",
    "sb = set([4,5,6,7,8,9])\n",
    "\n",
    "print(sa &sb)\n",
    "print(sa.intersection(sb))\n",
    "\n",
    "print(sa | sb)\n",
    "print(sa.union(sb))\n",
    "\n",
    "print(sa - sb)\n",
    "print(sa.difference(sb))\n",
    "\n",
    "#set - add,update, remove\n",
    "s3 = set([1,2,3])\n",
    "s3.add(4)\n",
    "print(s3)\n",
    "\n",
    "s3.update([4,5,6])\n",
    "print(s3)"
   ]
  },
  {
   "cell_type": "code",
   "execution_count": 21,
   "metadata": {},
   "outputs": [
    {
     "name": "stdout",
     "output_type": "stream",
     "text": [
      "[0, 1, 2, 3, 4, 5, 6, 7, 8, 9]\n",
      "{0, 1, 2, 3, 4, 5, 6, 7, 8, 9}\n"
     ]
    }
   ],
   "source": [
    "#to check in or not in list\n",
    "#a = [30]\n",
    "a=list(range(10))\n",
    "print(a)\n",
    "\n",
    "#to check in or not in list(more fast use set)\n",
    "a=set(range(10))\n",
    "print(a)"
   ]
  },
  {
   "cell_type": "code",
   "execution_count": 2,
   "metadata": {},
   "outputs": [
    {
     "name": "stdout",
     "output_type": "stream",
     "text": [
      "dict_keys(['name', 'phone', 'birth'])\n",
      "dict_values(['ali', '01232', '2000'])\n",
      "dict_items([('name', 'ali'), ('phone', '01232'), ('birth', '2000')])\n",
      "None\n",
      "no id\n",
      "{'name': 'ali', 'phone': '01232', 'birth': '2000', 'id': 90, 'add': 'sk'}\n"
     ]
    }
   ],
   "source": [
    "#dictionary 'key':'value'\n",
    "dic = {'name': 'ali', 'phone': '01232', 'birth': '2000'}\n",
    "print(dic.keys())\n",
    "print(dic.values())\n",
    "print(dic.items())\n",
    "'name' in dic\n",
    "'email' in dic\n",
    "\n",
    "print(dic.get('nokey')) #to get val not in list w/o having error\n",
    "print(dic.get(\"id\", \"no id\"))\n",
    "\n",
    "dic.update({\"id\": 90})\n",
    "dic.update(add=\"sk\")\n",
    "print(dic)\n"
   ]
  },
  {
   "cell_type": "code",
   "execution_count": 6,
   "metadata": {},
   "outputs": [
    {
     "name": "stdout",
     "output_type": "stream",
     "text": [
      "[3, 6, 9, 12]\n",
      "[6, 12]\n",
      "{2, 4, 6}\n",
      "(2, 4, 6)\n",
      "{'ali': 100, 'ana': 90, 'amin': 80}\n"
     ]
    }
   ],
   "source": [
    "#list of comprehension\n",
    "#instead of append use below\n",
    "a =[1,2,3,4]\n",
    "result = [num * 3 for num in a]\n",
    "print(result)\n",
    "\n",
    "#can add in conditional statement too\n",
    "r = [num *3 for num in a if num % 2 ==0]\n",
    "print(r)\n",
    "\n",
    "numbers = [1,1,1,2,3,4,6,]\n",
    "a = {i for i in numbers if i%2 ==0}\n",
    "b = tuple(i for i in numbers if i % 2==0)\n",
    "print(a)\n",
    "print(b)\n",
    "type(b)\n",
    "b = (i for i in numbers if i % 2==0) # tuple is not tuple it is generator type\n",
    "type(b)\n",
    "\n",
    "\n",
    "grade =[(\"ali\", 100), (\"ana\", 90), (\"amin\", 80)]\n",
    "name= {name:grade for name,\n",
    "       grade in grade}\n",
    "print(name)\n"
   ]
  },
  {
   "cell_type": "code",
   "execution_count": 7,
   "metadata": {},
   "outputs": [
    {
     "name": "stdout",
     "output_type": "stream",
     "text": [
      "[1, 2, 3, 4, 5, 6, 7, 8, 9]\n",
      "[2, 4, 6, 8, 10, 12, 14, 16, 18]\n",
      "[3, 6, 9, 12, 15, 18, 21, 24, 27]\n",
      "[4, 8, 12, 16, 20, 24, 28, 32, 36]\n",
      "[5, 10, 15, 20, 25, 30, 35, 40, 45]\n",
      "[6, 12, 18, 24, 30, 36, 42, 48, 54]\n",
      "[7, 14, 21, 28, 35, 42, 49, 56, 63]\n",
      "[8, 16, 24, 32, 40, 48, 56, 64, 72]\n",
      "[9, 18, 27, 36, 45, 54, 63, 72, 81]\n"
     ]
    }
   ],
   "source": [
    "results = [[x*y for x in range(1,10)]  # multiply x*y for x val 1-10\n",
    "           for y in range(1,10)]   # and for y val 1-10, like sifir\n",
    "\n",
    "for d in results:\n",
    "    print(d)\n"
   ]
  },
  {
   "cell_type": "code",
   "execution_count": 3,
   "metadata": {},
   "outputs": [
    {
     "name": "stdout",
     "output_type": "stream",
     "text": [
      "0\n",
      "[]\n",
      "[100]\n"
     ]
    }
   ],
   "source": [
    "#python collection\n",
    "#can use ,get to get data but cannot edit the data\n",
    "oridict = {}\n",
    "print(oridict.get(\"anna\", 0))\n",
    "\n",
    "# so use defaultdict to change it.\n",
    "from collections import defaultdict\n",
    "#defaultdict(list)- use for to loop result of list\n",
    "dfd = defaultdict(lambda : list())\n",
    "print(dfd[\"math\"])\n",
    "dfd[\"math\"].append(100)\n",
    "print(dfd[\"math\"])\n"
   ]
  },
  {
   "cell_type": "code",
   "execution_count": 11,
   "metadata": {},
   "outputs": [
    {
     "name": "stdout",
     "output_type": "stream",
     "text": [
      "defaultdict(<class 'int'>, {'anna': 76.66666666666667, 'amin': 53.333333333333336, 'anas': 63.333333333333336})\n"
     ]
    }
   ],
   "source": [
    "#or to see value that doest have key\n",
    "#defaultdict(int)- to see val even with no key\n",
    "from collections import defaultdict\n",
    "\n",
    "grades = {\n",
    "    \"kor\" : {\"anna\": 90, \"amin\":80, \"anas\": 70},\n",
    "    \"math\":{\"anna\": 100, \"amin\":60, \"anas\": 40},\n",
    "    \"eng\":{\"anna\": 40, \"amin\":20, \"anas\": 80},\n",
    "}\n",
    "\n",
    "average_grade = defaultdict(int)\n",
    "num_sub= defaultdict(int)\n",
    "\n",
    "for subject, student_grade in grades.items():\n",
    "    for student, grade in student_grade.items():\n",
    "        average_grade[student] +=grade\n",
    "        num_sub[student] +=1\n",
    "\n",
    "for name, grade in average_grade.items():\n",
    "    average_grade[name] /= num_sub[name]\n",
    "\n",
    "print(average_grade)"
   ]
  },
  {
   "cell_type": "code",
   "execution_count": 4,
   "metadata": {},
   "outputs": [
    {
     "name": "stdout",
     "output_type": "stream",
     "text": [
      "Counter({'python': 3, 'is': 2, 'language': 2, 'for': 2, 'that': 2, 'computer': 1, 'or': 1, 'the': 1, 'programmer': 1, 'a': 1, 'very': 1, 'useful': 1, 'but': 1, 'i': 1, 'found': 1, 'it': 1, 'quite': 1, 'hard': 1, 'ok': 1, 'tq': 1})\n"
     ]
    }
   ],
   "source": [
    "#counter\n",
    "from collections import Counter\n",
    "#most use\n",
    "#update(iterable)- to add\n",
    "#most_common(n)- find most common, return in key,val list\n",
    "#total()- find total\n",
    "python_str = \"\"\" python is python language for computer\n",
    "or for the programmer that python is a language that very useful but i \n",
    "found it quite hard ok tq\"\"\".strip() #strip remove space\n",
    "\n",
    "words = python_str.split() #split based on default() = space\n",
    "\n",
    "word_counter = Counter(words)\n",
    "print(word_counter)"
   ]
  },
  {
   "cell_type": "code",
   "execution_count": 13,
   "metadata": {},
   "outputs": [
    {
     "name": "stdout",
     "output_type": "stream",
     "text": [
      "item 0 is added, memory now:deque([10], maxlen=5)\n",
      "item 1 is added, memory now:deque([10, 4], maxlen=5)\n",
      "item 2 is added, memory now:deque([10, 4, 3], maxlen=5)\n",
      "item 3 is added, memory now:deque([10, 4, 3, 6], maxlen=5)\n",
      "item 4 is added, memory now:deque([10, 4, 3, 6, 3], maxlen=5)\n",
      "item 5 is added, memory now:deque([4, 3, 6, 3, 7], maxlen=5)\n",
      "item 6 is added, memory now:deque([3, 6, 3, 7, 8], maxlen=5)\n",
      "item 7 is added, memory now:deque([6, 3, 7, 8, 2], maxlen=5)\n",
      "item 8 is added, memory now:deque([3, 7, 8, 2, 6], maxlen=5)\n",
      "item 9 is added, memory now:deque([7, 8, 2, 6, 2], maxlen=5)\n"
     ]
    }
   ],
   "source": [
    "#deque\n",
    "from collections import deque\n",
    "from random import randint\n",
    "\n",
    "MAX_SIZE = 5\n",
    "\n",
    "memory = deque(maxlen=MAX_SIZE)\n",
    "\n",
    "for i in range (10):\n",
    "    memory.append(randint(1,10))\n",
    "    print(f\"item {i} is added, memory now:{memory}\")"
   ]
  },
  {
   "cell_type": "code",
   "execution_count": 5,
   "metadata": {},
   "outputs": [
    {
     "name": "stdout",
     "output_type": "stream",
     "text": [
      "x and y must be int\n"
     ]
    }
   ],
   "source": [
    "#try-except,raise,assert\n",
    "def divide(x: int, y:int) -> float:\n",
    "    #must be wrong to be print\n",
    "    assert isinstance(x, int) and isinstance(y, int), \"x and y must be int\"\n",
    "\n",
    "    if y==0:\n",
    "        #use raise for specific error\n",
    "        raise ZeroDivisionError(\"cannot divide by 0\")\n",
    "    \n",
    "    return x/y\n",
    "\n",
    "try:\n",
    "    print(divide(10,\"s\"))\n",
    "except ZeroDivisionError as e:\n",
    "    print(e)\n",
    "except AssertionError as e:\n",
    "    print(e)\n",
    "except Exception as e:\n",
    "    print(e)\n"
   ]
  },
  {
   "cell_type": "code",
   "execution_count": 9,
   "metadata": {},
   "outputs": [
    {
     "name": "stdout",
     "output_type": "stream",
     "text": [
      "cannot divide by 0\n"
     ]
    }
   ],
   "source": [
    "#try-except,raise,assert\n",
    "def divide(x: int, y:int) -> float:\n",
    "    #must be wrong to be print\n",
    "    assert isinstance(x, int) and isinstance(y, int), \"x and y must be int\"\n",
    "\n",
    "    if y==0:\n",
    "        #use raise for specific error\n",
    "        raise ZeroDivisionError(\"cannot divide by 0\")\n",
    "    \n",
    "    return x/y\n",
    "\n",
    "try:\n",
    "    print(divide(10,0))\n",
    "except ZeroDivisionError as e:\n",
    "    print(e)\n",
    "except AssertionError as e:\n",
    "    print(e)\n",
    "except Exception as e:\n",
    "    print(e)"
   ]
  },
  {
   "cell_type": "code",
   "execution_count": 11,
   "metadata": {},
   "outputs": [
    {
     "name": "stdout",
     "output_type": "stream",
     "text": [
      "result: 5.0\n",
      "exit\n",
      "5.0 \n",
      "\n",
      "cannot divide by 0\n",
      "exit\n",
      "inf \n",
      "\n",
      "unknown error\n",
      "exit\n",
      "nan \n",
      "\n"
     ]
    }
   ],
   "source": [
    "def divide(x: int, y:int)-> float:\n",
    "    try:\n",
    "        result = x/y\n",
    "    except ZeroDivisionError as e:\n",
    "        print(\"cannot divide by 0\")\n",
    "        return float(\"infinity\")\n",
    "    except Exception as e:\n",
    "        print(\"unknown error\")\n",
    "        return float(\"nan\")\n",
    "    else: #if no error at except print else\n",
    "        print(\"result:\", result)\n",
    "        return result\n",
    "    finally: #have error or not, finally will def print\n",
    "        print(\"exit\")\n",
    "\n",
    "print(divide(10,2), \"\\n\") #no error- go to else\n",
    "#result: 5.0 - from else coz no error\n",
    "#exit - finally\n",
    "#5.0  - from return in else\n",
    "print(divide(10,0), \"\\n\") #zerodiver\n",
    "#cannot divide by 0 - from except zerodiv\n",
    "#exit - finally\n",
    "#infinity resullt - from return in except zero\n",
    "print(divide(10,\"s\"), \"\\n\") #unknown error"
   ]
  },
  {
   "cell_type": "code",
   "execution_count": null,
   "metadata": {},
   "outputs": [
    {
     "name": "stdout",
     "output_type": "stream",
     "text": [
      "result: 5.0\n",
      "exit\n",
      "0 \n",
      "\n",
      "cannot divide by 0\n",
      "exit\n",
      "0 \n",
      "\n",
      "unknown error\n",
      "exit\n",
      "0 \n",
      "\n"
     ]
    }
   ],
   "source": [
    "def divide(x: int, y:int)-> float:\n",
    "    try:\n",
    "        result = x/y\n",
    "    except ZeroDivisionError as e:\n",
    "        print(\"cannot divide by 0\")\n",
    "        return float(\"infinity\")\n",
    "    except Exception as e:\n",
    "        print(\"unknown error\")\n",
    "        return float(\"nan\")\n",
    "    else: #if no error at except print else\n",
    "        print(\"result:\", result)\n",
    "        return result  #not gonna be return\n",
    "    finally:\n",
    "        print(\"exit\")\n",
    "        return 0  #if finally have return only print return in finally\n",
    "    #even in else,except have return\n",
    "\n",
    "print(divide(10,2), \"\\n\")\n",
    "#result: 5.o\n",
    "#exit\n",
    "#0 - from finally \n",
    "print(divide(10,0), \"\\n\")\n",
    "#cannot div 0\n",
    "#exit\n",
    "#0\n",
    "print(divide(10,\"s\"), \"\\n\")\n",
    "#unknown error\n",
    "#exit\n",
    "#0"
   ]
  },
  {
   "cell_type": "code",
   "execution_count": null,
   "metadata": {},
   "outputs": [
    {
     "name": "stdout",
     "output_type": "stream",
     "text": [
      "result: 5.0\n",
      "exit\n",
      "5.0 \n",
      "\n",
      "cannot divide by 0\n",
      "exit\n",
      "inf \n",
      "\n",
      "unknown error\n",
      "exit\n"
     ]
    },
    {
     "ename": "ValueError",
     "evalue": "have error",
     "output_type": "error",
     "traceback": [
      "\u001b[31m---------------------------------------------------------------------------\u001b[39m",
      "\u001b[31mTypeError\u001b[39m                                 Traceback (most recent call last)",
      "\u001b[36mCell\u001b[39m\u001b[36m \u001b[39m\u001b[32mIn[18]\u001b[39m\u001b[32m, line 3\u001b[39m, in \u001b[36mdivide\u001b[39m\u001b[34m(x, y)\u001b[39m\n\u001b[32m      2\u001b[39m \u001b[38;5;28;01mtry\u001b[39;00m:\n\u001b[32m----> \u001b[39m\u001b[32m3\u001b[39m     result = \u001b[43mx\u001b[49m\u001b[43m/\u001b[49m\u001b[43my\u001b[49m\n\u001b[32m      4\u001b[39m \u001b[38;5;28;01mexcept\u001b[39;00m \u001b[38;5;167;01mZeroDivisionError\u001b[39;00m \u001b[38;5;28;01mas\u001b[39;00m e:\n",
      "\u001b[31mTypeError\u001b[39m: unsupported operand type(s) for /: 'int' and 'str'",
      "\nDuring handling of the above exception, another exception occurred:\n",
      "\u001b[31mValueError\u001b[39m                                Traceback (most recent call last)",
      "\u001b[36mCell\u001b[39m\u001b[36m \u001b[39m\u001b[32mIn[18]\u001b[39m\u001b[32m, line 18\u001b[39m\n\u001b[32m     16\u001b[39m \u001b[38;5;28mprint\u001b[39m(divide(\u001b[32m10\u001b[39m,\u001b[32m2\u001b[39m), \u001b[33m\"\u001b[39m\u001b[38;5;130;01m\\n\u001b[39;00m\u001b[33m\"\u001b[39m)\n\u001b[32m     17\u001b[39m \u001b[38;5;28mprint\u001b[39m(divide(\u001b[32m10\u001b[39m,\u001b[32m0\u001b[39m), \u001b[33m\"\u001b[39m\u001b[38;5;130;01m\\n\u001b[39;00m\u001b[33m\"\u001b[39m)\n\u001b[32m---> \u001b[39m\u001b[32m18\u001b[39m \u001b[38;5;28mprint\u001b[39m(\u001b[43mdivide\u001b[49m\u001b[43m(\u001b[49m\u001b[32;43m10\u001b[39;49m\u001b[43m,\u001b[49m\u001b[33;43m\"\u001b[39;49m\u001b[33;43ms\u001b[39;49m\u001b[33;43m\"\u001b[39;49m\u001b[43m)\u001b[49m, \u001b[33m\"\u001b[39m\u001b[38;5;130;01m\\n\u001b[39;00m\u001b[33m\"\u001b[39m)\n",
      "\u001b[36mCell\u001b[39m\u001b[36m \u001b[39m\u001b[32mIn[18]\u001b[39m\u001b[32m, line 9\u001b[39m, in \u001b[36mdivide\u001b[39m\u001b[34m(x, y)\u001b[39m\n\u001b[32m      7\u001b[39m \u001b[38;5;28;01mexcept\u001b[39;00m \u001b[38;5;167;01mException\u001b[39;00m \u001b[38;5;28;01mas\u001b[39;00m e:\n\u001b[32m      8\u001b[39m     \u001b[38;5;28mprint\u001b[39m(\u001b[33m\"\u001b[39m\u001b[33munknown error\u001b[39m\u001b[33m\"\u001b[39m)\n\u001b[32m----> \u001b[39m\u001b[32m9\u001b[39m     \u001b[38;5;28;01mraise\u001b[39;00m \u001b[38;5;167;01mValueError\u001b[39;00m(\u001b[33m\"\u001b[39m\u001b[33mhave error\u001b[39m\u001b[33m\"\u001b[39m) \u001b[38;5;66;03m# cannot raise here, need another try catch\u001b[39;00m\n\u001b[32m     10\u001b[39m \u001b[38;5;28;01melse\u001b[39;00m: \u001b[38;5;66;03m#if no error at except print else\u001b[39;00m\n\u001b[32m     11\u001b[39m     \u001b[38;5;28mprint\u001b[39m(\u001b[33m\"\u001b[39m\u001b[33mresult:\u001b[39m\u001b[33m\"\u001b[39m, result)\n",
      "\u001b[31mValueError\u001b[39m: have error"
     ]
    }
   ],
   "source": [
    "def divide(x: int, y:int)-> float:\n",
    "    try:\n",
    "        result = x/y\n",
    "    except ZeroDivisionError as e:\n",
    "        print(\"cannot divide by 0\")\n",
    "        return float(\"infinity\")\n",
    "    except Exception as e:\n",
    "        print(\"unknown error\")\n",
    "        raise ValueError(\"have error\") # cannot raise here, need another try catch\n",
    "    else: #if no error at except print else\n",
    "        print(\"result:\", result)\n",
    "        return result\n",
    "    finally: #have error or not finally will def print\n",
    "        print(\"exit\")\n",
    "\n",
    "print(divide(10,2), \"\\n\")\n",
    "#result = 5.0\n",
    "#exit\n",
    "#5.0\n",
    "print(divide(10,0), \"\\n\")\n",
    "print(divide(10,\"s\"), \"\\n\")"
   ]
  },
  {
   "cell_type": "code",
   "execution_count": null,
   "metadata": {},
   "outputs": [],
   "source": [
    "#file \n",
    "#read file - r\n",
    "f = open(\"file.txt\", 'r')\n",
    "data = f.read()\n",
    "print(data)\n",
    "\n",
    "lines = f.readlines() \n",
    "for line in lines:\n",
    "    line = line.strip()#remove space or \\n \n",
    "    print(line)\n",
    "\n",
    "f = open(\"file2.txt\", 'r')\n",
    "for line in f:\n",
    "    print(line)\n",
    "\n",
    "#write file - w\n",
    "f= open(\"file3.txt\", 'w')\n",
    "for i in range (1,11):\n",
    "    data = \"number is %d line\\n\" % i\n",
    "    f.write(data)\n",
    "\n",
    "f.close() #must close after open to save\n",
    "\n",
    "with open(\"tt.txt\", \"w\") as f: # if use with even no close will auto save n close\n",
    "    f.write(\"i am me\")  \n",
    "\n"
   ]
  },
  {
   "cell_type": "code",
   "execution_count": 19,
   "metadata": {},
   "outputs": [
    {
     "name": "stdout",
     "output_type": "stream",
     "text": [
      "hi\n",
      "my name is amin\n",
      "nice to c u\n",
      "hi\n",
      "my name is ali\n",
      "nice to c u\n"
     ]
    }
   ],
   "source": [
    "# function\n",
    "\n",
    "def print_info(name):\n",
    "    print(\"hi\")\n",
    "    print(\"my name is %s\" %(name))\n",
    "    print(\"nice to c u\")\n",
    "\n",
    "print_info(\"amin\")\n",
    "print_info(\"ali\")"
   ]
  },
  {
   "cell_type": "code",
   "execution_count": null,
   "metadata": {},
   "outputs": [
    {
     "name": "stdout",
     "output_type": "stream",
     "text": [
      "9\n",
      "(1, 2, 3)\n"
     ]
    }
   ],
   "source": [
    "#parameter and argument\n",
    "\n",
    "def add(a,b): #x,y= parameter\n",
    "    return a+b\n",
    "\n",
    "print(add(5,4)) # 5,4= argument\n",
    "\n",
    "def text():\n",
    "    return 1,2,3 #when return many data it will print in tuple\n",
    "\n",
    "a= text()\n",
    "print(a)"
   ]
  },
  {
   "cell_type": "code",
   "execution_count": null,
   "metadata": {},
   "outputs": [],
   "source": [
    "#positional parameter - pp\n",
    "#paramter that does not have val yet\n",
    "\n",
    "#named parameter - np\n",
    "#parameter that have val already\n",
    "\n",
    "def calc (a,b, c=3): # c is np , a,b is pp\n",
    "    return (a+b) *c \n",
    "\n",
    "print(calc(3,5))\n",
    "print(calc(3,5, c=20))"
   ]
  },
  {
   "cell_type": "code",
   "execution_count": null,
   "metadata": {},
   "outputs": [
    {
     "name": "stdout",
     "output_type": "stream",
     "text": [
      "(1, 2, 3)\n",
      "{'c': 4, 'd': 5}\n",
      "25\n",
      "288\n"
     ]
    }
   ],
   "source": [
    "#packing\n",
    "def calc(*args, **kwargs): #args = group of pp, tuple type\n",
    "    #kwargs = group of np, dict type\n",
    "    print(args)\n",
    "    print(kwargs)\n",
    "\n",
    "calc(1,2,3, c=4, d=5)\n",
    "\n",
    "def mul(*numbers):\n",
    "    r = 1\n",
    "    for num in numbers:\n",
    "        r *= num\n",
    "    return r\n",
    "print(mul(5,5)) # does not matter how many coz it count as group\n",
    "print(mul(4,6,3,2,1,2))"
   ]
  },
  {
   "cell_type": "code",
   "execution_count": 42,
   "metadata": {},
   "outputs": [
    {
     "name": "stdout",
     "output_type": "stream",
     "text": [
      "1 2 3 4 11 13\n"
     ]
    }
   ],
   "source": [
    "#unpacking\n",
    "#a,b,c,d =pp -4\n",
    "#e,f = np -2\n",
    "def nums(a,b,c,d, e=5, f=6):\n",
    "    print(a,b,c,d,e,f)\n",
    "\n",
    "arg= [1,2,3,4] # number of data must be same =4\n",
    "#arg= [1,2,3,4,5] #cannot\n",
    "name_arg ={\"e\": 11, \"f\":13} # 2\n",
    "#name_arg ={\"e\": 11, \"f\":13, \"g\": 15} # cannot\n",
    "\n",
    "nums(*arg, **name_arg)"
   ]
  },
  {
   "cell_type": "code",
   "execution_count": null,
   "metadata": {},
   "outputs": [
    {
     "name": "stdout",
     "output_type": "stream",
     "text": [
      "['apple', 'banana', 'cherry', 'pear']\n",
      "['pear', 'apple', 'banana', 'cherry']\n"
     ]
    }
   ],
   "source": [
    "#lamba\n",
    "#temporary function\n",
    "lambda x,y: x+y\n",
    "\n",
    "list =['banana', 'apple', 'pear', 'cherry']\n",
    "\n",
    "sorted_list = sorted(list)\n",
    "print(sorted_list) #print abc based\n",
    "\n",
    "sorted_list2 = sorted(list, key=lambda x: len(x))\n",
    "print(sorted_list2) #print word length based"
   ]
  },
  {
   "cell_type": "code",
   "execution_count": null,
   "metadata": {},
   "outputs": [
    {
     "name": "stdout",
     "output_type": "stream",
     "text": [
      "val=10\n",
      "result fx:11\n",
      "a val after fx:10\n"
     ]
    }
   ],
   "source": [
    "a= 10  #int type\n",
    "print(f\"val a={a}\")\n",
    "\n",
    "def fx(a):\n",
    "    a+=1\n",
    "    return a\n",
    "\n",
    "print(f\"result fx:{fx(a)}\") #call by ref - list,set dic,obj\n",
    "print(f\"a val after fx:{a}\") #call by val - str, int,tuple"
   ]
  },
  {
   "cell_type": "code",
   "execution_count": null,
   "metadata": {},
   "outputs": [
    {
     "name": "stdout",
     "output_type": "stream",
     "text": [
      "val a={'anna': 3}\n",
      "result fx:{'anna': 4}\n",
      "a val after fx:{'anna': 4}\n"
     ]
    }
   ],
   "source": [
    "#call by assignment\n",
    "a= {\"anna\": 3}  #dict type\n",
    "print(f\"val a={a}\") #anna 3\n",
    "\n",
    "def fx2(a):\n",
    "    a[\"anna\"] = 4 #change 3 to 4\n",
    "    return a\n",
    "\n",
    "print(f\"result fx:{fx2(a)}\") #anna 4\n",
    "print(f\"a val after fx:{a}\") #anna 4"
   ]
  },
  {
   "cell_type": "code",
   "execution_count": null,
   "metadata": {},
   "outputs": [],
   "source": [
    "import logging\n",
    "logging.basicConfig(level=logging.DEBUG)\n",
    "logging.debug\n",
    "logging.info\n",
    "logging.warning\n",
    "logging.error\n",
    "logging.critical"
   ]
  },
  {
   "cell_type": "code",
   "execution_count": null,
   "metadata": {},
   "outputs": [
    {
     "name": "stderr",
     "output_type": "stream",
     "text": [
      "2025-03-19 15:42:07,426 - INFO - this is log file data\n"
     ]
    }
   ],
   "source": [
    "import logging\n",
    "\n",
    "logging.basicConfig(\n",
    "    level=logging.INFO,\n",
    "    format=\"%(asctime)s - %(levelname)s - %(message)s\",\n",
    "    handlers=[logging.FileHandler(\"app.log\"), logging.StreamHandler()],\n",
    "    #to save log data in file\n",
    ")\n",
    "\n",
    "logging.info(\"this is log file data in week 2\")"
   ]
  },
  {
   "cell_type": "code",
   "execution_count": 1,
   "metadata": {},
   "outputs": [
    {
     "name": "stderr",
     "output_type": "stream",
     "text": [
      "INFO:__main__:hello word\n"
     ]
    },
    {
     "ename": "ModuleNotFoundError",
     "evalue": "No module named 'loguru'",
     "output_type": "error",
     "traceback": [
      "\u001b[31m---------------------------------------------------------------------------\u001b[39m",
      "\u001b[31mModuleNotFoundError\u001b[39m                       Traceback (most recent call last)",
      "\u001b[36mCell\u001b[39m\u001b[36m \u001b[39m\u001b[32mIn[1]\u001b[39m\u001b[32m, line 8\u001b[39m\n\u001b[32m      5\u001b[39m logger.info(\u001b[33m\"\u001b[39m\u001b[33mhello word\u001b[39m\u001b[33m\"\u001b[39m)\n\u001b[32m      7\u001b[39m \u001b[38;5;66;03m#loguru\u001b[39;00m\n\u001b[32m----> \u001b[39m\u001b[32m8\u001b[39m \u001b[38;5;28;01mfrom\u001b[39;00m\u001b[38;5;250m \u001b[39m\u001b[34;01mloguru\u001b[39;00m\u001b[38;5;250m \u001b[39m\u001b[38;5;28;01mimport\u001b[39;00m logger\n\u001b[32m      9\u001b[39m logger.info(\u001b[33m\"\u001b[39m\u001b[33mhello word\u001b[39m\u001b[33m\"\u001b[39m)\n",
      "\u001b[31mModuleNotFoundError\u001b[39m: No module named 'loguru'"
     ]
    }
   ],
   "source": [
    "#logging\n",
    "import logging\n",
    "logging.basicConfig(level=logging.INFO)\n",
    "logger = logging.getLogger(__name__)\n",
    "logger.info(\"hello word\")\n",
    "\n",
    "#loguru\n",
    "from loguru import logger\n",
    "logger.info(\"hello word\")\n"
   ]
  },
  {
   "cell_type": "code",
   "execution_count": 2,
   "metadata": {},
   "outputs": [
    {
     "ename": "AttributeError",
     "evalue": "'Logger' object has no attribute 'add'",
     "output_type": "error",
     "traceback": [
      "\u001b[31m---------------------------------------------------------------------------\u001b[39m",
      "\u001b[31mAttributeError\u001b[39m                            Traceback (most recent call last)",
      "\u001b[36mCell\u001b[39m\u001b[36m \u001b[39m\u001b[32mIn[2]\u001b[39m\u001b[32m, line 1\u001b[39m\n\u001b[32m----> \u001b[39m\u001b[32m1\u001b[39m \u001b[43mlogger\u001b[49m\u001b[43m.\u001b[49m\u001b[43madd\u001b[49m(\u001b[33m\"\u001b[39m\u001b[33mout.log\u001b[39m\u001b[33m\"\u001b[39m, backtrace=\u001b[38;5;28;01mTrue\u001b[39;00m, diagnose=\u001b[38;5;28;01mTrue\u001b[39;00m)\n\u001b[32m      3\u001b[39m \u001b[38;5;28;01mdef\u001b[39;00m\u001b[38;5;250m \u001b[39m\u001b[34mfunc\u001b[39m(a,b):\n\u001b[32m      4\u001b[39m     \u001b[38;5;28;01mreturn\u001b[39;00m a/b\n",
      "\u001b[31mAttributeError\u001b[39m: 'Logger' object has no attribute 'add'"
     ]
    }
   ],
   "source": [
    "logger.add(\"out.log\", backtrace=True, diagnose=True)\n",
    "\n",
    "def func(a,b):\n",
    "    return a/b\n",
    "\n",
    "def nested(c):\n",
    "    try:\n",
    "        func(5,c)\n",
    "    except ZeroDivisionError:\n",
    "        logger.exception(\"What?\")\n",
    "\n",
    "nested(0)"
   ]
  },
  {
   "cell_type": "code",
   "execution_count": null,
   "metadata": {},
   "outputs": [],
   "source": [
    "#walrus operator :=\n",
    "#to assign and compare at the same time\n",
    "\n",
    "#handle matched regex\n",
    "if(match := pattern.search(data)) is not None:\n",
    "  #do something with match\n",
    "\n",
    "# A loop that cant be trivially rewritten using 2-arg iter()\n",
    "while chunck := file.read(8192):\n",
    "    process(chunck)\n",
    "\n",
    "#reuse a value \n",
    "[y := f(x), y**2, y**3]\n",
    "\n",
    "#share a subexpression\n",
    "filter_data = [y for x in data if ( y:= f(x) is not None)]"
   ]
  },
  {
   "cell_type": "code",
   "execution_count": 4,
   "metadata": {},
   "outputs": [
    {
     "name": "stdout",
     "output_type": "stream",
     "text": [
      "goeast\n"
     ]
    }
   ],
   "source": [
    "#structural pattern matching\n",
    "#same like switch but can case many\n",
    "\n",
    "command = \"go east\"\n",
    "\n",
    "match command.split():\n",
    "    case[\"quit\"]:\n",
    "        print(\"quit\")\n",
    "    case [\"go\", (\"north\" | \"east\" | \"west\" | \"south\") as direction]:\n",
    "        print(f\"go{direction}\")\n",
    "    case [\"look\"]:\n",
    "        print(\"look around\")\n",
    "        #other case\n",
    "    #case [\"north\"] | [\"go\", \"north\"]:\n",
    "        #current_room = current_room.neighbor(\"north\")\n",
    "    #case[\"get\", obj] | [\"pick\", \"up\", obj] | [\"pick\", obj, \"up\"]:\n",
    "        #code for pickup obj\n",
    "    #case [\"go\", direction] if direction in currect_room.exits:\n",
    "        # current_room = current_room.neighbor(direction)\n",
    "    case[\"go\", _]:\n",
    "        print(\"sorry u cant go that way\")\n",
    "    case _:\n",
    "        print(\"invalid\")"
   ]
  }
 ],
 "metadata": {
  "kernelspec": {
   "display_name": "base",
   "language": "python",
   "name": "python3"
  },
  "language_info": {
   "codemirror_mode": {
    "name": "ipython",
    "version": 3
   },
   "file_extension": ".py",
   "mimetype": "text/x-python",
   "name": "python",
   "nbconvert_exporter": "python",
   "pygments_lexer": "ipython3",
   "version": "3.12.7"
  }
 },
 "nbformat": 4,
 "nbformat_minor": 2
}
