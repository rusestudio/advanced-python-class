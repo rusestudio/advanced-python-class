{
 "cells": [
  {
   "cell_type": "code",
   "execution_count": null,
   "metadata": {},
   "outputs": [
    {
     "name": "stdout",
     "output_type": "stream",
     "text": [
      "300 arrive at bus top\n",
      "anna ride 300\n",
      "300 receive 1000\n",
      "300 now have 1000 amount\n",
      "anna have balance of 4000\n",
      "300 depart from bus stop\n",
      "bus2 collect fee of 0\n"
     ]
    }
   ],
   "source": [
    "#oop\n",
    "#class\n",
    "#instance\n",
    "\n",
    "BUS_FARE = 1000 # class attributes\n",
    "\n",
    "class Bus: \n",
    "    def __init__(self, bus_number:str):\n",
    "        self.bus_number = bus_number # instance attributes \n",
    "        self.money =0\n",
    "\n",
    "    def stop(self):\n",
    "        print(f\"{self.bus_number} arrive at bus top\")\n",
    "\n",
    "    def go(self):\n",
    "        print(f\"{self.bus_number} depart from bus stop\")\n",
    "\n",
    "    def take(self, money):\n",
    "        self.money += money\n",
    "        print(f\"{self.bus_number} receive {money}\")\n",
    "        print(f\"{self.bus_number} now have {self.money} amount\")\n",
    "\n",
    "class Passenger:\n",
    "    def __init__(self, name: str, money:int):\n",
    "        self.name = name\n",
    "        self.money = money\n",
    "\n",
    "    def take_bus(self, bus: Bus):\n",
    "        print(F\"{self.name} ride {bus.bus_number}\")\n",
    "        bus.take(BUS_FARE)\n",
    "        self.money -= BUS_FARE\n",
    "        print(f\"{self.name} have balance of {self.money}\")\n",
    "\n",
    "p1 = Passenger(\"anna\", 5000) #can use constructor __init make obj\n",
    "\n",
    "bus1 = Bus(300)# var = class(data based on constructor)\n",
    "bus2 = Bus(15)\n",
    "\n",
    "bus1.stop()\n",
    "\n",
    "p1.take_bus(bus1)\n",
    "bus1.go()\n",
    "\n",
    "print(f\"bus2 collect fee of {bus2.money}\")\n"
   ]
  },
  {
   "cell_type": "code",
   "execution_count": 8,
   "metadata": {},
   "outputs": [
    {
     "name": "stdout",
     "output_type": "stream",
     "text": [
      "100km rode. fuel tank balance 80.0\n"
     ]
    }
   ],
   "source": [
    "#inheritance\n",
    "\n",
    "class Car:\n",
    "    def __init__(self, model: str, year: int):\n",
    "        self.model = model\n",
    "        self.year = year\n",
    "        self.fuel =10\n",
    "        self.tank = 50\n",
    "\n",
    "    def drive(self, distance: int):\n",
    "        self.tank -= distance /self.fuel\n",
    "        print(f\"{distance}km rode. fuel tank balance {self.tank}\")\n",
    "\n",
    "class Bus(Car): #inherit car\n",
    "    def __init__(self, model: str, year: int, number: int):\n",
    "        super().__init__(model, year)\n",
    "        self.fuel=5\n",
    "        self.tank= 100\n",
    "        self.money =0\n",
    "        self.number = number\n",
    "    \n",
    "    def take(self,money):\n",
    "        self.money = self.money + money\n",
    "        print(f\"{self.number} bus get is {money}\")\n",
    "        print(f\"{self.number} bus balance is {self.money}\")\n",
    "\n",
    "\n",
    "bus3 = Bus(\"100-1\", 2010, 100)\n",
    "bus3.drive(100)"
   ]
  },
  {
   "cell_type": "code",
   "execution_count": null,
   "metadata": {},
   "outputs": [
    {
     "name": "stdout",
     "output_type": "stream",
     "text": [
      "airasia\n"
     ]
    },
    {
     "ename": "AttributeError",
     "evalue": "'Plane' object has no attribute '__cust'",
     "output_type": "error",
     "traceback": [
      "\u001b[31m---------------------------------------------------------------------------\u001b[39m",
      "\u001b[31mAttributeError\u001b[39m                            Traceback (most recent call last)",
      "\u001b[36mCell\u001b[39m\u001b[36m \u001b[39m\u001b[32mIn[12]\u001b[39m\u001b[32m, line 11\u001b[39m\n\u001b[32m      8\u001b[39m p1 = Plane(\u001b[33m\"\u001b[39m\u001b[33mairasia\u001b[39m\u001b[33m\"\u001b[39m)\n\u001b[32m     10\u001b[39m \u001b[38;5;28mprint\u001b[39m(p1._name)\n\u001b[32m---> \u001b[39m\u001b[32m11\u001b[39m \u001b[38;5;28mprint\u001b[39m(\u001b[43mp1\u001b[49m\u001b[43m.\u001b[49m\u001b[43m__cust\u001b[49m)\n",
      "\u001b[31mAttributeError\u001b[39m: 'Plane' object has no attribute '__cust'"
     ]
    }
   ],
   "source": [
    "#encapsulation\n",
    "\n",
    "class Plane:\n",
    "    def __init__(self, name):\n",
    "        self._name = name #one _ = protected\n",
    "        self.__cust =[] # double __ = private\n",
    "\n",
    "p1 = Plane(\"airasia\")\n",
    "\n",
    "print(p1._name)\n",
    "print(p1.__cust)\n"
   ]
  },
  {
   "cell_type": "code",
   "execution_count": 2,
   "metadata": {},
   "outputs": [],
   "source": [
    "#polymorphism\n",
    "#method overriding\n",
    "#method overloading\n",
    "\n",
    "class Student:\n",
    "    def __init__(self, name, age):\n",
    "        self.name = name\n",
    "        self.age = age\n",
    "\n",
    "    def study(self):  #method overriding\n",
    "        print(f\"{self.name} is studying\")\n",
    "\n",
    "class HStudent(Student):\n",
    "    def __init__(self, name, age, grade):\n",
    "        super().__init__(name, age)\n",
    "        self.grade = grade\n",
    "\n",
    "    def study(self):  #method overriding\n",
    "        print(f\"{self.name} is studying in high school\")\n",
    "\n",
    "class UniStudent(Student):\n",
    "    def __init__(self, name, age, major):\n",
    "        super().__init__(name, age)\n",
    "        self.major = major\n",
    "\n",
    "    def study(self): #method overriding\n",
    "        print(f\"{self.name} is studying in uni\")\n",
    "\n",
    "    def study(self, hours: int): #method overloading, same name in same class, but diff attributes\n",
    "        print(f\"{self.name} is studying at uni for {hours}\")\n",
    "\n",
    "    "
   ]
  },
  {
   "cell_type": "code",
   "execution_count": 16,
   "metadata": {},
   "outputs": [
    {
     "name": "stdout",
     "output_type": "stream",
     "text": [
      "sir has moved\n"
     ]
    }
   ],
   "source": [
    "#abstraction\n",
    "\n",
    "from abc import ABC, abstractmethod\n",
    "\n",
    "class Mammal(ABC):\n",
    "    @abstractmethod\n",
    "    def eat(self):\n",
    "        pass #or can also use raice NotImplementError\n",
    "\n",
    "    @abstractmethod\n",
    "    def move(self):\n",
    "        pass\n",
    "\n",
    "    @abstractmethod\n",
    "    def feed(self):\n",
    "        pass\n",
    "\n",
    "\n",
    "class Human(Mammal):\n",
    "    def __init__(self, name: str):\n",
    "        self.name = name\n",
    "\n",
    "    def move(self):\n",
    "        print(f\"{self.name} has moved\")\n",
    "\n",
    "    def eat(self):\n",
    "        print(f\"{self.name} eat\")\n",
    "\n",
    "    def feed(self):\n",
    "        print(f\"{self.name} is feeding\")\n",
    "\n",
    "sir = Human(\"sir\")\n",
    "sir.move()\n",
    "    \n",
    "    \n",
    "\n"
   ]
  },
  {
   "cell_type": "code",
   "execution_count": null,
   "metadata": {},
   "outputs": [],
   "source": [
    "# class method\n",
    "#static method\n",
    "# instance method\n",
    "\n",
    "class DataScientist:\n",
    "    major = \"data science\"  #class attribute\n",
    "\n",
    "    def __init__(self, name: str):\n",
    "        self.name = name\n",
    "\n",
    "    def work(self, hours: int =2):  #instance method\n",
    "        print(f\"{self.name} has work for {hours}\")\n",
    "\n",
    "    @classmethod\n",
    "    def print_major(cls)\n",
    "        print(f\"data scientist major is {cls.major}\") #can access class attribute\n",
    "\n",
    "    @staticmethod\n",
    "    def sleep(hours=8): #no self. only can access its attributes. \n",
    "        print(f\"data scientist sleep for {hours}\")\n",
    "\n",
    "w1 = DataScientist(\"anna\")\n",
    "w1.work() #can direct access instance method\n",
    "\n",
    "DataScientist.print_major() # access class method\n",
    "\n",
    "DataScientist.sleep() #direct access static  method in class"
   ]
  }
 ],
 "metadata": {
  "kernelspec": {
   "display_name": "base",
   "language": "python",
   "name": "python3"
  },
  "language_info": {
   "codemirror_mode": {
    "name": "ipython",
    "version": 3
   },
   "file_extension": ".py",
   "mimetype": "text/x-python",
   "name": "python",
   "nbconvert_exporter": "python",
   "pygments_lexer": "ipython3",
   "version": "3.12.7"
  }
 },
 "nbformat": 4,
 "nbformat_minor": 2
}
