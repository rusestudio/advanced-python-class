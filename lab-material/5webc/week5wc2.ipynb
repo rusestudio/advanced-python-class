{
 "cells": [
  {
   "cell_type": "code",
   "execution_count": null,
   "id": "7046e64a",
   "metadata": {},
   "outputs": [],
   "source": [
    "import requests\n",
    "\n",
    "url=\"https://s.search.naver.com/p/newssearch/2/search.naver?cluster_rank=29&de=2025.04.08&ds=2025.04.07&eid=&field=0&force_original=&is_dts=0&is_sug_officeid=0&mynews=0&news_office_checked=&nlu_query=&nqx_theme=%7B%22theme%22%3A%7B%22main%22%3A%7B%22name%22%3A%22location_city%22%2C%22source%22%3A%22NLU%22%7D%2C%22sub%22%3A%5B%7B%22name%22%3A%22location%22%7D%5D%7D%7D&nso=%26nso%3Dso%3Ar%2Cp%3Afrom20250407to20250408%2Ca%3Aall&nx_and_query=&nx_sub_query=&office_category=0&office_section_code=0&office_type=0&pd=3&photo=0&query=%EC%B6%98%EC%B2%9C%EC%8B%9C&query_original=&rev=31&service_area=0&sort=0&spq=0&start=11&where=news_tab_api&nso=so:r,p:from20250407to20250408,a:all\"\n",
    "\n",
    "response = requests.get(url)\n",
    "\n"
   ]
  },
  {
   "cell_type": "code",
   "execution_count": 7,
   "id": "090cf16f",
   "metadata": {},
   "outputs": [
    {
     "data": {
      "text/plain": [
       "'{\\n\"collection\" : [{\\n\\t\"script\": \"\",\\n\\t\"style\": \"\",\\n\\t\"html\": \" <li class=\\\\\"bx\\\\\" id=\\\\\"sp_nws30\\\\\"> <div class=\\\\\"news_wrap api_ani_send\\\\\"> <div class=\\\\\"news_area\\\\\"> <div class=\\\\\"news_info\\\\\"> <div class=\\\\\"api_save_group _keep_wrap\\\\\"> <a href=\\\\\"#\\\\\" role=\\\\\"button\\\\\" class=\\\\\"btn_save _keep_trigger\\\\\" data-url=\\\\\"https://www.sportsseoul.com/news/read/1507038?ref=naver\\\\\" onclick=\\\\\"tCR(\\'a=nws*e.kep&r=30&i=88156f78_000000000000000001138293&u=javascript\\'); return false;\\\\\" aria-pressed=\\\\\"false\\\\\"><i class=\\\\\"spnew ico_save\\\\\">문서 저장하기</i></a> <div class=\\\\\"api_ly_save _keep_save_layer\\\\\"> <a href=\\\\\"#\\\\\" role=\\\\\"button\\\\\" class=\\\\\"spnew_af item item_save _keep_save\\\\\" data-cr-on=\\\\\"a=nws*e.kepon&r=30&i=88156f78_000000000000000001138293&u=javascript\\\\\" data-cr-off=\\\\\"a=nws*e.kepoff&r=30&i=88156f78_000000000000000001138293&u=javascript\\\\\">Keep에 저장</a> <a href=\\\\\"https://keep.naver.com/\\\\\" class=\\\\\"spnew_af item item_quick\\\\\" target=\\\\\"_blank\\\\\" onClick=\\\\\"return goOtherCR(this,\\'a=nws*e.kephome&r=30&i=88156f78_000000000000000001138293&u=\\'+urlencode(this.href));\\\\\">Keep 바로가기</a> </div></div><div class=\\\\\"info_group\\\\\"> <a href=\\\\\"http://www.sportsseoul.com/\\\\\" class=\\\\\"info press\\\\\" target=\\\\\"_blank\\\\\" onclick=\\\\\"return goOtherCR(this, \\'a=nws*e.prof&r=30&i=88156f78_000000000000000001138293&g=468.0001138293&u=\\'+urlencode(this.href));\\\\\"><span class=\\\\\"thumb_box\\\\\"><img src=\\\\\"data:image/gif;base64,R0lGODlhAQABAIAAAAAAAP///yH5BAEAAAAALAAAAAABAAEAAAIBRAA7\\\\\" data-lazysrc=\\\\\"https://search.pstatic.net/common/?src=https%3A%2F%2Fmimgnews.pstatic.net%2Fimage%2Fupload%2Foffice_logo%2F468%2F2020%2F12%2F08%2Flogo_468_18_20201208152603.png&type=f54_54&expire=24&refresh=true\\\\\" alt=\\\\\"\\\\\" width=\\\\\"24\\\\\" height=\\\\\"24\\\\\" class=\\\\\"thumb\\\\\" onError=\\\\\"this.src=\\'data:image/gif;base64,R0lGODlhAQABAIAAAAAAAP///yH5BAEAAAAALAAAAAABAAEAAAIBRAA7\\';this.className=\\'thumb bg_default_press\\'\\\\\"></span>스포츠서울</a><span class=\\\\\"info\\\\\">2시간 전</span><a href=\\\\\"https://n.news.naver.com/mnews/article/468/0001138293?sid=102\\\\\" class=\\\\\"info\\\\\" target=\\\\\"_blank\\\\\" onclick=\\\\\"return goOtherCR(this, \\'a=nws*e.nav&r=30&i=88156f78_000000000000000001138293&u=\\'+urlencode(this.href));\\\\\">네이버뉴스</a> </div></div><div class=\\\\\"news_contents\\\\\"> <a href=\\\\\"https://www.sportsseoul.com/news/read/1507038?ref=naver\\\\\" class=\\\\\"dsc_thumb \\\\\" target=\\\\\"_blank\\\\\" onclick=\\\\\"return goOtherCR(this, \\'a=nws*e.img&r=30&i=88156f78_000000000000000001138293&g=468.0001138293&u=\\'+urlencode(this.href));\\\\\"><img src=\\\\\"data:image/gif;base64,R0lGODlhAQABAIAAAAAAAP///yH5BAEAAAAALAAAAAABAAEAAAIBRAA7\\\\\" data-lazysrc=\\\\\"https://search.pstatic.net/common/?src=https%3A%2F%2Fimgnews.pstatic.net%2Fimage%2Forigin%2F468%2F2025%2F04%2F08%2F1138293.jpg&type=f200_200&expire=2&refresh=true\\\\\" width=\\\\\"104\\\\\" height=\\\\\"104\\\\\" alt=\\\\\"춘천시, 노인 의료·돌\\\\\" class=\\\\\"thumb\\\\\" onerror=\\\\\"this.parentNode.style.display=\\'none\\';\\\\\"></a> <a href=\\\\\"https://www.sportsseoul.com/news/read/1507038?ref=naver\\\\\" class=\\\\\"news_tit\\\\\" target=\\\\\"_blank\\\\\" onclick=\\\\\"return goOtherCR(this, \\'a=nws*e.tit&r=30&i=88156f78_000000000000000001138293&g=468.0001138293&u=\\'+urlencode(this.href));\\\\\" title=\\\\\"춘천시, 노인 의료·돌봄 통합지원사업 실무 교육\\\\\"><mark>춘천시</mark>, 노인 의료·돌봄 통합지원사업 실무 교육</a> <div class=\\\\\"news_dsc\\\\\"> <div class=\\\\\"dsc_wrap\\\\\"> <a href=\\\\\"https://www.sportsseoul.com/news/read/1507038?ref=naver\\\\\" class=\\\\\"api_txt_lines dsc_txt_wrap\\\\\" target=\\\\\"_blank\\\\\" onclick=\\\\\"return goOtherCR(this, \\'a=nws*e.body&r=30&i=88156f78_000000000000000001138293&g=468.0001138293&u=\\'+urlencode(this.href));\\\\\">읍면동 담당자 70여 명 대상 실무 교육 2025년 의료·돌봄 통합지원 기술지원형 시범 사업 이해증진 및 역량강화 사진|<mark>춘천시</mark>청 [스포츠서울ㅣ춘천=김기원기자]<mark>춘천시</mark>(시장: 육동한)는 8일부터 10일까지 국민건강보험공단 춘천철월화천지사에서 읍면동 담당자를 대상으로 2025년 노인 의료·돌봄 통합지원 실무...</a> </div></div></div></div></div></li>  <li class=\\\\\"bx\\\\\" id=\\\\\"sp_nws31\\\\\"> <div class=\\\\\"news_wrap api_ani_send\\\\\"> <div class=\\\\\"news_area\\\\\"> <div class=\\\\\"news_info\\\\\"> <div class=\\\\\"api_save_group _keep_wrap\\\\\"> <a href=\\\\\"#\\\\\" role=\\\\\"button\\\\\" class=\\\\\"btn_save _keep_trigger\\\\\" data-url=\\\\\"https://www.sportsseoul.com/news/read/1507020?ref=naver\\\\\" onclick=\\\\\"tCR(\\'a=nws*e.kep&r=31&i=88156f78_000000000000000001138277&u=javascript\\'); return false;\\\\\" aria-pressed=\\\\\"false\\\\\"><i class=\\\\\"spnew ico_save\\\\\">문서 저장하기</i></a> <div class=\\\\\"api_ly_save _keep_save_layer\\\\\"> <a href=\\\\\"#\\\\\" role=\\\\\"button\\\\\" class=\\\\\"spnew_af item item_save _keep_save\\\\\" data-cr-on=\\\\\"a=nws*e.kepon&r=31&i=88156f78_000000000000000001138277&u=javascript\\\\\" data-cr-off=\\\\\"a=nws*e.kepoff&r=31&i=88156f78_000000000000000001138277&u=javascript\\\\\">Keep에 저장</a> <a href=\\\\\"https://keep.naver.com/\\\\\" class=\\\\\"spnew_af item item_quick\\\\\" target=\\\\\"_blank\\\\\" onClick=\\\\\"return goOtherCR(this,\\'a=nws*e.kephome&r=31&i=88156f78_000000000000000001138277&u=\\'+urlencode(this.href));\\\\\">Keep 바로가기</a> </div></div><div class=\\\\\"info_group\\\\\"> <a href=\\\\\"http://www.sportsseoul.com/\\\\\" class=\\\\\"info press\\\\\" target=\\\\\"_blank\\\\\" onclick=\\\\\"return goOtherCR(this, \\'a=nws*e.prof&r=31&i=88156f78_000000000000000001138277&g=468.0001138277&u=\\'+urlencode(this.href));\\\\\"><span class=\\\\\"thumb_box\\\\\"><img src=\\\\\"data:image/gif;base64,R0lGODlhAQABAIAAAAAAAP///yH5BAEAAAAALAAAAAABAAEAAAIBRAA7\\\\\" data-lazysrc=\\\\\"https://search.pstatic.net/common/?src=https%3A%2F%2Fmimgnews.pstatic.net%2Fimage%2Fupload%2Foffice_logo%2F468%2F2020%2F12%2F08%2Flogo_468_18_20201208152603.png&type=f54_54&expire=24&refresh=true\\\\\" alt=\\\\\"\\\\\" width=\\\\\"24\\\\\" height=\\\\\"24\\\\\" class=\\\\\"thumb\\\\\" onError=\\\\\"this.src=\\'data:image/gif;base64,R0lGODlhAQABAIAAAAAAAP///yH5BAEAAAAALAAAAAABAAEAAAIBRAA7\\';this.className=\\'thumb bg_default_press\\'\\\\\"></span>스포츠서울</a><span class=\\\\\"info\\\\\">2시간 전</span><a href=\\\\\"https://n.news.naver.com/mnews/article/468/0001138277?sid=102\\\\\" class=\\\\\"info\\\\\" target=\\\\\"_blank\\\\\" onclick=\\\\\"return goOtherCR(this, \\'a=nws*e.nav&r=31&i=88156f78_000000000000000001138277&u=\\'+urlencode(this.href));\\\\\">네이버뉴스</a> </div></div><div class=\\\\\"news_contents\\\\\"> <a href=\\\\\"https://www.sportsseoul.com/news/read/1507020?ref=naver\\\\\" class=\\\\\"dsc_thumb \\\\\" target=\\\\\"_blank\\\\\" onclick=\\\\\"return goOtherCR(this, \\'a=nws*e.img&r=31&i=88156f78_000000000000000001138277&g=468.0001138277&u=\\'+urlencode(this.href));\\\\\"><img src=\\\\\"data:image/gif;base64,R0lGODlhAQABAIAAAAAAAP///yH5BAEAAAAALAAAAAABAAEAAAIBRAA7\\\\\" data-lazysrc=\\\\\"https://search.pstatic.net/common/?src=https%3A%2F%2Fimgnews.pstatic.net%2Fimage%2Forigin%2F468%2F2025%2F04%2F08%2F1138277.jpg&type=f200_200&expire=2&refresh=true\\\\\" width=\\\\\"104\\\\\" height=\\\\\"104\\\\\" alt=\\\\\"육동한 춘천시장, 윤재\\\\\" class=\\\\\"thumb\\\\\" onerror=\\\\\"this.parentNode.style.display=\\'none\\';\\\\\"></a> <a href=\\\\\"https://www.sportsseoul.com/news/read/1507020?ref=naver\\\\\" class=\\\\\"news_tit\\\\\" target=\\\\\"_blank\\\\\" onclick=\\\\\"return goOtherCR(this, \\'a=nws*e.tit&r=31&i=88156f78_000000000000000001138277&g=468.0001138277&u=\\'+urlencode(this.href));\\\\\" title=\\\\\"육동한 춘천시장, 윤재신 바르게살기운동 춘천시협의회장 환담\\\\\">육동한 <mark>춘천시</mark>장, 윤재신 바르게살기운동 <mark>춘천시</mark>협의회장 환담</a> <div class=\\\\\"news_dsc\\\\\"> <div class=\\\\\"dsc_wrap\\\\\"> <a href=\\\\\"https://www.sportsseoul.com/news/read/1507020?ref=naver\\\\\" class=\\\\\"api_txt_lines dsc_txt_wrap\\\\\" target=\\\\\"_blank\\\\\" onclick=\\\\\"return goOtherCR(this, \\'a=nws*e.body&r=31&i=88156f78_000000000000000001138277&g=468.0001138277&u=\\'+urlencode(this.href));\\\\\">사진|<mark>춘천시</mark>청 육동한 <mark>춘천시</mark>장은 8일 접견실에서 윤재신 바르게살기운동 <mark>춘천시</mark>협의회장과 환담했다.</a> </div></div></div></div></div></li>  <li class=\\\\\"bx\\\\\" id=\\\\\"sp_nws32\\\\\"> <div class=\\\\\"news_wrap api_ani_send\\\\\"> <div class=\\\\\"news_area\\\\\"> <div class=\\\\\"news_info\\\\\"> <div class=\\\\\"api_save_group _keep_wrap\\\\\"> <a href=\\\\\"#\\\\\" role=\\\\\"button\\\\\" class=\\\\\"btn_save _keep_trigger\\\\\" data-url=\\\\\"http://www.kado.net/news/articleView.html?idxno=1303709\\\\\" onclick=\\\\\"tCR(\\'a=nws*e.kep&r=32&i=88221sgc_000000000000000000114968&u=javascript\\'); return false;\\\\\" aria-pressed=\\\\\"false\\\\\"><i class=\\\\\"spnew ico_save\\\\\">문서 저장하기</i></a> <div class=\\\\\"api_ly_save _keep_save_layer\\\\\"> <a href=\\\\\"#\\\\\" role=\\\\\"button\\\\\" class=\\\\\"spnew_af item item_save _keep_save\\\\\" data-cr-on=\\\\\"a=nws*e.kepon&r=32&i=88221sgc_000000000000000000114968&u=javascript\\\\\" data-cr-off=\\\\\"a=nws*e.kepoff&r=32&i=88221sgc_000000000000000000114968&u=javascript\\\\\">Keep에 저장</a> <a href=\\\\\"https://keep.naver.com/\\\\\" class=\\\\\"spnew_af item item_quick\\\\\" target=\\\\\"_blank\\\\\" onClick=\\\\\"return goOtherCR(this,\\'a=nws*e.kephome&r=32&i=88221sgc_000000000000000000114968&u=\\'+urlencode(this.href));\\\\\">Keep 바로가기</a> </div></div><div class=\\\\\"info_group\\\\\"> <a href=\\\\\"http://www.kado.net/\\\\\" class=\\\\\"info press\\\\\" target=\\\\\"_blank\\\\\" onclick=\\\\\"return goOtherCR(this, \\'a=nws*e.prof&r=32&i=88221sgc_000000000000000000114968&g=654.0000114968&u=\\'+urlencode(this.href));\\\\\"><span class=\\\\\"thumb_box\\\\\"><img src=\\\\\"data:image/gif;base64,R0lGODlhAQABAIAAAAAAAP///yH5BAEAAAAALAAAAAABAAEAAAIBRAA7\\\\\" data-lazysrc=\\\\\"https://search.pstatic.net/common/?src=https%3A%2F%2Fmimgnews.pstatic.net%2Fimage%2Fupload%2Foffice_logo%2F654%2F2022%2F01%2F14%2Flogo_654_18_20220114111126.png&type=f54_54&expire=24&refresh=true\\\\\" alt=\\\\\"\\\\\" width=\\\\\"24\\\\\" height=\\\\\"24\\\\\" class=\\\\\"thumb\\\\\" onError=\\\\\"this.src=\\'data:image/gif;base64,R0lGODlhAQABAIAAAAAAAP///yH5BAEAAAAALAAAAAABAAEAAAIBRAA7\\';this.className=\\'thumb bg_default_press\\'\\\\\"></span>강원도민일보</a><span class=\\\\\"info\\\\\"><i class=\\\\\"spnew ico_paper\\\\\"></i>20면 1단</span><span class=\\\\\"info\\\\\">17시간 전</span><a href=\\\\\"https://m.sports.naver.com/general/article/654/0000114968\\\\\" class=\\\\\"info\\\\\" target=\\\\\"_blank\\\\\" onclick=\\\\\"return goOtherCR(this, \\'a=nws*e.nav&r=32&i=88221sgc_000000000000000000114968&u=\\'+urlencode(this.href));\\\\\">네이버뉴스</a> </div></div><div class=\\\\\"news_contents\\\\\"> <a href=\\\\\"http://www.kado.net/news/articleView.html?idxno=1303709\\\\\" class=\\\\\"dsc_thumb \\\\\" target=\\\\\"_blank\\\\\" onclick=\\\\\"return goOtherCR(this, \\'a=nws*e.img&r=32&i=88221sgc_000000000000000000114968&g=654.0000114968&u=\\'+urlencode(this.href));\\\\\"><img src=\\\\\"data:image/gif;base64,R0lGODlhAQABAIAAAAAAAP///yH5BAEAAAAALAAAAAABAAEAAAIBRAA7\\\\\" data-lazysrc=\\\\\"https://search.pstatic.net/common/?src=https%3A%2F%2Fimgnews.pstatic.net%2Fimage%2Forigin%2F654%2F2025%2F04%2F08%2F114968.jpg&type=f200_200&expire=2&refresh=true\\\\\" width=\\\\\"104\\\\\" height=\\\\\"104\\\\\" alt=\\\\\"춘천시체육회 회원종목\\\\\" class=\\\\\"thumb\\\\\" onerror=\\\\\"this.parentNode.style.display=\\'none\\';\\\\\"></a> <a href=\\\\\"http://www.kado.net/news/articleView.html?idxno=1303709\\\\\" class=\\\\\"news_tit\\\\\" target=\\\\\"_blank\\\\\" onclick=\\\\\"return goOtherCR(this, \\'a=nws*e.tit&r=32&i=88221sgc_000000000000000000114968&g=654.0000114968&u=\\'+urlencode(this.href));\\\\\" title=\\\\\"춘천시체육회 회원종목단체 회장단협의회\\\\\"><mark>춘천시</mark>체육회 회원종목단체 회장단협의회</a> <div class=\\\\\"news_dsc\\\\\"> <div class=\\\\\"dsc_wrap\\\\\"> <a href=\\\\\"http://www.kado.net/news/articleView.html?idxno=1303709\\\\\" class=\\\\\"api_txt_lines dsc_txt_wrap\\\\\" target=\\\\\"_blank\\\\\" onclick=\\\\\"return goOtherCR(this, \\'a=nws*e.body&r=32&i=88221sgc_000000000000000000114968&g=654.0000114968&u=\\'+urlencode(this.href));\\\\\"><mark>춘천시</mark>체육회(회장 이강균)는 7일 오후 퇴계동 인근 식당에서 2025년 1차 <mark>춘천시</mark>회원종목단체 회장단협의회를 개최하고 제60회 강원도민체전 참가 등 주요 현안에 대해 논의했다.</a> </div></div></div></div></div></li>  <li class=\\\\\"bx\\\\\" id=\\\\\"sp_nws33\\\\\"> <div class=\\\\\"news_wrap api_ani_send\\\\\"> <div class=\\\\\"news_area\\\\\"> <div class=\\\\\"news_info\\\\\"> <div class=\\\\\"api_save_group _keep_wrap\\\\\"> <a href=\\\\\"#\\\\\" role=\\\\\"button\\\\\" class=\\\\\"btn_save _keep_trigger\\\\\" data-url=\\\\\"http://www.shinailbo.co.kr/news/articleView.html?idxno=2033965\\\\\" onclick=\\\\\"tCR(\\'a=nws*f.kep&r=33&i=88155e65_000000000000000001025403&u=javascript\\'); return false;\\\\\" aria-pressed=\\\\\"false\\\\\"><i class=\\\\\"spnew ico_save\\\\\">문서 저장하기</i></a> <div class=\\\\\"api_ly_save _keep_save_layer\\\\\"> <a href=\\\\\"#\\\\\" role=\\\\\"button\\\\\" class=\\\\\"spnew_af item item_save _keep_save\\\\\" data-cr-on=\\\\\"a=nws*f.kepon&r=33&i=88155e65_000000000000000001025403&u=javascript\\\\\" data-cr-off=\\\\\"a=nws*f.kepoff&r=33&i=88155e65_000000000000000001025403&u=javascript\\\\\">Keep에 저장</a> <a href=\\\\\"https://keep.naver.com/\\\\\" class=\\\\\"spnew_af item item_quick\\\\\" target=\\\\\"_blank\\\\\" onClick=\\\\\"return goOtherCR(this,\\'a=nws*f.kephome&r=33&i=88155e65_000000000000000001025403&u=\\'+urlencode(this.href));\\\\\">Keep 바로가기</a> </div></div><div class=\\\\\"info_group\\\\\"> <a href=\\\\\"http://www.shinailbo.co.kr/\\\\\" class=\\\\\"info press\\\\\" target=\\\\\"_blank\\\\\" onclick=\\\\\"return goOtherCR(this, \\'a=nws*f.prof&r=33&i=88155e65_000000000000000001025403&g=5364.0001025403&u=\\'+urlencode(this.href));\\\\\"><span class=\\\\\"thumb_box\\\\\"><img src=\\\\\"data:image/gif;base64,R0lGODlhAQABAIAAAAAAAP///yH5BAEAAAAALAAAAAABAAEAAAIBRAA7\\\\\" data-lazysrc=\\\\\"https://search.pstatic.net/common/?src=https%3A%2F%2Fmimgnews.pstatic.net%2Fimage%2Fupload%2Foffice_logo%2F5364%2F2024%2F05%2F30%2Flogo_5364_18_20240530182757.png&type=f54_54&expire=24&refresh=true\\\\\" alt=\\\\\"\\\\\" width=\\\\\"24\\\\\" height=\\\\\"24\\\\\" class=\\\\\"thumb\\\\\" onError=\\\\\"this.src=\\'data:image/gif;base64,R0lGODlhAQABAIAAAAAAAP///yH5BAEAAAAALAAAAAABAAEAAAIBRAA7\\';this.className=\\'thumb bg_default_press\\'\\\\\"></span>신아일보</a><span class=\\\\\"info\\\\\">4시간 전</span> </div></div><div class=\\\\\"news_contents\\\\\"> <a href=\\\\\"http://www.shinailbo.co.kr/news/articleView.html?idxno=2033965\\\\\" class=\\\\\"dsc_thumb \\\\\" target=\\\\\"_blank\\\\\" onclick=\\\\\"return goOtherCR(this, \\'a=nws*f.img&r=33&i=88155e65_000000000000000001025403&g=5364.0001025403&u=\\'+urlencode(this.href));\\\\\"><img src=\\\\\"data:image/gif;base64,R0lGODlhAQABAIAAAAAAAP///yH5BAEAAAAALAAAAAABAAEAAAIBRAA7\\\\\" data-lazysrc=\\\\\"https://search.pstatic.net/common/?src=https%3A%2F%2Fimgnews.pstatic.net%2Fimage%2Forigin%2F5364%2F2025%2F04%2F08%2F1025403.jpg&type=ofullfill208_208_empty&expire=2&refresh=true\\\\\" width=\\\\\"104\\\\\" height=\\\\\"104\\\\\" alt=\\\\\"춘천시, 마장천 생태하\\\\\" class=\\\\\"thumb\\\\\" onerror=\\\\\"this.parentNode.style.display=\\'none\\';\\\\\"></a> <a href=\\\\\"http://www.shinailbo.co.kr/news/articleView.html?idxno=2033965\\\\\" class=\\\\\"news_tit\\\\\" target=\\\\\"_blank\\\\\" onclick=\\\\\"return goOtherCR(this, \\'a=nws*f.tit&r=33&i=88155e65_000000000000000001025403&g=5364.0001025403&u=\\'+urlencode(this.href));\\\\\" title=\\\\\"춘천시, 마장천 생태하천 복원 사업 현장 점검\\\\\"><mark>춘천시</mark>, 마장천 생태하천 복원 사업 현장 점검</a> <div class=\\\\\"news_dsc\\\\\"> <div class=\\\\\"dsc_wrap\\\\\"> <a href=\\\\\"http://www.shinailbo.co.kr/news/articleView.html?idxno=2033965\\\\\" class=\\\\\"api_txt_lines dsc_txt_wrap\\\\\" target=\\\\\"_blank\\\\\" onclick=\\\\\"return goOtherCR(this, \\'a=nws*f.body&r=33&i=88155e65_000000000000000001025403&g=5364.0001025403&u=\\'+urlencode(this.href));\\\\\"><mark>춘천시</mark>는 지난 7일 육동한 <mark>춘천시</mark>장이 사농동 마장천 생태하천 복원 사업 현장을 찾아 점검했다고 밝혔다.</a> </div></div></div></div></div></li>  <li class=\\\\\"bx\\\\\" id=\\\\\"sp_nws34\\\\\"> <div class=\\\\\"news_wrap api_ani_send\\\\\"> <div class=\\\\\"news_area\\\\\"> <div class=\\\\\"news_info\\\\\"> <div class=\\\\\"api_save_group _keep_wrap\\\\\"> <a href=\\\\\"#\\\\\" role=\\\\\"button\\\\\" class=\\\\\"btn_save _keep_trigger\\\\\" data-url=\\\\\"https://www.kwnews.co.kr/page/view/2025040715252726070\\\\\" onclick=\\\\\"tCR(\\'a=nws*e.kep&r=34&i=8800006A_000000000000000001109187&u=javascript\\'); return false;\\\\\" aria-pressed=\\\\\"false\\\\\"><i class=\\\\\"spnew ico_save\\\\\">문서 저장하기</i></a> <div class=\\\\\"api_ly_save _keep_save_layer\\\\\"> <a href=\\\\\"#\\\\\" role=\\\\\"button\\\\\" class=\\\\\"spnew_af item item_save _keep_save\\\\\" data-cr-on=\\\\\"a=nws*e.kepon&r=34&i=8800006A_000000000000000001109187&u=javascript\\\\\" data-cr-off=\\\\\"a=nws*e.kepoff&r=34&i=8800006A_000000000000000001109187&u=javascript\\\\\">Keep에 저장</a> <a href=\\\\\"https://keep.naver.com/\\\\\" class=\\\\\"spnew_af item item_quick\\\\\" target=\\\\\"_blank\\\\\" onClick=\\\\\"return goOtherCR(this,\\'a=nws*e.kephome&r=34&i=8800006A_000000000000000001109187&u=\\'+urlencode(this.href));\\\\\">Keep 바로가기</a> </div></div><div class=\\\\\"info_group\\\\\"> <a href=\\\\\"http://www.kwnews.co.kr/\\\\\" class=\\\\\"info press\\\\\" target=\\\\\"_blank\\\\\" onclick=\\\\\"return goOtherCR(this, \\'a=nws*e.prof&r=34&i=8800006A_000000000000000001109187&g=087.0001109187&u=\\'+urlencode(this.href));\\\\\"><span class=\\\\\"thumb_box\\\\\"><img src=\\\\\"data:image/gif;base64,R0lGODlhAQABAIAAAAAAAP///yH5BAEAAAAALAAAAAABAAEAAAIBRAA7\\\\\" data-lazysrc=\\\\\"https://search.pstatic.net/common/?src=https%3A%2F%2Fmimgnews.pstatic.net%2Fimage%2Fupload%2Foffice_logo%2F087%2F2019%2F08%2F26%2Flogo_087_18_20190826160426.png&type=f54_54&expire=24&refresh=true\\\\\" alt=\\\\\"\\\\\" width=\\\\\"24\\\\\" height=\\\\\"24\\\\\" class=\\\\\"thumb\\\\\" onError=\\\\\"this.src=\\'data:image/gif;base64,R0lGODlhAQABAIAAAAAAAP///yH5BAEAAAAALAAAAAABAAEAAAIBRAA7\\';this.className=\\'thumb bg_default_press\\'\\\\\"></span>강원일보</a><span class=\\\\\"info\\\\\"><i class=\\\\\"spnew ico_paper\\\\\"></i>10면 1단</span><span class=\\\\\"info\\\\\">17시간 전</span><a href=\\\\\"https://n.news.naver.com/mnews/article/087/0001109187?sid=102\\\\\" class=\\\\\"info\\\\\" target=\\\\\"_blank\\\\\" onclick=\\\\\"return goOtherCR(this, \\'a=nws*e.nav&r=34&i=8800006A_000000000000000001109187&u=\\'+urlencode(this.href));\\\\\">네이버뉴스</a> </div></div><div class=\\\\\"news_contents\\\\\"> <a href=\\\\\"https://www.kwnews.co.kr/page/view/2025040715252726070\\\\\" class=\\\\\"dsc_thumb \\\\\" target=\\\\\"_blank\\\\\" onclick=\\\\\"return goOtherCR(this, \\'a=nws*e.img&r=34&i=8800006A_000000000000000001109187&g=087.0001109187&u=\\'+urlencode(this.href));\\\\\"><img src=\\\\\"data:image/gif;base64,R0lGODlhAQABAIAAAAAAAP///yH5BAEAAAAALAAAAAABAAEAAAIBRAA7\\\\\" data-lazysrc=\\\\\"https://search.pstatic.net/common/?src=https%3A%2F%2Fimgnews.pstatic.net%2Fimage%2Forigin%2F087%2F2025%2F04%2F08%2F1109187.jpg&type=f200_200&expire=2&refresh=true\\\\\" width=\\\\\"104\\\\\" height=\\\\\"104\\\\\" alt=\\\\\"춘천시 대선 공약 발굴\\\\\" class=\\\\\"thumb\\\\\" onerror=\\\\\"this.parentNode.style.display=\\'none\\';\\\\\"></a> <a href=\\\\\"https://www.kwnews.co.kr/page/view/2025040715252726070\\\\\" class=\\\\\"news_tit\\\\\" target=\\\\\"_blank\\\\\" onclick=\\\\\"return goOtherCR(this, \\'a=nws*e.tit&r=34&i=8800006A_000000000000000001109187&g=087.0001109187&u=\\'+urlencode(this.href));\\\\\" title=\\\\\"춘천시 대선 공약 발굴 주력…대형 사업 가속 페달\\\\\"><mark>춘천시</mark> 대선 공약 발굴 주력…대형 사업 가속 페달</a> <div class=\\\\\"news_dsc\\\\\"> <div class=\\\\\"dsc_wrap\\\\\"> <a href=\\\\\"https://www.kwnews.co.kr/page/view/2025040715252726070\\\\\" class=\\\\\"api_txt_lines dsc_txt_wrap\\\\\" target=\\\\\"_blank\\\\\" onclick=\\\\\"return goOtherCR(this, \\'a=nws*e.body&r=34&i=8800006A_000000000000000001109187&g=087.0001109187&u=\\'+urlencode(this.href));\\\\\"><mark>춘천시</mark>가 50여일 앞으로 다가온 대통령 선거에 대비해 공약 발굴에 주력한다. 육동한 <mark>춘천시</mark>장은 7일 국·소장 등이 참석한 주간 업무 회의에서 주요 현안 사업에 대한 대선 공약 반영 건의를 준비하고 사회 인프라 보강 등을 위한 추가 공약 발굴을 주문했다. 또 이 자리에서 육동한 시장은 “타 기관과의 소관...</a> </div></div></div></div></div></li>  <li class=\\\\\"bx\\\\\" id=\\\\\"sp_nws35\\\\\"> <div class=\\\\\"news_wrap api_ani_send\\\\\"> <div class=\\\\\"news_area\\\\\"> <div class=\\\\\"news_info\\\\\"> <div class=\\\\\"api_save_group _keep_wrap\\\\\"> <a href=\\\\\"#\\\\\" role=\\\\\"button\\\\\" class=\\\\\"btn_save _keep_trigger\\\\\" data-url=\\\\\"https://www.kwnews.co.kr/page/view/2025040718400574402\\\\\" onclick=\\\\\"tCR(\\'a=nws*e.kep&r=35&i=8800006A_000000000000000001109118&u=javascript\\'); return false;\\\\\" aria-pressed=\\\\\"false\\\\\"><i class=\\\\\"spnew ico_save\\\\\">문서 저장하기</i></a> <div class=\\\\\"api_ly_save _keep_save_layer\\\\\"> <a href=\\\\\"#\\\\\" role=\\\\\"button\\\\\" class=\\\\\"spnew_af item item_save _keep_save\\\\\" data-cr-on=\\\\\"a=nws*e.kepon&r=35&i=8800006A_000000000000000001109118&u=javascript\\\\\" data-cr-off=\\\\\"a=nws*e.kepoff&r=35&i=8800006A_000000000000000001109118&u=javascript\\\\\">Keep에 저장</a> <a href=\\\\\"https://keep.naver.com/\\\\\" class=\\\\\"spnew_af item item_quick\\\\\" target=\\\\\"_blank\\\\\" onClick=\\\\\"return goOtherCR(this,\\'a=nws*e.kephome&r=35&i=8800006A_000000000000000001109118&u=\\'+urlencode(this.href));\\\\\">Keep 바로가기</a> </div></div><div class=\\\\\"info_group\\\\\"> <a href=\\\\\"http://www.kwnews.co.kr/\\\\\" class=\\\\\"info press\\\\\" target=\\\\\"_blank\\\\\" onclick=\\\\\"return goOtherCR(this, \\'a=nws*e.prof&r=35&i=8800006A_000000000000000001109118&g=087.0001109118&u=\\'+urlencode(this.href));\\\\\"><span class=\\\\\"thumb_box\\\\\"><img src=\\\\\"data:image/gif;base64,R0lGODlhAQABAIAAAAAAAP///yH5BAEAAAAALAAAAAABAAEAAAIBRAA7\\\\\" data-lazysrc=\\\\\"https://search.pstatic.net/common/?src=https%3A%2F%2Fmimgnews.pstatic.net%2Fimage%2Fupload%2Foffice_logo%2F087%2F2019%2F08%2F26%2Flogo_087_18_20190826160426.png&type=f54_54&expire=24&refresh=true\\\\\" alt=\\\\\"\\\\\" width=\\\\\"24\\\\\" height=\\\\\"24\\\\\" class=\\\\\"thumb\\\\\" onError=\\\\\"this.src=\\'data:image/gif;base64,R0lGODlhAQABAIAAAAAAAP///yH5BAEAAAAALAAAAAABAAEAAAIBRAA7\\';this.className=\\'thumb bg_default_press\\'\\\\\"></span>강원일보</a><span class=\\\\\"info\\\\\">23시간 전</span><a href=\\\\\"https://n.news.naver.com/mnews/article/087/0001109118?sid=102\\\\\" class=\\\\\"info\\\\\" target=\\\\\"_blank\\\\\" onclick=\\\\\"return goOtherCR(this, \\'a=nws*e.nav&r=35&i=8800006A_000000000000000001109118&u=\\'+urlencode(this.href));\\\\\">네이버뉴스</a> </div></div><div class=\\\\\"news_contents\\\\\"> <a href=\\\\\"https://www.kwnews.co.kr/page/view/2025040718400574402\\\\\" class=\\\\\"dsc_thumb \\\\\" target=\\\\\"_blank\\\\\" onclick=\\\\\"return goOtherCR(this, \\'a=nws*e.img&r=35&i=8800006A_000000000000000001109118&g=087.0001109118&u=\\'+urlencode(this.href));\\\\\"><img src=\\\\\"data:image/gif;base64,R0lGODlhAQABAIAAAAAAAP///yH5BAEAAAAALAAAAAABAAEAAAIBRAA7\\\\\" data-lazysrc=\\\\\"https://search.pstatic.net/common/?src=https%3A%2F%2Fimgnews.pstatic.net%2Fimage%2Forigin%2F087%2F2025%2F04%2F07%2F1109118.jpg&type=f200_200&expire=2&refresh=true\\\\\" width=\\\\\"104\\\\\" height=\\\\\"104\\\\\" alt=\\\\\"[포토뉴스]2025 제1차\\\\\" class=\\\\\"thumb\\\\\" onerror=\\\\\"this.parentNode.style.display=\\'none\\';\\\\\"></a> <a href=\\\\\"https://www.kwnews.co.kr/page/view/2025040718400574402\\\\\" class=\\\\\"news_tit\\\\\" target=\\\\\"_blank\\\\\" onclick=\\\\\"return goOtherCR(this, \\'a=nws*e.tit&r=35&i=8800006A_000000000000000001109118&g=087.0001109118&u=\\'+urlencode(this.href));\\\\\" title=\\\\\"[포토뉴스]2025 제1차 춘천시회원종목단체 회장단협의회 개최\\\\\">[포토뉴스]2025 제1차 <mark>춘천시</mark>회원종목단체 회장단협의회 개최</a> <div class=\\\\\"news_dsc\\\\\"> <div class=\\\\\"dsc_wrap\\\\\"> <a href=\\\\\"https://www.kwnews.co.kr/page/view/2025040718400574402\\\\\" class=\\\\\"api_txt_lines dsc_txt_wrap\\\\\" target=\\\\\"_blank\\\\\" onclick=\\\\\"return goOtherCR(this, \\'a=nws*e.body&r=35&i=8800006A_000000000000000001109118&g=087.0001109118&u=\\'+urlencode(this.href));\\\\\"><mark>춘천시</mark>체육회(회장:이강균)는 7일 안동본가국밥 춘천퇴계점에서 <mark>춘천시</mark> 회원종목단체장 41명이 참석한 가운데 제1차 <mark>춘천시</mark>회원종목단체 회장단협의회를 열고 △회원종목단체 임원 변경 현황 △제60회 강원특별자치도민체육대회 선수단 참가 안내 △도내 스포츠재단 설립에 관한 현안 △2025년...</a> </div></div></div></div></div></li>  <li class=\\\\\"bx\\\\\" id=\\\\\"sp_nws36\\\\\"> <div class=\\\\\"news_wrap api_ani_send\\\\\"> <div class=\\\\\"news_area\\\\\"> <div class=\\\\\"news_info\\\\\"> <div class=\\\\\"api_save_group _keep_wrap\\\\\"> <a href=\\\\\"#\\\\\" role=\\\\\"button\\\\\" class=\\\\\"btn_save _keep_trigger\\\\\" data-url=\\\\\"http://www.kado.net/news/articleView.html?idxno=1303450\\\\\" onclick=\\\\\"tCR(\\'a=nws*a.kep&r=36&i=88221sgc_000000000000000000114767&u=javascript\\'); return false;\\\\\" aria-pressed=\\\\\"false\\\\\"><i class=\\\\\"spnew ico_save\\\\\">문서 저장하기</i></a> <div class=\\\\\"api_ly_save _keep_save_layer\\\\\"> <a href=\\\\\"#\\\\\" role=\\\\\"button\\\\\" class=\\\\\"spnew_af item item_save _keep_save\\\\\" data-cr-on=\\\\\"a=nws*a.kepon&r=36&i=88221sgc_000000000000000000114767&u=javascript\\\\\" data-cr-off=\\\\\"a=nws*a.kepoff&r=36&i=88221sgc_000000000000000000114767&u=javascript\\\\\">Keep에 저장</a> <a href=\\\\\"https://keep.naver.com/\\\\\" class=\\\\\"spnew_af item item_quick\\\\\" target=\\\\\"_blank\\\\\" onClick=\\\\\"return goOtherCR(this,\\'a=nws*a.kephome&r=36&i=88221sgc_000000000000000000114767&u=\\'+urlencode(this.href));\\\\\">Keep 바로가기</a> </div></div><div class=\\\\\"info_group\\\\\"> <a href=\\\\\"http://www.kado.net/\\\\\" class=\\\\\"info press\\\\\" target=\\\\\"_blank\\\\\" onclick=\\\\\"return goOtherCR(this, \\'a=nws*a.prof&r=36&i=88221sgc_000000000000000000114767&g=654.0000114767&u=\\'+urlencode(this.href));\\\\\"><span class=\\\\\"thumb_box\\\\\"><img src=\\\\\"data:image/gif;base64,R0lGODlhAQABAIAAAAAAAP///yH5BAEAAAAALAAAAAABAAEAAAIBRAA7\\\\\" data-lazysrc=\\\\\"https://search.pstatic.net/common/?src=https%3A%2F%2Fmimgnews.pstatic.net%2Fimage%2Fupload%2Foffice_logo%2F654%2F2022%2F01%2F14%2Flogo_654_18_20220114111126.png&type=f54_54&expire=24&refresh=true\\\\\" alt=\\\\\"\\\\\" width=\\\\\"24\\\\\" height=\\\\\"24\\\\\" class=\\\\\"thumb\\\\\" onError=\\\\\"this.src=\\'data:image/gif;base64,R0lGODlhAQABAIAAAAAAAP///yH5BAEAAAAALAAAAAABAAEAAAIBRAA7\\';this.className=\\'thumb bg_default_press\\'\\\\\"></span>강원도민일보</a><span class=\\\\\"info\\\\\"><i class=\\\\\"spnew ico_paper\\\\\"></i>23면 1단</span><span class=\\\\\"info\\\\\">1일 전</span><a href=\\\\\"https://n.news.naver.com/mnews/article/654/0000114767?sid=102\\\\\" class=\\\\\"info\\\\\" target=\\\\\"_blank\\\\\" onclick=\\\\\"return goOtherCR(this, \\'a=nws*a.nav&r=36&i=88221sgc_000000000000000000114767&u=\\'+urlencode(this.href));\\\\\">네이버뉴스</a> </div></div><div class=\\\\\"news_contents\\\\\"> <a href=\\\\\"http://www.kado.net/news/articleView.html?idxno=1303450\\\\\" class=\\\\\"dsc_thumb \\\\\" target=\\\\\"_blank\\\\\" onclick=\\\\\"return goOtherCR(this, \\'a=nws*a.img&r=36&i=88221sgc_000000000000000000114767&g=654.0000114767&u=\\'+urlencode(this.href));\\\\\"><img src=\\\\\"data:image/gif;base64,R0lGODlhAQABAIAAAAAAAP///yH5BAEAAAAALAAAAAABAAEAAAIBRAA7\\\\\" data-lazysrc=\\\\\"https://search.pstatic.net/common/?src=https%3A%2F%2Fimgnews.pstatic.net%2Fimage%2Forigin%2F654%2F2025%2F04%2F07%2F114767.jpg&type=f200_200&expire=2&refresh=true\\\\\" width=\\\\\"104\\\\\" height=\\\\\"104\\\\\" alt=\\\\\"춘천시 6·25 참전 유\\\\\" class=\\\\\"thumb\\\\\" onerror=\\\\\"this.parentNode.style.display=\\'none\\';\\\\\"></a> <a href=\\\\\"http://www.kado.net/news/articleView.html?idxno=1303450\\\\\" class=\\\\\"news_tit\\\\\" target=\\\\\"_blank\\\\\" onclick=\\\\\"return goOtherCR(this, \\'a=nws*a.tit&r=36&i=88221sgc_000000000000000000114767&g=654.0000114767&u=\\'+urlencode(this.href));\\\\\" title=\\\\\"춘천시 6·25 참전 유공자 기념탑 제막\\\\\"><mark>춘천시</mark> 6·25 참전 유공자 기념탑 제막</a> <div class=\\\\\"news_dsc\\\\\"> <div class=\\\\\"dsc_wrap\\\\\"> <a href=\\\\\"http://www.kado.net/news/articleView.html?idxno=1303450\\\\\" class=\\\\\"api_txt_lines dsc_txt_wrap\\\\\" target=\\\\\"_blank\\\\\" onclick=\\\\\"return goOtherCR(this, \\'a=nws*a.body&r=36&i=88221sgc_000000000000000000114767&g=654.0000114767&u=\\'+urlencode(this.href));\\\\\"><mark>춘천시</mark>는 지난 4일 춘천대첩기념평화공원에서 6·25 참전유공자 기념탑 제막식을 열었다. 높이 12m의 기념탑에는 참전용사와 전투장면을 담았다. 후면에는... 김진호 <mark>춘천시</mark>의장은 &quot;탑 안에 조국을 지켜낸 위대한 용기와, 가족보다 나라를 먼저 생각한 참전용사의 정신이 살아 숨쉬고 있다&quot;고 했다. 육동한...</a> </div></div></div></div></div><div class=\\\\\"news_cluster\\\\\"> <ul class=\\\\\"list_cluster\\\\\"> <li class=\\\\\"sub_bx\\\\\"> <a href=\\\\\"https://www.kwnews.co.kr/page/view/2025040614585719956\\\\\" class=\\\\\"elss sub_tit\\\\\" target=\\\\\"_blank\\\\\" onclick=\\\\\"return goOtherCR(this, \\'a=nws*c.tit&r=37&i=8800006A_000000000000000001108940&g=087.0001108940&u=\\'+urlencode(this.href));\\\\\" title=\\\\\"[피플&amp;피플] 염기원 6·25참전유공자회 춘천시지회장 “전우 이름 새긴 기념탑 건립 감격”\\\\\">[피플&amp;피플] 염기원 6·25참전유공자회 <mark>춘천시</mark>지회장 “전우 이름 새긴...</a> <div class=\\\\\"sub_area\\\\\"> <cite class=\\\\\"sub_txt press\\\\\" title=\\\\\"강원일보\\\\\">강원일보</cite><span class=\\\\\"sub_txt\\\\\">1일 전</span><a href=\\\\\"https://n.news.naver.com/mnews/article/087/0001108940?sid=102\\\\\" class=\\\\\"sub_txt\\\\\" target=\\\\\"_blank\\\\\" onclick=\\\\\"return goOtherCR(this, \\'a=nws*c.nav&r=37&i=8800006A_000000000000000001108940&u=\\'+urlencode(this.href));\\\\\">네이버뉴스</a> </div></li> </ul></div></li>  <li class=\\\\\"bx\\\\\" id=\\\\\"sp_nws38\\\\\"> <div class=\\\\\"news_wrap api_ani_send\\\\\"> <div class=\\\\\"news_area\\\\\"> <div class=\\\\\"news_info\\\\\"> <div class=\\\\\"api_save_group _keep_wrap\\\\\"> <a href=\\\\\"#\\\\\" role=\\\\\"button\\\\\" class=\\\\\"btn_save _keep_trigger\\\\\" data-url=\\\\\"http://www.m-i.kr/news/articleView.html?idxno=1225830\\\\\" onclick=\\\\\"tCR(\\'a=nws*b.kep&r=38&i=88155e4f_000000000000000000752270&u=javascript\\'); return false;\\\\\" aria-pressed=\\\\\"false\\\\\"><i class=\\\\\"spnew ico_save\\\\\">문서 저장하기</i></a> <div class=\\\\\"api_ly_save _keep_save_layer\\\\\"> <a href=\\\\\"#\\\\\" role=\\\\\"button\\\\\" class=\\\\\"spnew_af item item_save _keep_save\\\\\" data-cr-on=\\\\\"a=nws*b.kepon&r=38&i=88155e4f_000000000000000000752270&u=javascript\\\\\" data-cr-off=\\\\\"a=nws*b.kepoff&r=38&i=88155e4f_000000000000000000752270&u=javascript\\\\\">Keep에 저장</a> <a href=\\\\\"https://keep.naver.com/\\\\\" class=\\\\\"spnew_af item item_quick\\\\\" target=\\\\\"_blank\\\\\" onClick=\\\\\"return goOtherCR(this,\\'a=nws*b.kephome&r=38&i=88155e4f_000000000000000000752270&u=\\'+urlencode(this.href));\\\\\">Keep 바로가기</a> </div></div><div class=\\\\\"info_group\\\\\"> <a href=\\\\\"http://www.m-i.kr\\\\\" class=\\\\\"info press\\\\\" target=\\\\\"_blank\\\\\" onclick=\\\\\"return goOtherCR(this, \\'a=nws*b.prof&r=38&i=88155e4f_000000000000000000752270&g=5385.0000752270&u=\\'+urlencode(this.href));\\\\\"><span class=\\\\\"thumb_box\\\\\"><img src=\\\\\"data:image/gif;base64,R0lGODlhAQABAIAAAAAAAP///yH5BAEAAAAALAAAAAABAAEAAAIBRAA7\\\\\" data-lazysrc=\\\\\"https://search.pstatic.net/common/?src=https%3A%2F%2Fmimgnews.pstatic.net%2Fimage%2Fupload%2Foffice_logo%2F5385%2F2024%2F05%2F30%2Flogo_5385_18_20240530182910.png&type=f54_54&expire=24&refresh=true\\\\\" alt=\\\\\"\\\\\" width=\\\\\"24\\\\\" height=\\\\\"24\\\\\" class=\\\\\"thumb\\\\\" onError=\\\\\"this.src=\\'data:image/gif;base64,R0lGODlhAQABAIAAAAAAAP///yH5BAEAAAAALAAAAAABAAEAAAIBRAA7\\';this.className=\\'thumb bg_default_press\\'\\\\\"></span>매일일보</a><span class=\\\\\"info\\\\\">1일 전</span> </div></div><div class=\\\\\"news_contents\\\\\"> <a href=\\\\\"http://www.m-i.kr/news/articleView.html?idxno=1225830\\\\\" class=\\\\\"dsc_thumb \\\\\" target=\\\\\"_blank\\\\\" onclick=\\\\\"return goOtherCR(this, \\'a=nws*b.img&r=38&i=88155e4f_000000000000000000752270&g=5385.0000752270&u=\\'+urlencode(this.href));\\\\\"><img src=\\\\\"data:image/gif;base64,R0lGODlhAQABAIAAAAAAAP///yH5BAEAAAAALAAAAAABAAEAAAIBRAA7\\\\\" data-lazysrc=\\\\\"https://search.pstatic.net/common/?src=https%3A%2F%2Fimgnews.pstatic.net%2Fimage%2Forigin%2F5385%2F2025%2F04%2F07%2F752270.jpg&type=f200_200&expire=2&refresh=true\\\\\" width=\\\\\"104\\\\\" height=\\\\\"104\\\\\" alt=\\\\\"춘천시의회 제341회 예\\\\\" class=\\\\\"thumb\\\\\" onerror=\\\\\"this.parentNode.style.display=\\'none\\';\\\\\"></a> <a href=\\\\\"http://www.m-i.kr/news/articleView.html?idxno=1225830\\\\\" class=\\\\\"news_tit\\\\\" target=\\\\\"_blank\\\\\" onclick=\\\\\"return goOtherCR(this, \\'a=nws*b.tit&r=38&i=88155e4f_000000000000000000752270&g=5385.0000752270&u=\\'+urlencode(this.href));\\\\\" title=\\\\\"춘천시의회 제341회 예산결산특별위원회 주요발언\\\\\"><mark>춘천시</mark>의회 제341회 예산결산특별위원회 주요발언</a> <div class=\\\\\"news_dsc\\\\\"> <div class=\\\\\"dsc_wrap\\\\\"> <a href=\\\\\"http://www.m-i.kr/news/articleView.html?idxno=1225830\\\\\" class=\\\\\"api_txt_lines dsc_txt_wrap\\\\\" target=\\\\\"_blank\\\\\" onclick=\\\\\"return goOtherCR(this, \\'a=nws*b.body&r=38&i=88155e4f_000000000000000000752270&g=5385.0000752270&u=\\'+urlencode(this.href));\\\\\"><mark>춘천시</mark>의회 청사(제공=본사 황경근 기자) 매일일보 = 황경근 기자 | 강원 <mark>춘천시</mark>의회는 7일 제341회 예산결산특별위원회 주요 발언내용을 밝혔다. 이날 신성열 의원은 &quot;시민고충처리위원회가 시민의 고충 처리와 불합리한 행정제도를 개선함으로써 시민의 기본적 권익을 보호하고, 공무원들은 불필요한 민원...</a> </div></div></div></div></div><div class=\\\\\"news_cluster\\\\\"> <ul class=\\\\\"list_cluster\\\\\"> <li class=\\\\\"sub_bx\\\\\"> <a href=\\\\\"https://www.kwnews.co.kr/page/view/2025040715000517291\\\\\" class=\\\\\"elss sub_tit\\\\\" target=\\\\\"_blank\\\\\" onclick=\\\\\"return goOtherCR(this, \\'a=nws*c.tit&r=39&i=8800006A_000000000000000001109043&g=087.0001109043&u=\\'+urlencode(this.href));\\\\\" title=\\\\\"[의정소식]춘천시의회 “고향사랑기금 사업 타 지자체 벤치마킹 필요”\\\\\">[의정소식]<mark>춘천시</mark>의회 “고향사랑기금 사업 타 지자체 벤치마킹 필요”</a> <div class=\\\\\"sub_area\\\\\"> <cite class=\\\\\"sub_txt press\\\\\" title=\\\\\"강원일보\\\\\">강원일보</cite><span class=\\\\\"sub_txt\\\\\">1일 전</span><a href=\\\\\"https://n.news.naver.com/mnews/article/087/0001109043?sid=102\\\\\" class=\\\\\"sub_txt\\\\\" target=\\\\\"_blank\\\\\" onclick=\\\\\"return goOtherCR(this, \\'a=nws*c.nav&r=39&i=8800006A_000000000000000001109043&u=\\'+urlencode(this.href));\\\\\">네이버뉴스</a> </div></li> </ul></div></li>  <li class=\\\\\"bx\\\\\" id=\\\\\"sp_nws40\\\\\"> <div class=\\\\\"news_wrap api_ani_send\\\\\"> <div class=\\\\\"news_area\\\\\"> <div class=\\\\\"news_info\\\\\"> <div class=\\\\\"api_save_group _keep_wrap\\\\\"> <a href=\\\\\"#\\\\\" role=\\\\\"button\\\\\" class=\\\\\"btn_save _keep_trigger\\\\\" data-url=\\\\\"https://www.g1tv.co.kr/news?mid=1_207_4&newsid=326037\\\\\" onclick=\\\\\"tCR(\\'a=nws*b.kep&r=40&i=8815c1fe_000000000000000000088194&u=javascript\\'); return false;\\\\\" aria-pressed=\\\\\"false\\\\\"><i class=\\\\\"spnew ico_save\\\\\">문서 저장하기</i></a> <div class=\\\\\"api_ly_save _keep_save_layer\\\\\"> <a href=\\\\\"#\\\\\" role=\\\\\"button\\\\\" class=\\\\\"spnew_af item item_save _keep_save\\\\\" data-cr-on=\\\\\"a=nws*b.kepon&r=40&i=8815c1fe_000000000000000000088194&u=javascript\\\\\" data-cr-off=\\\\\"a=nws*b.kepoff&r=40&i=8815c1fe_000000000000000000088194&u=javascript\\\\\">Keep에 저장</a> <a href=\\\\\"https://keep.naver.com/\\\\\" class=\\\\\"spnew_af item item_quick\\\\\" target=\\\\\"_blank\\\\\" onClick=\\\\\"return goOtherCR(this,\\'a=nws*b.kephome&r=40&i=8815c1fe_000000000000000000088194&u=\\'+urlencode(this.href));\\\\\">Keep 바로가기</a> </div></div><div class=\\\\\"info_group\\\\\"> <a href=\\\\\"http://www.g1tv.co.kr\\\\\" class=\\\\\"info press\\\\\" target=\\\\\"_blank\\\\\" onclick=\\\\\"return goOtherCR(this, \\'a=nws*b.prof&r=40&i=8815c1fe_000000000000000000088194&g=5402.0000088194&u=\\'+urlencode(this.href));\\\\\"><span class=\\\\\"thumb_box\\\\\"><img src=\\\\\"data:image/gif;base64,R0lGODlhAQABAIAAAAAAAP///yH5BAEAAAAALAAAAAABAAEAAAIBRAA7\\\\\" data-lazysrc=\\\\\"https://search.pstatic.net/common/?src=https%3A%2F%2Fmimgnews.pstatic.net%2Fimage%2Fupload%2Foffice_logo%2F5402%2F2024%2F05%2F30%2Flogo_5402_18_20240530183019.png&type=f54_54&expire=24&refresh=true\\\\\" alt=\\\\\"\\\\\" width=\\\\\"24\\\\\" height=\\\\\"24\\\\\" class=\\\\\"thumb\\\\\" onError=\\\\\"this.src=\\'data:image/gif;base64,R0lGODlhAQABAIAAAAAAAP///yH5BAEAAAAALAAAAAABAAEAAAIBRAA7\\';this.className=\\'thumb bg_default_press\\'\\\\\"></span>G1방송</a><span class=\\\\\"info\\\\\">1일 전</span> </div></div><div class=\\\\\"news_contents\\\\\"> <a href=\\\\\"https://www.g1tv.co.kr/news?mid=1_207_4&newsid=326037\\\\\" class=\\\\\"dsc_thumb \\\\\" target=\\\\\"_blank\\\\\" onclick=\\\\\"return goOtherCR(this, \\'a=nws*b.img&r=40&i=8815c1fe_000000000000000000088194&g=5402.0000088194&u=\\'+urlencode(this.href));\\\\\"><img src=\\\\\"data:image/gif;base64,R0lGODlhAQABAIAAAAAAAP///yH5BAEAAAAALAAAAAABAAEAAAIBRAA7\\\\\" data-lazysrc=\\\\\"https://search.pstatic.net/common/?src=https%3A%2F%2Fimgnews.pstatic.net%2Fimage%2Forigin%2F5402%2F2025%2F04%2F07%2F88194.jpg&type=ofullfill208_208_empty&expire=2&refresh=true\\\\\" width=\\\\\"104\\\\\" height=\\\\\"104\\\\\" alt=\\\\\"강촌 되살리기 사업..\\\\\" class=\\\\\"thumb\\\\\" onerror=\\\\\"this.parentNode.style.display=\\'none\\';\\\\\"></a> <a href=\\\\\"https://www.g1tv.co.kr/news?mid=1_207_4&newsid=326037\\\\\" class=\\\\\"news_tit\\\\\" target=\\\\\"_blank\\\\\" onclick=\\\\\"return goOtherCR(this, \\'a=nws*b.tit&r=40&i=8815c1fe_000000000000000000088194&g=5402.0000088194&u=\\'+urlencode(this.href));\\\\\" title=\\\\\"강촌 되살리기 사업..춘천시의회 제동\\\\\">강촌 되살리기 사업..<mark>춘천시</mark>의회 제동</a> <div class=\\\\\"news_dsc\\\\\"> <div class=\\\\\"dsc_wrap\\\\\"> <a href=\\\\\"https://www.g1tv.co.kr/news?mid=1_207_4&newsid=326037\\\\\" class=\\\\\"api_txt_lines dsc_txt_wrap\\\\\" target=\\\\\"_blank\\\\\" onclick=\\\\\"return goOtherCR(this, \\'a=nws*b.body&r=40&i=8815c1fe_000000000000000000088194&g=5402.0000088194&u=\\'+urlencode(this.href));\\\\\">상가 공실률이 절반을 넘는 상황이 더 악화하면서 <mark>춘천시</mark>가 상권 활성화를 추진하고 있는데요. <mark>춘천시</mark>의회가 사업 필요성에 의문을 제기하면서 사업에 차질이 예상됩니다. 박명원 기자입니다. [리포터] <mark>춘천시</mark> 남산면 강촌. 90년대까지 대학 MT의 성지로 불리며, 지역을 대표하는 관광지 중 하나였습니다....</a> </div></div></div></div></div><div class=\\\\\"news_cluster\\\\\"> <ul class=\\\\\"list_cluster\\\\\"> <li class=\\\\\"sub_bx\\\\\"> <a href=\\\\\"https://www.g1tv.co.kr/news?mid=1_207_3&newsid=326026\\\\\" class=\\\\\"elss sub_tit\\\\\" target=\\\\\"_blank\\\\\" onclick=\\\\\"return goOtherCR(this, \\'a=nws*d.tit&r=41&i=8815c1fe_000000000000000000088183&g=5402.0000088183&u=\\'+urlencode(this.href));\\\\\" title=\\\\\"강촌 되살리기 사업..춘천시의회 제동\\\\\">강촌 되살리기 사업..<mark>춘천시</mark>의회 제동</a> <div class=\\\\\"sub_area\\\\\"> <cite class=\\\\\"sub_txt press\\\\\" title=\\\\\"G1방송\\\\\">G1방송</cite><span class=\\\\\"sub_txt\\\\\">1일 전</span> </div></li> </ul></div></li>  <li class=\\\\\"bx\\\\\" id=\\\\\"sp_nws42\\\\\"> <div class=\\\\\"news_wrap api_ani_send\\\\\"> <div class=\\\\\"news_area\\\\\"> <div class=\\\\\"news_info\\\\\"> <div class=\\\\\"api_save_group _keep_wrap\\\\\"> <a href=\\\\\"#\\\\\" role=\\\\\"button\\\\\" class=\\\\\"btn_save _keep_trigger\\\\\" data-url=\\\\\"http://www.shinailbo.co.kr/news/articleView.html?idxno=2032905\\\\\" onclick=\\\\\"tCR(\\'a=nws*b.kep&r=42&i=88155e65_000000000000000001024474&u=javascript\\'); return false;\\\\\" aria-pressed=\\\\\"false\\\\\"><i class=\\\\\"spnew ico_save\\\\\">문서 저장하기</i></a> <div class=\\\\\"api_ly_save _keep_save_layer\\\\\"> <a href=\\\\\"#\\\\\" role=\\\\\"button\\\\\" class=\\\\\"spnew_af item item_save _keep_save\\\\\" data-cr-on=\\\\\"a=nws*b.kepon&r=42&i=88155e65_000000000000000001024474&u=javascript\\\\\" data-cr-off=\\\\\"a=nws*b.kepoff&r=42&i=88155e65_000000000000000001024474&u=javascript\\\\\">Keep에 저장</a> <a href=\\\\\"https://keep.naver.com/\\\\\" class=\\\\\"spnew_af item item_quick\\\\\" target=\\\\\"_blank\\\\\" onClick=\\\\\"return goOtherCR(this,\\'a=nws*b.kephome&r=42&i=88155e65_000000000000000001024474&u=\\'+urlencode(this.href));\\\\\">Keep 바로가기</a> </div></div><div class=\\\\\"info_group\\\\\"> <a href=\\\\\"http://www.shinailbo.co.kr/\\\\\" class=\\\\\"info press\\\\\" target=\\\\\"_blank\\\\\" onclick=\\\\\"return goOtherCR(this, \\'a=nws*b.prof&r=42&i=88155e65_000000000000000001024474&g=5364.0001024474&u=\\'+urlencode(this.href));\\\\\"><span class=\\\\\"thumb_box\\\\\"><img src=\\\\\"data:image/gif;base64,R0lGODlhAQABAIAAAAAAAP///yH5BAEAAAAALAAAAAABAAEAAAIBRAA7\\\\\" data-lazysrc=\\\\\"https://search.pstatic.net/common/?src=https%3A%2F%2Fmimgnews.pstatic.net%2Fimage%2Fupload%2Foffice_logo%2F5364%2F2024%2F05%2F30%2Flogo_5364_18_20240530182757.png&type=f54_54&expire=24&refresh=true\\\\\" alt=\\\\\"\\\\\" width=\\\\\"24\\\\\" height=\\\\\"24\\\\\" class=\\\\\"thumb\\\\\" onError=\\\\\"this.src=\\'data:image/gif;base64,R0lGODlhAQABAIAAAAAAAP///yH5BAEAAAAALAAAAAABAAEAAAIBRAA7\\';this.className=\\'thumb bg_default_press\\'\\\\\"></span>신아일보</a><span class=\\\\\"info\\\\\">1일 전</span> </div></div><div class=\\\\\"news_contents\\\\\"> <a href=\\\\\"http://www.shinailbo.co.kr/news/articleView.html?idxno=2032905\\\\\" class=\\\\\"dsc_thumb \\\\\" target=\\\\\"_blank\\\\\" onclick=\\\\\"return goOtherCR(this, \\'a=nws*b.img&r=42&i=88155e65_000000000000000001024474&g=5364.0001024474&u=\\'+urlencode(this.href));\\\\\"><img src=\\\\\"data:image/gif;base64,R0lGODlhAQABAIAAAAAAAP///yH5BAEAAAAALAAAAAABAAEAAAIBRAA7\\\\\" data-lazysrc=\\\\\"https://search.pstatic.net/common/?src=https%3A%2F%2Fimgnews.pstatic.net%2Fimage%2Forigin%2F5364%2F2025%2F04%2F07%2F1024474.jpg&type=ofullfill208_208_empty&expire=2&refresh=true\\\\\" width=\\\\\"104\\\\\" height=\\\\\"104\\\\\" alt=\\\\\"춘천시 소각시설 증설\\\\\" class=\\\\\"thumb\\\\\" onerror=\\\\\"this.parentNode.style.display=\\'none\\';\\\\\"></a> <a href=\\\\\"http://www.shinailbo.co.kr/news/articleView.html?idxno=2032905\\\\\" class=\\\\\"news_tit\\\\\" target=\\\\\"_blank\\\\\" onclick=\\\\\"return goOtherCR(this, \\'a=nws*b.tit&r=42&i=88155e65_000000000000000001024474&g=5364.0001024474&u=\\'+urlencode(this.href));\\\\\" title=\\\\\"춘천시 소각시설 증설 사업 중앙투자심사 조건부 승인\\\\\"><mark>춘천시</mark> 소각시설 증설 사업 중앙투자심사 조건부 승인</a> <div class=\\\\\"news_dsc\\\\\"> <div class=\\\\\"dsc_wrap\\\\\"> <a href=\\\\\"http://www.shinailbo.co.kr/news/articleView.html?idxno=2032905\\\\\" class=\\\\\"api_txt_lines dsc_txt_wrap\\\\\" target=\\\\\"_blank\\\\\" onclick=\\\\\"return goOtherCR(this, \\'a=nws*b.body&r=42&i=88155e65_000000000000000001024474&g=5364.0001024474&u=\\'+urlencode(this.href));\\\\\">강원 <mark>춘천시</mark>가 신동면 소각시설 증설 사업 중앙투자심사 결과 조건부 승인을 받았다고 6일 밝혔다. 이에 따라 <mark>춘천시</mark>는 본격적으로 사업을 추진할 방침이다. <mark>춘천시</mark>에 따르면 행정안전부는 최근 2025년 제1차 중앙투자심사를 열고 <mark>춘천시</mark> 신동면 소각시설 증설 사업을 조건부 허가했다. 행정안전부는 사업...</a> </div></div></div></div></div><div class=\\\\\"news_cluster\\\\\"> <ul class=\\\\\"list_cluster\\\\\"> <li class=\\\\\"sub_bx\\\\\"> <a href=\\\\\"https://www.news1.kr/local/kangwon/5744195\\\\\" class=\\\\\"elss sub_tit\\\\\" target=\\\\\"_blank\\\\\" onclick=\\\\\"return goOtherCR(this, \\'a=nws*c.tit&r=43&i=08138263_000000000000000008176764&g=421.0008176764&u=\\'+urlencode(this.href));\\\\\" title=\\\\\"춘천에 일 130톤 폐기물 처리 소각시설 생기나…중투심 조건부 승인\\\\\">춘천에 일 130톤 폐기물 처리 소각시설 생기나…중투심 조건부 승인</a> <div class=\\\\\"sub_area\\\\\"> <cite class=\\\\\"sub_txt press\\\\\" title=\\\\\"뉴스1\\\\\">뉴스1</cite><span class=\\\\\"sub_txt\\\\\">1일 전</span><a href=\\\\\"https://n.news.naver.com/mnews/article/421/0008176764?sid=102\\\\\" class=\\\\\"sub_txt\\\\\" target=\\\\\"_blank\\\\\" onclick=\\\\\"return goOtherCR(this, \\'a=nws*c.nav&r=43&i=08138263_000000000000000008176764&u=\\'+urlencode(this.href));\\\\\">네이버뉴스</a> </div></li> <li class=\\\\\"sub_bx\\\\\"> <a href=\\\\\"https://www.hankookilbo.com/News/Read/A2025040710230005923?did=NA\\\\\" class=\\\\\"elss sub_tit\\\\\" target=\\\\\"_blank\\\\\" onclick=\\\\\"return goOtherCR(this, \\'a=nws*c.tit&r=44&i=88156f75_000000000000000000858071&g=469.0000858071&u=\\'+urlencode(this.href));\\\\\" title=\\\\\"&quot;쓰레기 포화 문제 해결&quot;… 춘천 소각시설 증설 승인\\\\\">&quot;쓰레기 포화 문제 해결&quot;… 춘천 소각시설 증설 승인</a> <div class=\\\\\"sub_area\\\\\"> <cite class=\\\\\"sub_txt press\\\\\" title=\\\\\"한국일보\\\\\">한국일보</cite><span class=\\\\\"sub_txt\\\\\">1일 전</span><a href=\\\\\"https://n.news.naver.com/mnews/article/469/0000858071?sid=102\\\\\" class=\\\\\"sub_txt\\\\\" target=\\\\\"_blank\\\\\" onclick=\\\\\"return goOtherCR(this, \\'a=nws*c.nav&r=44&i=88156f75_000000000000000000858071&u=\\'+urlencode(this.href));\\\\\">네이버뉴스</a> </div></li> </ul></div></li> \"}\\n    ],\\n    \"url\" : \"https://s.search.naver.com/p/newssearch/2/search.naver?cluster_rank=44&de=2025.04.08&ds=2025.04.07&eid=&field=0&force_original=&is_dts=0&is_sug_officeid=0&mynews=0&news_office_checked=&nlu_query=&nqx_theme=%7B%22theme%22%3A%7B%22main%22%3A%7B%22name%22%3A%22location_city%22%2C%22source%22%3A%22NLU%22%7D%2C%22sub%22%3A%5B%7B%22name%22%3A%22location%22%7D%5D%7D%7D&nso=%26nso%3Dso%3Ar%2Cp%3Afrom20250407to20250408%2Ca%3Aall&nx_and_query=&nx_search_hlquery=&nx_search_query=&nx_sub_query=&office_category=0&office_section_code=0&office_type=0&pd=3&photo=0&query=%EC%B6%98%EC%B2%9C%EC%8B%9C&query_original=&rev=31&service_area=0&sort=0&spq=0&start=21&where=news_tab_api&nso=so:r,p:from20250407to20250408,a:all\"\\n    \\n}\\n'"
      ]
     },
     "execution_count": 7,
     "metadata": {},
     "output_type": "execute_result"
    }
   ],
   "source": [
    "response.text"
   ]
  },
  {
   "cell_type": "code",
   "execution_count": null,
   "id": "095e1c2d",
   "metadata": {},
   "outputs": [],
   "source": [
    "import json\n",
    "\n",
    "response_data = json.loads(response.text)\n",
    "li_tags = response_data[\"collection\"][0][\"html\"]\n",
    "next_url = response_data[\"url\"]"
   ]
  },
  {
   "cell_type": "code",
   "execution_count": 8,
   "id": "dc0e0481",
   "metadata": {},
   "outputs": [
    {
     "data": {
      "text/plain": [
       "'https://s.search.naver.com/p/newssearch/2/search.naver?cluster_rank=44&de=2025.04.08&ds=2025.04.07&eid=&field=0&force_original=&is_dts=0&is_sug_officeid=0&mynews=0&news_office_checked=&nlu_query=&nqx_theme=%7B%22theme%22%3A%7B%22main%22%3A%7B%22name%22%3A%22location_city%22%2C%22source%22%3A%22NLU%22%7D%2C%22sub%22%3A%5B%7B%22name%22%3A%22location%22%7D%5D%7D%7D&nso=%26nso%3Dso%3Ar%2Cp%3Afrom20250407to20250408%2Ca%3Aall&nx_and_query=&nx_search_hlquery=&nx_search_query=&nx_sub_query=&office_category=0&office_section_code=0&office_type=0&pd=3&photo=0&query=%EC%B6%98%EC%B2%9C%EC%8B%9C&query_original=&rev=31&service_area=0&sort=0&spq=0&start=21&where=news_tab_api&nso=so:r,p:from20250407to20250408,a:all'"
      ]
     },
     "execution_count": 8,
     "metadata": {},
     "output_type": "execute_result"
    }
   ],
   "source": [
    "next_url"
   ]
  },
  {
   "cell_type": "code",
   "execution_count": null,
   "id": "51443ab1",
   "metadata": {},
   "outputs": [],
   "source": [
    "from bs4 import BeautifulSoup\n",
    "\n",
    "li_tags = BeautifulSoup(li_tags)"
   ]
  },
  {
   "cell_type": "code",
   "execution_count": 10,
   "id": "21358e88",
   "metadata": {},
   "outputs": [],
   "source": [
    "news_url_list=[]\n",
    "\n",
    "for li in li_tags.find_all(\"li\",{\"class\":\"bx\"}):\n",
    "    url= li.find(\"a\",{\"class\":\"news_tit\"})[\"href\"]\n",
    "    news_url_list.append(url)"
   ]
  },
  {
   "cell_type": "code",
   "execution_count": 11,
   "id": "719d9684",
   "metadata": {},
   "outputs": [
    {
     "data": {
      "text/plain": [
       "['https://www.sportsseoul.com/news/read/1507020?ref=naver',\n",
       " 'http://www.kado.net/news/articleView.html?idxno=1303709',\n",
       " 'http://www.shinailbo.co.kr/news/articleView.html?idxno=2033965',\n",
       " 'https://www.kwnews.co.kr/page/view/2025040715252726070',\n",
       " 'https://www.sportsseoul.com/news/read/1507038?ref=naver',\n",
       " 'https://www.kwnews.co.kr/page/view/2025040718400574402',\n",
       " 'http://www.kado.net/news/articleView.html?idxno=1303450',\n",
       " 'http://www.m-i.kr/news/articleView.html?idxno=1225830',\n",
       " 'https://www.g1tv.co.kr/news?mid=1_207_3&newsid=326026',\n",
       " 'http://www.shinailbo.co.kr/news/articleView.html?idxno=2032905']"
      ]
     },
     "execution_count": 11,
     "metadata": {},
     "output_type": "execute_result"
    }
   ],
   "source": [
    "news_url_list"
   ]
  },
  {
   "cell_type": "code",
   "execution_count": 15,
   "id": "193dee11",
   "metadata": {},
   "outputs": [],
   "source": [
    "from trafilatura import fetch_url, extract\n",
    "\n",
    "news_data_list = []\n",
    "for news_url in news_url_list:\n",
    "    news_source = fetch_url(news_url_list[0])\n",
    "    parsed_result= extract(news_source, with_metadata=True, output_format=\"json\") #json string\n",
    "    news_data = json.loads(parsed_result) #pass in json dict\n",
    "    news_data_list.append(news_data)"
   ]
  },
  {
   "cell_type": "code",
   "execution_count": 16,
   "id": "d2a646b4",
   "metadata": {},
   "outputs": [
    {
     "data": {
      "text/plain": [
       "[{'title': '육동한 춘천시장, 윤재신 바르게살기운동 춘천시협의회장 환담',\n",
       "  'author': '김기원 기자',\n",
       "  'hostname': 'sportsseoul.com',\n",
       "  'date': '2025-04-08',\n",
       "  'fingerprint': 'd8e1e4975e280f5',\n",
       "  'id': None,\n",
       "  'license': None,\n",
       "  'comments': '',\n",
       "  'raw_text': '전국 | 강원 육동한 춘천시장, 윤재신 바르게살기운동 춘천시협의회장 환담 입력2025-04-08 14:55:01 북마크 페이스북 트위터 SNS 더보기 가글자크기설정 인쇄 SNS 더보기 닫기 네이버밴드 네이버블로그 URL복사 글자크기 설정 메뉴 닫기 글자크기 설정 시 다른 기사의 본문도동일하게 적용됩니다. 가 가 가 가 가 [스포츠서울ㅣ춘천=김기원기자]육동한 춘천시장은 8일 접견실에서 윤재신 바르게살기운동 춘천시협의회장과 환담했다.acdcok4021@sportsseoul.com 기사추천 0',\n",
       "  'text': '전국 | 강원 육동한 춘천시장, 윤재신 바르게살기운동 춘천시협의회장 환담 입력2025-04-08 14:55:01 북마크 페이스북 트위터 SNS 더보기 가글자크기설정 인쇄 SNS 더보기 닫기 네이버밴드 네이버블로그 URL복사 글자크기 설정 메뉴 닫기 글자크기 설정 시 다른 기사의 본문도동일하게 적용됩니다. 가 가 가 가 가 [스포츠서울ㅣ춘천=김기원기자]육동한 춘천시장은 8일 접견실에서 윤재신 바르게살기운동 춘천시협의회장과 환담했다.acdcok4021@sportsseoul.com 기사추천 0',\n",
       "  'language': None,\n",
       "  'image': 'https://file.sportsseoul.com/news/cms/2025/04/08/news-p.v1.20250408.df28e52f21df41798e98a140daa7249a_P1.png',\n",
       "  'pagetype': 'article',\n",
       "  'filedate': '2025-04-08',\n",
       "  'source': 'https://www.sportsseoul.com/news/read/1507020',\n",
       "  'source-hostname': '스포츠서울',\n",
       "  'excerpt': '[스포츠서울ㅣ춘천=김기원기자]육동한 춘천시장은 8일 접견실에서 윤재신 바르게살기운동 춘천시협의회장과 환담했다. acdcok4021@sportsseoul.com',\n",
       "  'categories': '전국',\n",
       "  'tags': ''},\n",
       " {'title': '육동한 춘천시장, 윤재신 바르게살기운동 춘천시협의회장 환담',\n",
       "  'author': '김기원 기자',\n",
       "  'hostname': 'sportsseoul.com',\n",
       "  'date': '2025-04-08',\n",
       "  'fingerprint': 'd8e1e4975e280f5',\n",
       "  'id': None,\n",
       "  'license': None,\n",
       "  'comments': '',\n",
       "  'raw_text': '전국 | 강원 육동한 춘천시장, 윤재신 바르게살기운동 춘천시협의회장 환담 입력2025-04-08 14:55:01 북마크 페이스북 트위터 SNS 더보기 가글자크기설정 인쇄 SNS 더보기 닫기 네이버밴드 네이버블로그 URL복사 글자크기 설정 메뉴 닫기 글자크기 설정 시 다른 기사의 본문도동일하게 적용됩니다. 가 가 가 가 가 [스포츠서울ㅣ춘천=김기원기자]육동한 춘천시장은 8일 접견실에서 윤재신 바르게살기운동 춘천시협의회장과 환담했다.acdcok4021@sportsseoul.com 기사추천 0',\n",
       "  'text': '전국 | 강원 육동한 춘천시장, 윤재신 바르게살기운동 춘천시협의회장 환담 입력2025-04-08 14:55:01 북마크 페이스북 트위터 SNS 더보기 가글자크기설정 인쇄 SNS 더보기 닫기 네이버밴드 네이버블로그 URL복사 글자크기 설정 메뉴 닫기 글자크기 설정 시 다른 기사의 본문도동일하게 적용됩니다. 가 가 가 가 가 [스포츠서울ㅣ춘천=김기원기자]육동한 춘천시장은 8일 접견실에서 윤재신 바르게살기운동 춘천시협의회장과 환담했다.acdcok4021@sportsseoul.com 기사추천 0',\n",
       "  'language': None,\n",
       "  'image': 'https://file.sportsseoul.com/news/cms/2025/04/08/news-p.v1.20250408.df28e52f21df41798e98a140daa7249a_P1.png',\n",
       "  'pagetype': 'article',\n",
       "  'filedate': '2025-04-08',\n",
       "  'source': 'https://www.sportsseoul.com/news/read/1507020',\n",
       "  'source-hostname': '스포츠서울',\n",
       "  'excerpt': '[스포츠서울ㅣ춘천=김기원기자]육동한 춘천시장은 8일 접견실에서 윤재신 바르게살기운동 춘천시협의회장과 환담했다. acdcok4021@sportsseoul.com',\n",
       "  'categories': '전국',\n",
       "  'tags': ''},\n",
       " {'title': '육동한 춘천시장, 윤재신 바르게살기운동 춘천시협의회장 환담',\n",
       "  'author': '김기원 기자',\n",
       "  'hostname': 'sportsseoul.com',\n",
       "  'date': '2025-04-08',\n",
       "  'fingerprint': 'd8e1e4975e280f5',\n",
       "  'id': None,\n",
       "  'license': None,\n",
       "  'comments': '',\n",
       "  'raw_text': '전국 | 강원 육동한 춘천시장, 윤재신 바르게살기운동 춘천시협의회장 환담 입력2025-04-08 14:55:01 북마크 페이스북 트위터 SNS 더보기 가글자크기설정 인쇄 SNS 더보기 닫기 네이버밴드 네이버블로그 URL복사 글자크기 설정 메뉴 닫기 글자크기 설정 시 다른 기사의 본문도동일하게 적용됩니다. 가 가 가 가 가 [스포츠서울ㅣ춘천=김기원기자]육동한 춘천시장은 8일 접견실에서 윤재신 바르게살기운동 춘천시협의회장과 환담했다.acdcok4021@sportsseoul.com 기사추천 0',\n",
       "  'text': '전국 | 강원 육동한 춘천시장, 윤재신 바르게살기운동 춘천시협의회장 환담 입력2025-04-08 14:55:01 북마크 페이스북 트위터 SNS 더보기 가글자크기설정 인쇄 SNS 더보기 닫기 네이버밴드 네이버블로그 URL복사 글자크기 설정 메뉴 닫기 글자크기 설정 시 다른 기사의 본문도동일하게 적용됩니다. 가 가 가 가 가 [스포츠서울ㅣ춘천=김기원기자]육동한 춘천시장은 8일 접견실에서 윤재신 바르게살기운동 춘천시협의회장과 환담했다.acdcok4021@sportsseoul.com 기사추천 0',\n",
       "  'language': None,\n",
       "  'image': 'https://file.sportsseoul.com/news/cms/2025/04/08/news-p.v1.20250408.df28e52f21df41798e98a140daa7249a_P1.png',\n",
       "  'pagetype': 'article',\n",
       "  'filedate': '2025-04-08',\n",
       "  'source': 'https://www.sportsseoul.com/news/read/1507020',\n",
       "  'source-hostname': '스포츠서울',\n",
       "  'excerpt': '[스포츠서울ㅣ춘천=김기원기자]육동한 춘천시장은 8일 접견실에서 윤재신 바르게살기운동 춘천시협의회장과 환담했다. acdcok4021@sportsseoul.com',\n",
       "  'categories': '전국',\n",
       "  'tags': ''},\n",
       " {'title': '육동한 춘천시장, 윤재신 바르게살기운동 춘천시협의회장 환담',\n",
       "  'author': '김기원 기자',\n",
       "  'hostname': 'sportsseoul.com',\n",
       "  'date': '2025-04-08',\n",
       "  'fingerprint': 'd8e1e4975e280f5',\n",
       "  'id': None,\n",
       "  'license': None,\n",
       "  'comments': '',\n",
       "  'raw_text': '전국 | 강원 육동한 춘천시장, 윤재신 바르게살기운동 춘천시협의회장 환담 입력2025-04-08 14:55:01 북마크 페이스북 트위터 SNS 더보기 가글자크기설정 인쇄 SNS 더보기 닫기 네이버밴드 네이버블로그 URL복사 글자크기 설정 메뉴 닫기 글자크기 설정 시 다른 기사의 본문도동일하게 적용됩니다. 가 가 가 가 가 [스포츠서울ㅣ춘천=김기원기자]육동한 춘천시장은 8일 접견실에서 윤재신 바르게살기운동 춘천시협의회장과 환담했다.acdcok4021@sportsseoul.com 기사추천 0',\n",
       "  'text': '전국 | 강원 육동한 춘천시장, 윤재신 바르게살기운동 춘천시협의회장 환담 입력2025-04-08 14:55:01 북마크 페이스북 트위터 SNS 더보기 가글자크기설정 인쇄 SNS 더보기 닫기 네이버밴드 네이버블로그 URL복사 글자크기 설정 메뉴 닫기 글자크기 설정 시 다른 기사의 본문도동일하게 적용됩니다. 가 가 가 가 가 [스포츠서울ㅣ춘천=김기원기자]육동한 춘천시장은 8일 접견실에서 윤재신 바르게살기운동 춘천시협의회장과 환담했다.acdcok4021@sportsseoul.com 기사추천 0',\n",
       "  'language': None,\n",
       "  'image': 'https://file.sportsseoul.com/news/cms/2025/04/08/news-p.v1.20250408.df28e52f21df41798e98a140daa7249a_P1.png',\n",
       "  'pagetype': 'article',\n",
       "  'filedate': '2025-04-08',\n",
       "  'source': 'https://www.sportsseoul.com/news/read/1507020',\n",
       "  'source-hostname': '스포츠서울',\n",
       "  'excerpt': '[스포츠서울ㅣ춘천=김기원기자]육동한 춘천시장은 8일 접견실에서 윤재신 바르게살기운동 춘천시협의회장과 환담했다. acdcok4021@sportsseoul.com',\n",
       "  'categories': '전국',\n",
       "  'tags': ''},\n",
       " {'title': '육동한 춘천시장, 윤재신 바르게살기운동 춘천시협의회장 환담',\n",
       "  'author': '김기원 기자',\n",
       "  'hostname': 'sportsseoul.com',\n",
       "  'date': '2025-04-08',\n",
       "  'fingerprint': 'd8e1e4975e280f5',\n",
       "  'id': None,\n",
       "  'license': None,\n",
       "  'comments': '',\n",
       "  'raw_text': '전국 | 강원 육동한 춘천시장, 윤재신 바르게살기운동 춘천시협의회장 환담 입력2025-04-08 14:55:01 북마크 페이스북 트위터 SNS 더보기 가글자크기설정 인쇄 SNS 더보기 닫기 네이버밴드 네이버블로그 URL복사 글자크기 설정 메뉴 닫기 글자크기 설정 시 다른 기사의 본문도동일하게 적용됩니다. 가 가 가 가 가 [스포츠서울ㅣ춘천=김기원기자]육동한 춘천시장은 8일 접견실에서 윤재신 바르게살기운동 춘천시협의회장과 환담했다.acdcok4021@sportsseoul.com 기사추천 0',\n",
       "  'text': '전국 | 강원 육동한 춘천시장, 윤재신 바르게살기운동 춘천시협의회장 환담 입력2025-04-08 14:55:01 북마크 페이스북 트위터 SNS 더보기 가글자크기설정 인쇄 SNS 더보기 닫기 네이버밴드 네이버블로그 URL복사 글자크기 설정 메뉴 닫기 글자크기 설정 시 다른 기사의 본문도동일하게 적용됩니다. 가 가 가 가 가 [스포츠서울ㅣ춘천=김기원기자]육동한 춘천시장은 8일 접견실에서 윤재신 바르게살기운동 춘천시협의회장과 환담했다.acdcok4021@sportsseoul.com 기사추천 0',\n",
       "  'language': None,\n",
       "  'image': 'https://file.sportsseoul.com/news/cms/2025/04/08/news-p.v1.20250408.df28e52f21df41798e98a140daa7249a_P1.png',\n",
       "  'pagetype': 'article',\n",
       "  'filedate': '2025-04-08',\n",
       "  'source': 'https://www.sportsseoul.com/news/read/1507020',\n",
       "  'source-hostname': '스포츠서울',\n",
       "  'excerpt': '[스포츠서울ㅣ춘천=김기원기자]육동한 춘천시장은 8일 접견실에서 윤재신 바르게살기운동 춘천시협의회장과 환담했다. acdcok4021@sportsseoul.com',\n",
       "  'categories': '전국',\n",
       "  'tags': ''},\n",
       " {'title': '육동한 춘천시장, 윤재신 바르게살기운동 춘천시협의회장 환담',\n",
       "  'author': '김기원 기자',\n",
       "  'hostname': 'sportsseoul.com',\n",
       "  'date': '2025-04-08',\n",
       "  'fingerprint': 'd8e1e4975e280f5',\n",
       "  'id': None,\n",
       "  'license': None,\n",
       "  'comments': '',\n",
       "  'raw_text': '전국 | 강원 육동한 춘천시장, 윤재신 바르게살기운동 춘천시협의회장 환담 입력2025-04-08 14:55:01 북마크 페이스북 트위터 SNS 더보기 가글자크기설정 인쇄 SNS 더보기 닫기 네이버밴드 네이버블로그 URL복사 글자크기 설정 메뉴 닫기 글자크기 설정 시 다른 기사의 본문도동일하게 적용됩니다. 가 가 가 가 가 [스포츠서울ㅣ춘천=김기원기자]육동한 춘천시장은 8일 접견실에서 윤재신 바르게살기운동 춘천시협의회장과 환담했다.acdcok4021@sportsseoul.com 기사추천 0',\n",
       "  'text': '전국 | 강원 육동한 춘천시장, 윤재신 바르게살기운동 춘천시협의회장 환담 입력2025-04-08 14:55:01 북마크 페이스북 트위터 SNS 더보기 가글자크기설정 인쇄 SNS 더보기 닫기 네이버밴드 네이버블로그 URL복사 글자크기 설정 메뉴 닫기 글자크기 설정 시 다른 기사의 본문도동일하게 적용됩니다. 가 가 가 가 가 [스포츠서울ㅣ춘천=김기원기자]육동한 춘천시장은 8일 접견실에서 윤재신 바르게살기운동 춘천시협의회장과 환담했다.acdcok4021@sportsseoul.com 기사추천 0',\n",
       "  'language': None,\n",
       "  'image': 'https://file.sportsseoul.com/news/cms/2025/04/08/news-p.v1.20250408.df28e52f21df41798e98a140daa7249a_P1.png',\n",
       "  'pagetype': 'article',\n",
       "  'filedate': '2025-04-08',\n",
       "  'source': 'https://www.sportsseoul.com/news/read/1507020',\n",
       "  'source-hostname': '스포츠서울',\n",
       "  'excerpt': '[스포츠서울ㅣ춘천=김기원기자]육동한 춘천시장은 8일 접견실에서 윤재신 바르게살기운동 춘천시협의회장과 환담했다. acdcok4021@sportsseoul.com',\n",
       "  'categories': '전국',\n",
       "  'tags': ''},\n",
       " {'title': '육동한 춘천시장, 윤재신 바르게살기운동 춘천시협의회장 환담',\n",
       "  'author': '김기원 기자',\n",
       "  'hostname': 'sportsseoul.com',\n",
       "  'date': '2025-04-08',\n",
       "  'fingerprint': 'd8e1e4975e280f5',\n",
       "  'id': None,\n",
       "  'license': None,\n",
       "  'comments': '',\n",
       "  'raw_text': '전국 | 강원 육동한 춘천시장, 윤재신 바르게살기운동 춘천시협의회장 환담 입력2025-04-08 14:55:01 북마크 페이스북 트위터 SNS 더보기 가글자크기설정 인쇄 SNS 더보기 닫기 네이버밴드 네이버블로그 URL복사 글자크기 설정 메뉴 닫기 글자크기 설정 시 다른 기사의 본문도동일하게 적용됩니다. 가 가 가 가 가 [스포츠서울ㅣ춘천=김기원기자]육동한 춘천시장은 8일 접견실에서 윤재신 바르게살기운동 춘천시협의회장과 환담했다.acdcok4021@sportsseoul.com 기사추천 0',\n",
       "  'text': '전국 | 강원 육동한 춘천시장, 윤재신 바르게살기운동 춘천시협의회장 환담 입력2025-04-08 14:55:01 북마크 페이스북 트위터 SNS 더보기 가글자크기설정 인쇄 SNS 더보기 닫기 네이버밴드 네이버블로그 URL복사 글자크기 설정 메뉴 닫기 글자크기 설정 시 다른 기사의 본문도동일하게 적용됩니다. 가 가 가 가 가 [스포츠서울ㅣ춘천=김기원기자]육동한 춘천시장은 8일 접견실에서 윤재신 바르게살기운동 춘천시협의회장과 환담했다.acdcok4021@sportsseoul.com 기사추천 0',\n",
       "  'language': None,\n",
       "  'image': 'https://file.sportsseoul.com/news/cms/2025/04/08/news-p.v1.20250408.df28e52f21df41798e98a140daa7249a_P1.png',\n",
       "  'pagetype': 'article',\n",
       "  'filedate': '2025-04-08',\n",
       "  'source': 'https://www.sportsseoul.com/news/read/1507020',\n",
       "  'source-hostname': '스포츠서울',\n",
       "  'excerpt': '[스포츠서울ㅣ춘천=김기원기자]육동한 춘천시장은 8일 접견실에서 윤재신 바르게살기운동 춘천시협의회장과 환담했다. acdcok4021@sportsseoul.com',\n",
       "  'categories': '전국',\n",
       "  'tags': ''},\n",
       " {'title': '육동한 춘천시장, 윤재신 바르게살기운동 춘천시협의회장 환담',\n",
       "  'author': '김기원 기자',\n",
       "  'hostname': 'sportsseoul.com',\n",
       "  'date': '2025-04-08',\n",
       "  'fingerprint': 'd8e1e4975e280f5',\n",
       "  'id': None,\n",
       "  'license': None,\n",
       "  'comments': '',\n",
       "  'raw_text': '전국 | 강원 육동한 춘천시장, 윤재신 바르게살기운동 춘천시협의회장 환담 입력2025-04-08 14:55:01 북마크 페이스북 트위터 SNS 더보기 가글자크기설정 인쇄 SNS 더보기 닫기 네이버밴드 네이버블로그 URL복사 글자크기 설정 메뉴 닫기 글자크기 설정 시 다른 기사의 본문도동일하게 적용됩니다. 가 가 가 가 가 [스포츠서울ㅣ춘천=김기원기자]육동한 춘천시장은 8일 접견실에서 윤재신 바르게살기운동 춘천시협의회장과 환담했다.acdcok4021@sportsseoul.com 기사추천 0',\n",
       "  'text': '전국 | 강원 육동한 춘천시장, 윤재신 바르게살기운동 춘천시협의회장 환담 입력2025-04-08 14:55:01 북마크 페이스북 트위터 SNS 더보기 가글자크기설정 인쇄 SNS 더보기 닫기 네이버밴드 네이버블로그 URL복사 글자크기 설정 메뉴 닫기 글자크기 설정 시 다른 기사의 본문도동일하게 적용됩니다. 가 가 가 가 가 [스포츠서울ㅣ춘천=김기원기자]육동한 춘천시장은 8일 접견실에서 윤재신 바르게살기운동 춘천시협의회장과 환담했다.acdcok4021@sportsseoul.com 기사추천 0',\n",
       "  'language': None,\n",
       "  'image': 'https://file.sportsseoul.com/news/cms/2025/04/08/news-p.v1.20250408.df28e52f21df41798e98a140daa7249a_P1.png',\n",
       "  'pagetype': 'article',\n",
       "  'filedate': '2025-04-08',\n",
       "  'source': 'https://www.sportsseoul.com/news/read/1507020',\n",
       "  'source-hostname': '스포츠서울',\n",
       "  'excerpt': '[스포츠서울ㅣ춘천=김기원기자]육동한 춘천시장은 8일 접견실에서 윤재신 바르게살기운동 춘천시협의회장과 환담했다. acdcok4021@sportsseoul.com',\n",
       "  'categories': '전국',\n",
       "  'tags': ''},\n",
       " {'title': '육동한 춘천시장, 윤재신 바르게살기운동 춘천시협의회장 환담',\n",
       "  'author': '김기원 기자',\n",
       "  'hostname': 'sportsseoul.com',\n",
       "  'date': '2025-04-08',\n",
       "  'fingerprint': 'd8e1e4975e280f5',\n",
       "  'id': None,\n",
       "  'license': None,\n",
       "  'comments': '',\n",
       "  'raw_text': '전국 | 강원 육동한 춘천시장, 윤재신 바르게살기운동 춘천시협의회장 환담 입력2025-04-08 14:55:01 북마크 페이스북 트위터 SNS 더보기 가글자크기설정 인쇄 SNS 더보기 닫기 네이버밴드 네이버블로그 URL복사 글자크기 설정 메뉴 닫기 글자크기 설정 시 다른 기사의 본문도동일하게 적용됩니다. 가 가 가 가 가 [스포츠서울ㅣ춘천=김기원기자]육동한 춘천시장은 8일 접견실에서 윤재신 바르게살기운동 춘천시협의회장과 환담했다.acdcok4021@sportsseoul.com 기사추천 0',\n",
       "  'text': '전국 | 강원 육동한 춘천시장, 윤재신 바르게살기운동 춘천시협의회장 환담 입력2025-04-08 14:55:01 북마크 페이스북 트위터 SNS 더보기 가글자크기설정 인쇄 SNS 더보기 닫기 네이버밴드 네이버블로그 URL복사 글자크기 설정 메뉴 닫기 글자크기 설정 시 다른 기사의 본문도동일하게 적용됩니다. 가 가 가 가 가 [스포츠서울ㅣ춘천=김기원기자]육동한 춘천시장은 8일 접견실에서 윤재신 바르게살기운동 춘천시협의회장과 환담했다.acdcok4021@sportsseoul.com 기사추천 0',\n",
       "  'language': None,\n",
       "  'image': 'https://file.sportsseoul.com/news/cms/2025/04/08/news-p.v1.20250408.df28e52f21df41798e98a140daa7249a_P1.png',\n",
       "  'pagetype': 'article',\n",
       "  'filedate': '2025-04-08',\n",
       "  'source': 'https://www.sportsseoul.com/news/read/1507020',\n",
       "  'source-hostname': '스포츠서울',\n",
       "  'excerpt': '[스포츠서울ㅣ춘천=김기원기자]육동한 춘천시장은 8일 접견실에서 윤재신 바르게살기운동 춘천시협의회장과 환담했다. acdcok4021@sportsseoul.com',\n",
       "  'categories': '전국',\n",
       "  'tags': ''},\n",
       " {'title': '육동한 춘천시장, 윤재신 바르게살기운동 춘천시협의회장 환담',\n",
       "  'author': '김기원 기자',\n",
       "  'hostname': 'sportsseoul.com',\n",
       "  'date': '2025-04-08',\n",
       "  'fingerprint': 'd8e1e4975e280f5',\n",
       "  'id': None,\n",
       "  'license': None,\n",
       "  'comments': '',\n",
       "  'raw_text': '전국 | 강원 육동한 춘천시장, 윤재신 바르게살기운동 춘천시협의회장 환담 입력2025-04-08 14:55:01 북마크 페이스북 트위터 SNS 더보기 가글자크기설정 인쇄 SNS 더보기 닫기 네이버밴드 네이버블로그 URL복사 글자크기 설정 메뉴 닫기 글자크기 설정 시 다른 기사의 본문도동일하게 적용됩니다. 가 가 가 가 가 [스포츠서울ㅣ춘천=김기원기자]육동한 춘천시장은 8일 접견실에서 윤재신 바르게살기운동 춘천시협의회장과 환담했다.acdcok4021@sportsseoul.com 기사추천 0',\n",
       "  'text': '전국 | 강원 육동한 춘천시장, 윤재신 바르게살기운동 춘천시협의회장 환담 입력2025-04-08 14:55:01 북마크 페이스북 트위터 SNS 더보기 가글자크기설정 인쇄 SNS 더보기 닫기 네이버밴드 네이버블로그 URL복사 글자크기 설정 메뉴 닫기 글자크기 설정 시 다른 기사의 본문도동일하게 적용됩니다. 가 가 가 가 가 [스포츠서울ㅣ춘천=김기원기자]육동한 춘천시장은 8일 접견실에서 윤재신 바르게살기운동 춘천시협의회장과 환담했다.acdcok4021@sportsseoul.com 기사추천 0',\n",
       "  'language': None,\n",
       "  'image': 'https://file.sportsseoul.com/news/cms/2025/04/08/news-p.v1.20250408.df28e52f21df41798e98a140daa7249a_P1.png',\n",
       "  'pagetype': 'article',\n",
       "  'filedate': '2025-04-08',\n",
       "  'source': 'https://www.sportsseoul.com/news/read/1507020',\n",
       "  'source-hostname': '스포츠서울',\n",
       "  'excerpt': '[스포츠서울ㅣ춘천=김기원기자]육동한 춘천시장은 8일 접견실에서 윤재신 바르게살기운동 춘천시협의회장과 환담했다. acdcok4021@sportsseoul.com',\n",
       "  'categories': '전국',\n",
       "  'tags': ''}]"
      ]
     },
     "execution_count": 16,
     "metadata": {},
     "output_type": "execute_result"
    }
   ],
   "source": [
    "news_data_list"
   ]
  },
  {
   "cell_type": "code",
   "execution_count": 2,
   "id": "2321a9f2",
   "metadata": {},
   "outputs": [],
   "source": [
    "import json\n",
    "\n",
    "with open(\"news_data.json\") as f:\n",
    "    news_data = json.load(f)"
   ]
  },
  {
   "cell_type": "code",
   "execution_count": null,
   "id": "89003722",
   "metadata": {},
   "outputs": [
    {
     "data": {
      "text/plain": [
       "100"
      ]
     },
     "execution_count": 5,
     "metadata": {},
     "output_type": "execute_result"
    }
   ],
   "source": [
    "#after remove uneeded query\n",
    "len(news_data)"
   ]
  },
  {
   "cell_type": "code",
   "execution_count": null,
   "id": "83b0cf30",
   "metadata": {},
   "outputs": [],
   "source": []
  }
 ],
 "metadata": {
  "kernelspec": {
   "display_name": "base",
   "language": "python",
   "name": "python3"
  },
  "language_info": {
   "codemirror_mode": {
    "name": "ipython",
    "version": 3
   },
   "file_extension": ".py",
   "mimetype": "text/x-python",
   "name": "python",
   "nbconvert_exporter": "python",
   "pygments_lexer": "ipython3",
   "version": "3.12.7"
  }
 },
 "nbformat": 4,
 "nbformat_minor": 5
}
