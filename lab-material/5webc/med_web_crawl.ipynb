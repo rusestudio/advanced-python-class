{
 "cells": [
  {
   "cell_type": "code",
   "execution_count": 1,
   "id": "1136204e",
   "metadata": {},
   "outputs": [],
   "source": [
    "import requests\n",
    "\n",
    "url=\"http://www.snuh.org/health/nMedInfo/nList.do?pageIndex=1&sortType=&searchNWord=&searchKey=\""
   ]
  },
  {
   "cell_type": "code",
   "execution_count": 4,
   "id": "0cad0b1b",
   "metadata": {},
   "outputs": [],
   "source": [
    "ren = requests.get(url)"
   ]
  },
  {
   "cell_type": "code",
   "execution_count": 6,
   "id": "06a05aa6",
   "metadata": {},
   "outputs": [],
   "source": [
    "from bs4 import BeautifulSoup\n",
    "\n",
    "soup = BeautifulSoup(ren.text)"
   ]
  },
  {
   "cell_type": "code",
   "execution_count": 8,
   "id": "d557b513",
   "metadata": {},
   "outputs": [
    {
     "data": {
      "text/plain": [
       "<div class=\"item\">\n",
       "<!-- txtWrap -->\n",
       "<div class=\"txtWrap\">\n",
       "<div class=\"title\">\n",
       "<a href=\"./nView.do?medid=AA000491\" onclick=\"goView('AA000491');return false;\">\n",
       "<strong>ABO 신생아용혈성질환 [ABO hemolytic disease of the newborn]</strong>\n",
       "</a>\n",
       "</div>\n",
       "<p>태반을 통과한 산모의 ABO 혈액형 항체가 태아나 신생아의 적혈구 항원과 결합하여 적혈구가 파괴되는 질환</p>\n",
       "<div class=\"date\">\n",
       "\t\t\t\t\t\t조회수: 44,804\n",
       "\t\t\t\t\t\t<span class=\"\">관심콘텐츠 등록자수: 2</span>\n",
       "</div>\n",
       "</div>\n",
       "<!-- //txtWrap -->\n",
       "<!-- thumb\n",
       "\t\t\t\t<div class=\"thumb\">\n",
       "\t\t\t\t\t<img src=\"https://dummyimage.com/110x110/ffc0cb/fff\" alt=\"\">\n",
       "\t\t\t\t</div>\n",
       "\t\t\t\t//thumb -->\n",
       "</div>"
      ]
     },
     "execution_count": 8,
     "metadata": {},
     "output_type": "execute_result"
    }
   ],
   "source": [
    "soup.find(\"div\", {\"class\": \"thumbType04\"}).find_all(\"div\", {\"class\":\"item\"})[0] \n",
    "#[0] for only first item\n",
    "#can remove [0] for all item"
   ]
  }
 ],
 "metadata": {
  "kernelspec": {
   "display_name": "base",
   "language": "python",
   "name": "python3"
  },
  "language_info": {
   "codemirror_mode": {
    "name": "ipython",
    "version": 3
   },
   "file_extension": ".py",
   "mimetype": "text/x-python",
   "name": "python",
   "nbconvert_exporter": "python",
   "pygments_lexer": "ipython3",
   "version": "3.12.7"
  }
 },
 "nbformat": 4,
 "nbformat_minor": 5
}
