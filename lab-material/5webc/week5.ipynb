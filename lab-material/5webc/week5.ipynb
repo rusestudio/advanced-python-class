{
 "cells": [
  {
   "cell_type": "code",
   "execution_count": 6,
   "metadata": {},
   "outputs": [],
   "source": [
    "import requests\n",
    "# to crawl data in the url\n",
    "url=\"https://s.search.naver.com/p/newssearch/2/search.naver?cluster_rank=32&de=2025.04.07&ds=2025.04.07&eid=&field=0&force_original=&is_dts=0&is_sug_officeid=0&mynews=0&news_office_checked=&nlu_query=&nqx_theme=%7B%22theme%22%3A%7B%22main%22%3A%7B%22name%22%3A%22encyclopedia%22%2C%22source%22%3A%22TOS%22%7D%2C%22sub%22%3A%5B%7B%22name%22%3A%22society%22%7D%2C%7B%22name%22%3A%22weather%22%7D%5D%7D%7D&nso=%26nso%3Dso%3Ar%2Cp%3Afrom20250407to20250407%2Ca%3Aall&nx_and_query=&nx_search_hlquery=&nx_search_query=&nx_sub_query=&office_category=0&office_section_code=0&office_type=0&pd=3&photo=0&query=%EA%B2%BD%EC%A0%9C&query_original=&rev=31&service_area=0&sort=0&spq=0&start=21&where=news_tab_api&nso=so:r,p:from20250407to20250407,a:all\"\n",
    "\n",
    "response = requests.get(url)"
   ]
  },
  {
   "cell_type": "code",
   "execution_count": null,
   "metadata": {},
   "outputs": [],
   "source": [
    "#https://s.search.naver.com/p/newssearch/2/search.naver?cluster_rank=16&de=2025.04.07&ds=2025.04.07&eid=&field=0&force_original=&is_dts=0&is_sug_officeid=0&mynews=0&news_office_checked=&nlu_query=&nqx_theme=%7B%22theme%22%3A%7B%22main%22%3A%7B%22name%22%3A%22encyclopedia%22%2C%22source%22%3A%22TOS%22%7D%2C%22sub%22%3A%5B%7B%22name%22%3A%22society%22%7D%2C%7B%22name%22%3A%22weather%22%7D%5D%7D%7D&nso=%26nso%3Dso%3Ar%2Cp%3Afrom20250407to20250407%2Ca%3Aall&nx_and_query=&nx_search_hlquery=&nx_search_query=&nx_sub_query=&office_category=0&office_section_code=0&office_type=0&pd=3&photo=0&query=%EA%B2%BD%EC%A0%9C&query_original=&rev=31&service_area=0&sort=0&spq=0&start=11&where=news_tab_api&nso=so:r,p:from20250407to20250407,a:all"
   ]
  },
  {
   "cell_type": "code",
   "execution_count": 8,
   "metadata": {},
   "outputs": [
    {
     "data": {
      "text/plain": [
       "200"
      ]
     },
     "execution_count": 8,
     "metadata": {},
     "output_type": "execute_result"
    }
   ],
   "source": [
    "response.status_code"
   ]
  },
  {
   "cell_type": "code",
   "execution_count": null,
   "metadata": {},
   "outputs": [
    {
     "name": "stdout",
     "output_type": "stream",
     "text": [
      "<class 'bs4.BeautifulSoup'>\n"
     ]
    }
   ],
   "source": [
    "#find specific data use beutfulsop\n",
    "#data.find_all(\"tag\", {\"class\": \"class_name\"})\n",
    "#data.find_all(\"tag\", {\"class\": \"class_name\"})[list type].\n",
    "#parsing data url use beautifulsoup\n",
    "from bs4 import BeautifulSoup\n",
    "import requests\n",
    "\n",
    "url=\"https://s.search.naver.com/p/newssearch/2/search.naver?cluster_rank=32&de=2025.04.07&ds=2025.04.07&eid=&field=0&force_original=&is_dts=0&is_sug_officeid=0&mynews=0&news_office_checked=&nlu_query=&nqx_theme=%7B%22theme%22%3A%7B%22main%22%3A%7B%22name%22%3A%22encyclopedia%22%2C%22source%22%3A%22TOS%22%7D%2C%22sub%22%3A%5B%7B%22name%22%3A%22society%22%7D%2C%7B%22name%22%3A%22weather%22%7D%5D%7D%7D&nso=%26nso%3Dso%3Ar%2Cp%3Afrom20250407to20250407%2Ca%3Aall&nx_and_query=&nx_search_hlquery=&nx_search_query=&nx_sub_query=&office_category=0&office_section_code=0&office_type=0&pd=3&photo=0&query=%EA%B2%BD%EC%A0%9C&query_original=&rev=31&service_area=0&sort=0&spq=0&start=21&where=news_tab_api&nso=so:r,p:from20250407to20250407,a:all\"\n",
    "\n",
    "response = requests.get(url)\n",
    "\n",
    "soup = BeautifulSoup(response.text)\n",
    "print(type(soup))"
   ]
  },
  {
   "cell_type": "code",
   "execution_count": null,
   "metadata": {},
   "outputs": [
    {
     "name": "stdout",
     "output_type": "stream",
     "text": [
      "None\n"
     ]
    }
   ],
   "source": [
    "news_content = soup.find(\"li\",{\"class\": \"bx\"})\n",
    "print(news_content)\n",
    "#news_content.extract()\n",
    "#print(news_content)"
   ]
  },
  {
   "cell_type": "code",
   "execution_count": null,
   "metadata": {},
   "outputs": [],
   "source": [
    "#extract data use trafilatura library\n",
    "\n",
    "#page = fetch_url(put find all in here)\n",
    "#extract(page)\n",
    "\n",
    "#or can also extract with specific type\n",
    "\n",
    "#extract data in json dictionary type\n",
    "#extract(page, output_format=\"json\", with_metadata=True)\n",
    "#extract in json file. \n",
    "\n",
    "#pagedata = json.loads((extract(page)))\n"
   ]
  },
  {
   "cell_type": "code",
   "execution_count": null,
   "metadata": {},
   "outputs": [],
   "source": [
    "from trafilatura import fetch_url, extract\n",
    "\n",
    "page = fetch_url(news_content = soup.find(\"li\",{\"class\": \"bx\"}))"
   ]
  },
  {
   "cell_type": "code",
   "execution_count": null,
   "metadata": {},
   "outputs": [],
   "source": [
    "print(extract(page, output_format=\"json\", with_metadata=True))"
   ]
  }
 ],
 "metadata": {
  "kernelspec": {
   "display_name": "base",
   "language": "python",
   "name": "python3"
  },
  "language_info": {
   "codemirror_mode": {
    "name": "ipython",
    "version": 3
   },
   "file_extension": ".py",
   "mimetype": "text/x-python",
   "name": "python",
   "nbconvert_exporter": "python",
   "pygments_lexer": "ipython3",
   "version": "3.12.7"
  }
 },
 "nbformat": 4,
 "nbformat_minor": 2
}
