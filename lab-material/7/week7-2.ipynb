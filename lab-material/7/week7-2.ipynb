{
 "cells": [
  {
   "cell_type": "code",
   "execution_count": null,
   "id": "e32dd1e9",
   "metadata": {},
   "outputs": [],
   "source": [
    "#iterator\n",
    "iter_obj= [1,2,3,4,5]\n",
    "\n",
    "def do_work(num):\n",
    "    return print(num)\n",
    "\n",
    "for i in iter_obj:\n",
    "    do_work(i)\n",
    "\n",
    "\n",
    "obj_iter = iter(iter_obj)\n",
    "while True:\n",
    "    try:\n",
    "        i = next(obj_iter)\n",
    "    except StopIteration:\n",
    "       break\n",
    "    else:\n",
    "        do_work(i)\n"
   ]
  },
  {
   "cell_type": "code",
   "execution_count": null,
   "id": "26322d7a",
   "metadata": {},
   "outputs": [],
   "source": [
    "#reverse iteration\n",
    "class ReverseIterator:\n",
    "    def __init__(self, data):\n",
    "        self.data = data\n",
    "        self.position = len(self.data) -1\n",
    "\n",
    "    def __iter__(self):\n",
    "        if self.position <0:\n",
    "            raise StopIteration\n",
    "        result = self.data[self.position]\n",
    "        self.position -=1\n",
    "        return result\n",
    "    \n",
    "if __name__ == \"__main__\":\n",
    "    i = ReverseIterator([1,2,3])\n",
    "    for item in i:\n",
    "        print(item)"
   ]
  },
  {
   "cell_type": "code",
   "execution_count": null,
   "id": "534dde0c",
   "metadata": {},
   "outputs": [],
   "source": [
    "#list vs iterator\n",
    "#list\n",
    "\n",
    "a = [i for i in range(100)]\n",
    "\n",
    "num = 0\n",
    "for i in a:\n",
    "    num += i\n",
    "\n",
    "print(num)"
   ]
  },
  {
   "cell_type": "code",
   "execution_count": null,
   "id": "d195e2cc",
   "metadata": {},
   "outputs": [],
   "source": [
    "#list vs iterator\n",
    "#iterator\n",
    "\n",
    "class MyRange:\n",
    "    def __init__(self, start, end):\n",
    "        self.start = start\n",
    "        self.end = end\n",
    "\n",
    "    def __iter__(self):\n",
    "        return self\n",
    "    \n",
    "    def __next__(self):\n",
    "        if self.start >= self.end:\n",
    "            raise StopIteration\n",
    "    \n",
    "        value = self.start\n",
    "        self.start += 1\n",
    "        return value\n",
    "    \n",
    "myrange = MyRange(0, 100)\n",
    "\n",
    "num =0\n",
    "for i in myrange:\n",
    "    num += i\n",
    "\n",
    "print(num)"
   ]
  },
  {
   "cell_type": "code",
   "execution_count": null,
   "id": "810c06b1",
   "metadata": {},
   "outputs": [],
   "source": [
    "#generator\n",
    "#use yield for return\n",
    "#so that after function yield it will not close\n",
    "#but return one by one\n",
    "#use yield for iterable obj. "
   ]
  },
  {
   "cell_type": "code",
   "execution_count": 8,
   "id": "416b5fe8",
   "metadata": {},
   "outputs": [
    {
     "name": "stdout",
     "output_type": "stream",
     "text": [
      "2, 4, 6, 8, \n",
      "2 4 6 8 "
     ]
    }
   ],
   "source": [
    "from typing import Generator, List\n",
    "\n",
    "def  yield_mul_by_2(numbers: List[int]) -> Generator[int, None, None]:\n",
    "    for number in numbers:\n",
    "        yield number*2\n",
    "\n",
    "    return \"Test\"\n",
    "\n",
    "def yield_from_mul_2(numbers: List[int]) -> Generator[int, None, None]:\n",
    "    yield from [number * 2 for number in numbers]\n",
    "\n",
    "numbers = [1,2,3,4]\n",
    "\n",
    "for number in yield_mul_by_2(numbers):\n",
    "    print(number, end=\", \")\n",
    "\n",
    "print()\n",
    "\n",
    "for number in yield_from_mul_2(numbers):\n",
    "    print(number, end=\" \")"
   ]
  },
  {
   "cell_type": "code",
   "execution_count": 6,
   "id": "21aa8cc3",
   "metadata": {},
   "outputs": [
    {
     "name": "stdout",
     "output_type": "stream",
     "text": [
      "1 2 3 4 5 6 7 8\n"
     ]
    }
   ],
   "source": [
    "from typing import List, Iterator\n",
    "\n",
    "def list_gen(nested_list: List[List[int]]) -> Iterator[int]:\n",
    "    for element in nested_list:\n",
    "        if type(element) == list:\n",
    "            yield from list_gen(element)\n",
    "        else:\n",
    "            yield element\n",
    "\n",
    "nested_list = [[1,2,3], [4,5], [6,[7,8]]]\n",
    "open_list = list_gen(nested_list)\n",
    "\n",
    "print(\" \".join(map(str, open_list)))"
   ]
  },
  {
   "cell_type": "code",
   "execution_count": null,
   "id": "e2bc21c2",
   "metadata": {},
   "outputs": [],
   "source": [
    "def prime_number_generator():\n",
    "    prime_numbers =[]\n",
    "    num = 2\n",
    "    while True:\n",
    "        for prime in prime_numbers:\n",
    "            if num % prime ==0:\n",
    "                break\n",
    "            else:\n",
    "                prime_numbers.append(num)\n",
    "                yield num\n",
    "            num += 1\n",
    "\n",
    "prime_num_gen = prime_number_generator()\n",
    "print(type(prime_num_gen))\n",
    "\n",
    "for i in range(3):\n",
    "    print(next(prime_num_gen))"
   ]
  },
  {
   "cell_type": "code",
   "execution_count": 11,
   "id": "6f4b1a34",
   "metadata": {},
   "outputs": [
    {
     "name": "stdout",
     "output_type": "stream",
     "text": [
      "1\n",
      "2\n",
      "3\n"
     ]
    },
    {
     "ename": "StopIteration",
     "evalue": "end of function",
     "output_type": "error",
     "traceback": [
      "\u001b[1;31m---------------------------------------------------------------------------\u001b[0m",
      "\u001b[1;31mStopIteration\u001b[0m                             Traceback (most recent call last)",
      "Cell \u001b[1;32mIn[11], line 11\u001b[0m\n\u001b[0;32m      9\u001b[0m \u001b[38;5;28mprint\u001b[39m(\u001b[38;5;28mnext\u001b[39m(g))\n\u001b[0;32m     10\u001b[0m \u001b[38;5;28mprint\u001b[39m(\u001b[38;5;28mnext\u001b[39m(g))\n\u001b[1;32m---> 11\u001b[0m \u001b[38;5;28mnext\u001b[39m(g)\n",
      "\u001b[1;31mStopIteration\u001b[0m: end of function"
     ]
    }
   ],
   "source": [
    "def generator_f()-> Generator[int, None, str]:\n",
    "    yield 1\n",
    "    yield 2\n",
    "    yield 3\n",
    "    return \"end of function\"\n",
    "\n",
    "g = generator_f()\n",
    "print(next(g))\n",
    "print(next(g))\n",
    "print(next(g))\n",
    "next(g)"
   ]
  },
  {
   "cell_type": "code",
   "execution_count": null,
   "id": "0e172f3f",
   "metadata": {},
   "outputs": [],
   "source": [
    "#use list\n",
    "#use many memory space\n",
    "#slower\n",
    "\n",
    "def fib_list(num_items: int)-> List[int]:\n",
    "    numbers =[]\n",
    "    a,b = 0,1\n",
    "    while len(numbers) < num_items:\n",
    "        numbers.append(a)\n",
    "        a,b = b, a+b\n",
    "\n",
    "    return numbers"
   ]
  },
  {
   "cell_type": "code",
   "execution_count": null,
   "id": "d804733a",
   "metadata": {},
   "outputs": [],
   "source": [
    "# use generator\n",
    "#use small memory space\n",
    "#faster than list \n",
    "\n",
    "def fib_list(num_items: int) ->Generator[int, None,None]:\n",
    "    a, b = 0,1\n",
    "    for _ in range(num_items):\n",
    "        yield a\n",
    "        a, b = b, a"
   ]
  },
  {
   "cell_type": "code",
   "execution_count": null,
   "id": "0553291e",
   "metadata": {},
   "outputs": [],
   "source": [
    "#itertools\n",
    "#algorithm 관련 tools"
   ]
  },
  {
   "cell_type": "code",
   "execution_count": null,
   "id": "c2747177",
   "metadata": {},
   "outputs": [],
   "source": [
    "#cycle\n",
    "#itetable obj infinity loop\n",
    "\n",
    "def cycle(iterable):\n",
    "    saved =[]\n",
    "    for element in iterable:\n",
    "        yield element\n",
    "        saved.append(element)\n",
    "\n",
    "    while saved:\n",
    "        for element in saved:\n",
    "            yield element\n"
   ]
  },
  {
   "cell_type": "code",
   "execution_count": null,
   "id": "2f9254d0",
   "metadata": {},
   "outputs": [],
   "source": [
    "#repeat\n",
    "#repeate item for n times\n",
    "\n",
    "def repeat(obj, times=10):\n",
    "    #rep obj 10 times.\n",
    "    if times is None:\n",
    "        while True: yield obj\n",
    "    else:\n",
    "        for i in range(times):\n",
    "            yield obj\n"
   ]
  },
  {
   "cell_type": "code",
   "execution_count": null,
   "id": "89348130",
   "metadata": {},
   "outputs": [],
   "source": [
    "#chain\n",
    "#여러 iterable obj make it as one obj\n",
    "\n",
    "def chain(*iterables):\n",
    "    for iterable in iterables:\n",
    "        yield from iterable"
   ]
  },
  {
   "cell_type": "code",
   "execution_count": null,
   "id": "6f2fc97f",
   "metadata": {},
   "outputs": [],
   "source": [
    "#accumulate\n",
    "#perform cumulative operation on iterable obj\n",
    "import operator\n",
    "\n",
    "def accumulate(iterable, function=operator.add,*, initial=None):\n",
    "\n",
    "    iterator = iter(iterable)\n",
    "    total = initial\n",
    "    if initial is None:\n",
    "        try:\n",
    "            total = next(iterator)\n",
    "        except StopIteration:\n",
    "            return\n",
    "        \n",
    "    yield total\n",
    "    for element in iterator:\n",
    "        total = function(total, element)\n",
    "        yield total"
   ]
  },
  {
   "cell_type": "code",
   "execution_count": null,
   "id": "447dd85f",
   "metadata": {},
   "outputs": [],
   "source": [
    "#islice\n",
    "#slice iterable obj\n",
    "\n",
    "def islice(iterable, *args):\n",
    "\n",
    "    s = slice(*args)\n",
    "    start = 0 if s.start is None else s.start\n",
    "    stop = s.stop\n",
    "    step = 1 if s.step is None else s.step\n",
    "    if start <0 or (stop is not None and stop < 0) or step <= 0:\n",
    "        raise ValueError\n",
    "    \n",
    "    indices = count() if stop is None else range(max(start, stop))\n",
    "    next_i = start\n",
    "    for i, element in zip(indices, iterable):\n",
    "        if i == next_i:\n",
    "            yield element\n",
    "            next_i += step"
   ]
  },
  {
   "cell_type": "code",
   "execution_count": null,
   "id": "929521ab",
   "metadata": {},
   "outputs": [],
   "source": [
    "#dropwhile \n",
    "#throw data out from iterable obj until the first condition is false\n",
    "def dropwhile(predicate, iterable):\n",
    "    iterator = iter(iterable)\n",
    "    for x in iterator:\n",
    "        if not predicate(x):\n",
    "            yield x\n",
    "            break\n",
    "\n",
    "    for x in iterator:\n",
    "        yield x\n",
    "\n"
   ]
  },
  {
   "cell_type": "code",
   "execution_count": null,
   "id": "9d1aa5c7",
   "metadata": {},
   "outputs": [],
   "source": [
    "#takewhile\n",
    "#take the data until the first condition is false then throw the rest \n",
    "def takewhile(predicate, iterable):\n",
    "    for x in iterable:\n",
    "        if not predicate(x):\n",
    "            break\n",
    "        yield x"
   ]
  },
  {
   "cell_type": "code",
   "execution_count": null,
   "id": "55f96b2d",
   "metadata": {},
   "outputs": [],
   "source": [
    "#filterfalse\n",
    "#only take the data that fall in false condition\n",
    "def filterfalse(predicate, iterable):\n",
    "    if predicate is None:\n",
    "        predicate = bool\n",
    "\n",
    "    for x in iterable:\n",
    "        if not predicate(x):\n",
    "            yield x"
   ]
  },
  {
   "cell_type": "code",
   "execution_count": null,
   "id": "6beb0737",
   "metadata": {},
   "outputs": [],
   "source": [
    "#not using any\n",
    "\n",
    "def fibo_naive():\n",
    "    i, j =0, 1\n",
    "    count =0\n",
    "    while j <= 5000:\n",
    "        if j % 2 == 0:\n",
    "            count += 1\n",
    "        i, j = j, i+j\n",
    "    return count"
   ]
  },
  {
   "cell_type": "code",
   "execution_count": null,
   "id": "f885dbbb",
   "metadata": {},
   "outputs": [],
   "source": [
    "def fibo_generator():\n",
    "    i, j = 0,1\n",
    "    while True:\n",
    "        yield i\n",
    "        i ,j = i+j\n",
    "\n",
    "def fibo_transform():\n",
    "    count =0\n",
    "    for i in fibo_generator():\n",
    "        if i > 5000:\n",
    "            break\n",
    "        if i % 2 == 0:\n",
    "            count+=1\n",
    "    return count"
   ]
  },
  {
   "cell_type": "code",
   "execution_count": null,
   "id": "d2f14353",
   "metadata": {},
   "outputs": [],
   "source": [
    "from itertools import takewhile, filterfalse\n",
    "\n",
    "def fibo_gen():\n",
    "    i, j = 0,1\n",
    "    while True:\n",
    "        yield i\n",
    "        i, j = j, i+j\n",
    "\n",
    "def fib_succinct():\n",
    "    number_under_5000 = takewhile(\n",
    "        lambda x: x<= 5000, fibo_gen()\n",
    "    )\n",
    "    odd_num_under_5000 = filterfalse(\n",
    "        lambda x: x%2 == 0, number_under_5000\n",
    "    )\n",
    "\n",
    "    return sum(1 for i in odd_num_under_5000)"
   ]
  }
 ],
 "metadata": {
  "kernelspec": {
   "display_name": "base",
   "language": "python",
   "name": "python3"
  },
  "language_info": {
   "codemirror_mode": {
    "name": "ipython",
    "version": 3
   },
   "file_extension": ".py",
   "mimetype": "text/x-python",
   "name": "python",
   "nbconvert_exporter": "python",
   "pygments_lexer": "ipython3",
   "version": "3.12.7"
  }
 },
 "nbformat": 4,
 "nbformat_minor": 5
}
