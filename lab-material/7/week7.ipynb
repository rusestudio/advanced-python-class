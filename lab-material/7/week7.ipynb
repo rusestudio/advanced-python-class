{
 "cells": [
  {
   "cell_type": "code",
   "execution_count": null,
   "id": "fbb22536",
   "metadata": {},
   "outputs": [
    {
     "name": "stdout",
     "output_type": "stream",
     "text": [
      "['apple', 'banana', 'cheery', 'pear']\n",
      "['pear', 'apple', 'banana', 'cheery']\n"
     ]
    }
   ],
   "source": [
    "#lambda\n",
    "\n",
    "mylist =['banana', 'apple', \"pear\", 'cheery']\n",
    "\n",
    "sort_list= sorted(mylist) #sort based on abc\n",
    "print(sort_list)\n",
    "\n",
    "sort_list2 = sorted(mylist, key=lambda x:len(x)) #sort based on string length\n",
    "print(sort_list2)"
   ]
  },
  {
   "cell_type": "code",
   "execution_count": null,
   "id": "044d2132",
   "metadata": {},
   "outputs": [
    {
     "name": "stdout",
     "output_type": "stream",
     "text": [
      "8\n",
      "20\n"
     ]
    }
   ],
   "source": [
    "#closure\n",
    "def multiply_of(n): #2\n",
    "    def multiplier(x):\n",
    "        return x* n   #2*4\n",
    "    return multiplier\n",
    "\n",
    "mul_of_2 = multiply_of(2)\n",
    "mul_of_5 = multiply_of(5)\n",
    "\n",
    "print(mul_of_2(4)) #2*4 2=n , 4= x\n",
    "print(mul_of_5(4)) #use inner function return as outer fx "
   ]
  },
  {
   "cell_type": "code",
   "execution_count": 5,
   "id": "f4726df2",
   "metadata": {},
   "outputs": [
    {
     "name": "stdout",
     "output_type": "stream",
     "text": [
      "11\n",
      "12\n",
      "13\n"
     ]
    }
   ],
   "source": [
    "#closure 2\n",
    "def make_counter(init=0):\n",
    "    count = init\n",
    "    def counter():\n",
    "        nonlocal count\n",
    "        count += 1\n",
    "        return count\n",
    "    return counter\n",
    "\n",
    "counter = make_counter(10)\n",
    "print(counter())\n",
    "print(counter())\n",
    "print(counter())"
   ]
  },
  {
   "cell_type": "code",
   "execution_count": 6,
   "id": "ed04bcd1",
   "metadata": {},
   "outputs": [
    {
     "name": "stdout",
     "output_type": "stream",
     "text": [
      "local\n",
      "enclosing\n",
      "global\n"
     ]
    }
   ],
   "source": [
    "#namespace  \n",
    "\n",
    "a = 'global' #will print last\n",
    "\n",
    "def outer():\n",
    "    a = 'enclosing' #will print sec\n",
    "\n",
    "    def inner():\n",
    "        a = 'local' #will print first\n",
    "        print(a)\n",
    "\n",
    "    inner()\n",
    "    print(a)\n",
    "\n",
    "outer()\n",
    "print(a)"
   ]
  },
  {
   "cell_type": "code",
   "execution_count": 10,
   "id": "45922356",
   "metadata": {},
   "outputs": [
    {
     "name": "stdout",
     "output_type": "stream",
     "text": [
      "10\n",
      "22 30 40\n"
     ]
    }
   ],
   "source": [
    "#namespace 2\n",
    "\n",
    "x= 10 #global\n",
    "\n",
    "def outfx():\n",
    "    global x \n",
    "    x += 1\n",
    "    y = 10\n",
    "\n",
    "    def innerfx():\n",
    "        global x\n",
    "        nonlocal y\n",
    "        z = 10\n",
    "        x *=2\n",
    "        y *= 3\n",
    "        z *= 4\n",
    "        return z \n",
    "    \n",
    "    z = innerfx() # 40 \n",
    "    return y, z\n",
    "\n",
    "print(x)  #10 first from global\n",
    "y, z = outfx() \n",
    "# y = get y from outfx() nonlocal then *3 =30\n",
    "# get z from inner = 40\n",
    "print(x,y,z)\n",
    "# x = get x from global to outfx + 1, then go to inner *2 = 22\n",
    "\n"
   ]
  },
  {
   "cell_type": "code",
   "execution_count": null,
   "id": "9d1bcfcd",
   "metadata": {},
   "outputs": [
    {
     "name": "stdout",
     "output_type": "stream",
     "text": [
      "before\n",
      "hello\n",
      "after\n"
     ]
    }
   ],
   "source": [
    "#decorator\n",
    "def mydecorator(func):\n",
    "    def wrapper(): #closure concept use as deco\n",
    "        print(\"before\")\n",
    "        func() \n",
    "        print(\"after\")\n",
    "    return wrapper\n",
    "\n",
    "@mydecorator\n",
    "def sayhello():\n",
    "    print(\"hello\")\n",
    "\n",
    "sayhello()"
   ]
  },
  {
   "cell_type": "code",
   "execution_count": null,
   "id": "fb40dfb0",
   "metadata": {},
   "outputs": [
    {
     "name": "stdout",
     "output_type": "stream",
     "text": [
      "[korean] name='anna', age=20, height=170.5\n",
      "[my] name='ali', age=30, height=180.5\n"
     ]
    }
   ],
   "source": [
    "#functools & partial\n",
    "from functools import partial\n",
    "\n",
    "def p_info(name: str, age: int, height: float, nation: str =\"korean\"):\n",
    "    print(f\"[{nation}] {name=}, {age=}, {height=}\")\n",
    "\n",
    "p_info_1 = partial(p_info, name=\"anna\") #based on original fx put one value first then \n",
    "p_info_1(age=20, height=170.5) #fill the rest fx\n",
    "\n",
    "p_info_2 = partial(p_info, nation=\"my\") #based on original fx put one value first then \n",
    "p_info_2(\"ali\", 30, 180.5) #fill the rest fx\n"
   ]
  },
  {
   "cell_type": "code",
   "execution_count": null,
   "id": "e35c3bc9",
   "metadata": {},
   "outputs": [],
   "source": [
    "#functool & lru cache\n",
    "from functools import lru_cache\n",
    "\n",
    "@lru_cache(maxsize = 32)\n",
    "def get_pep(num):\n",
    "    'Retrive text of a python enhancement proposal'\n",
    "    resource = f'https://peps.python.org/pep-{num:04d}'\n",
    "    try:\n",
    "        with urllib.request.urlopen(resource) as d:\n",
    "            return s.read()\n",
    "    except urllib.error.HTTPError:\n",
    "        return 'Not found'\n",
    "    \n",
    "for n in 8, 290, 308, 320, 8, 218, 320, 279, 289, 320, 9991:\n",
    "    pep = get_pep(n)  # if n already in cache, cache hit +1\n",
    "    print(n, len(pep)) # if dont have cache miss+1\n",
    "\n",
    "\n"
   ]
  },
  {
   "cell_type": "code",
   "execution_count": 17,
   "id": "21dea7f2",
   "metadata": {},
   "outputs": [
    {
     "name": "stdout",
     "output_type": "stream",
     "text": [
      "fibonacci_list took 25.199 seconds\n"
     ]
    }
   ],
   "source": [
    "from time import perf_counter\n",
    "from typing import List\n",
    "\n",
    "def fib_list(num_items: int) -> List[int]:\n",
    "    numbers = []\n",
    "    a, b =0, 1\n",
    "    while len(numbers) < num_items:\n",
    "        numbers.append(a)\n",
    "        a, b = b, a +b\n",
    "\n",
    "    return numbers\n",
    "\n",
    "t = perf_counter()\n",
    "for _ in range(100):\n",
    "    result = fib_list(100000)\n",
    "\n",
    "print(f\"fibonacci_list took {perf_counter() -t:.3f} seconds\")\n"
   ]
  },
  {
   "cell_type": "code",
   "execution_count": 18,
   "id": "eef8cf5d",
   "metadata": {},
   "outputs": [
    {
     "name": "stdout",
     "output_type": "stream",
     "text": [
      "fibbonacci_list took 0.310  seconds\n"
     ]
    }
   ],
   "source": [
    "from time import perf_counter\n",
    "from typing import List\n",
    "from functools import lru_cache\n",
    "\n",
    "@lru_cache\n",
    "def fib_list(num_items: int)-> List[int]:\n",
    "    numbers = []\n",
    "    a,b = 0,1\n",
    "    while len(numbers) < num_items:\n",
    "        numbers.append(a)\n",
    "        a, b = b, a+b\n",
    "\n",
    "    return numbers\n",
    "\n",
    "t= perf_counter()\n",
    "for _ in range(100):\n",
    "    result = fib_list(100000)\n",
    "\n",
    "print(f\"fibbonacci_list took {perf_counter() -t:.3f}  seconds\")"
   ]
  },
  {
   "cell_type": "code",
   "execution_count": 21,
   "id": "dd2de042",
   "metadata": {},
   "outputs": [
    {
     "name": "stdout",
     "output_type": "stream",
     "text": [
      "cache hit:6, cache miss:7, cache current size:7, cache maxsize: 128\n"
     ]
    }
   ],
   "source": [
    "from functools import lru_cache\n",
    "from typing import List\n",
    "\n",
    "@lru_cache\n",
    "def fib_list(num_items: int)-> List[int]:\n",
    "    numbers = []\n",
    "    a,b = 0,1\n",
    "    while len(numbers) < num_items:\n",
    "        numbers.append(a)\n",
    "        a, b = b, a+b\n",
    "\n",
    "    return numbers\n",
    "\n",
    "numbers = [1,1,2,3,1,10,5,8,8,5,3,3,7]\n",
    "for num in numbers:\n",
    "    result= fib_list(num)\n",
    "\n",
    "cache_info = fib_list.cache_info()\n",
    "print(f\"cache hit:{cache_info.hits}, cache miss:{cache_info.misses}, cache current size:{cache_info.currsize}, cache maxsize: {cache_info.maxsize}\")\n",
    "\n"
   ]
  }
 ],
 "metadata": {
  "kernelspec": {
   "display_name": "base",
   "language": "python",
   "name": "python3"
  },
  "language_info": {
   "codemirror_mode": {
    "name": "ipython",
    "version": 3
   },
   "file_extension": ".py",
   "mimetype": "text/x-python",
   "name": "python",
   "nbconvert_exporter": "python",
   "pygments_lexer": "ipython3",
   "version": "3.12.7"
  }
 },
 "nbformat": 4,
 "nbformat_minor": 5
}
