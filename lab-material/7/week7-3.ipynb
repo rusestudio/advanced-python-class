{
 "cells": [
  {
   "cell_type": "code",
   "execution_count": null,
   "id": "fe4e0fbe",
   "metadata": {},
   "outputs": [
    {
     "name": "stdout",
     "output_type": "stream",
     "text": [
      "5\n",
      "8\n",
      "[1, 2, 3, 3, 4, 4, 5, 5, 5, 6]\n"
     ]
    }
   ],
   "source": [
    "from bisect import bisect_left, bisect_right, insort_left\n",
    "\n",
    "a =[1,2,3,3,4,5,5,5,6]\n",
    "\n",
    "print(bisect_left(a,5)) #print insert at index 5\n",
    "print(bisect_right(a,5)) #print insert at index 8\n",
    "\n",
    "insort_left(a,4) #insert while maintaining the sorted state\n",
    "print(a)"
   ]
  },
  {
   "cell_type": "code",
   "execution_count": 1,
   "id": "03b06aff",
   "metadata": {},
   "outputs": [
    {
     "name": "stdout",
     "output_type": "stream",
     "text": [
      "insert at index left:4\n",
      "insert at index right:7\n"
     ]
    }
   ],
   "source": [
    "#bisect\n",
    "#bisect_left\n",
    "#bisect_right\n",
    "\n",
    "from bisect import bisect_left, bisect_right, insort\n",
    "\n",
    "x = [1,2,3,4,5,5,5,6,7]\n",
    "\n",
    "\n",
    "bl = bisect_left(x, 5)\n",
    "br = bisect_right(x, 5)\n",
    "\n",
    "#return in index type\n",
    "print(f\"insert at index left:{bl}\") #insert at left\n",
    "print(f\"insert at index right:{br}\") # insert at right"
   ]
  },
  {
   "cell_type": "code",
   "execution_count": 3,
   "id": "e934f297",
   "metadata": {},
   "outputs": [
    {
     "name": "stdout",
     "output_type": "stream",
     "text": [
      "['F', 'A', 'C', 'C', 'B', 'A', 'A']\n"
     ]
    }
   ],
   "source": [
    "from bisect import bisect_right\n",
    "\n",
    "GRADES =[\"F\", \"D\", \"C\", \"B\", \"A\"]\n",
    "MARKS = [60, 70, 80, 90]\n",
    "\n",
    "stud_mark=[33,99,77,70,89,90,100]\n",
    "stud_grade=[]\n",
    "\n",
    "for score in stud_mark:\n",
    "    add_grade = bisect_right(MARKS,score)\n",
    "    grade = GRADES[add_grade]\n",
    "    stud_grade.append(grade)\n",
    "\n",
    "print(stud_grade)"
   ]
  },
  {
   "cell_type": "code",
   "execution_count": 4,
   "id": "3673f3fe",
   "metadata": {},
   "outputs": [
    {
     "name": "stdout",
     "output_type": "stream",
     "text": [
      "['F', 'A', 'C', 'D', 'B', 'B', 'A']\n"
     ]
    }
   ],
   "source": [
    "from bisect import bisect_left\n",
    "\n",
    "GRADES =[\"F\", \"D\", \"C\", \"B\", \"A\"]\n",
    "MARKS = [60, 70, 80, 90]\n",
    "\n",
    "stud_mark=[33,99,77,70,89,90,100]\n",
    "stud_grade=[]\n",
    "\n",
    "for score in stud_mark:\n",
    "    add_grade = bisect_left(MARKS,score)\n",
    "    grade = GRADES[add_grade]\n",
    "    stud_grade.append(grade)\n",
    "\n",
    "print(stud_grade)"
   ]
  },
  {
   "cell_type": "code",
   "execution_count": 5,
   "id": "b70877a8",
   "metadata": {},
   "outputs": [
    {
     "name": "stdout",
     "output_type": "stream",
     "text": [
      "[1, 3, 3, 4, 9, 5]\n"
     ]
    }
   ],
   "source": [
    "#heapq\n",
    "\n",
    "import heapq\n",
    "heap = [5,3,1,4,9,3]\n",
    "heapq.heapify(heap)\n",
    "print(heap)"
   ]
  },
  {
   "cell_type": "code",
   "execution_count": 6,
   "id": "7f53ee67",
   "metadata": {},
   "outputs": [
    {
     "name": "stdout",
     "output_type": "stream",
     "text": [
      "[]\n",
      "[5]\n",
      "[1, 5]\n",
      "[1, 5, 3]\n",
      "[1, 3, 3, 5]\n",
      "[1, 3, 3, 5, 9]\n",
      "[1, 3, 3, 5, 9, 4]\n",
      "[1, 3, 2, 5, 9, 4, 3]\n"
     ]
    }
   ],
   "source": [
    "#heapq.push\n",
    "\n",
    "heap = []\n",
    "\n",
    "print(heap)\n",
    "\n",
    "heapq.heappush(heap,5)\n",
    "print(heap)\n",
    "\n",
    "heapq.heappush(heap, 1)\n",
    "print(heap)\n",
    "\n",
    "heapq.heappush(heap,3)\n",
    "print(heap)\n",
    "\n",
    "heapq.heappush(heap,3)\n",
    "print(heap)\n",
    "\n",
    "heapq.heappush(heap,9)\n",
    "print(heap)\n",
    "\n",
    "heapq.heappush(heap, 4)\n",
    "print(heap)\n",
    "\n",
    "heapq.heappush(heap,2)\n",
    "print(heap)"
   ]
  },
  {
   "cell_type": "code",
   "execution_count": 11,
   "id": "313cd996",
   "metadata": {},
   "outputs": [
    {
     "name": "stdout",
     "output_type": "stream",
     "text": [
      "before heapify: [5, 3, 1, 4, 9, 3]\n",
      "after: [1, 3, 3, 4, 9, 5]\n",
      "1 [3, 3, 5, 4, 9]\n",
      "3 [3, 4, 5, 9]\n",
      "3 [4, 9, 5]\n",
      "4 [5, 9]\n"
     ]
    }
   ],
   "source": [
    "#heapq.heappop\n",
    "heap =[5,3,1,4,9,3]\n",
    "print(f\"before heapify: {heap}\")\n",
    "heapq.heapify(heap)\n",
    "print(f\"after: {heap}\")\n",
    "\n",
    "\n",
    "for i in range(4):\n",
    "    pop_i = heapq.heappop(heap)\n",
    "    print(pop_i, heap)\n"
   ]
  },
  {
   "cell_type": "code",
   "execution_count": 12,
   "id": "79c99299",
   "metadata": {},
   "outputs": [
    {
     "name": "stdout",
     "output_type": "stream",
     "text": [
      "priority q work:\n",
      "priority num:1: task:urgent\n",
      "priority num:2: task:reply service\n",
      "priority num:3: task:update\n",
      "priority num:4: task:new idea\n",
      "priority num:5: task:code review\n",
      "all task done\n"
     ]
    }
   ],
   "source": [
    "#priority queue\n",
    "\n",
    "pq = []\n",
    "\n",
    "heapq.heappush(pq, (3, \"update\"))\n",
    "heapq.heappush(pq, (1, \"urgent\"))\n",
    "heapq.heappush(pq, (4, \"new idea\"))\n",
    "heapq.heappush(pq, (2, \"reply service\"))\n",
    "heapq.heappush(pq, (5, \"code review\"))\n",
    "\n",
    "print(\"priority q work:\")\n",
    "\n",
    "while pq:\n",
    "    p, t = heapq.heappop(pq)\n",
    "    print(f\"priority num:{p}: task:{t}\")\n",
    "\n",
    "print(\"all task done\")\n"
   ]
  },
  {
   "cell_type": "code",
   "execution_count": 17,
   "id": "467c8182",
   "metadata": {},
   "outputs": [],
   "source": [
    "from typing import List, Tuple\n",
    "\n",
    "def min_meeting_rooms(intervals: List[Tuple[int,int]]) ->int:\n",
    "    intervals.sort(key=lambda x: x[0])\n",
    "\n",
    "    end_time_heap =[]\n",
    "\n",
    "    heapq.heappush(end_time_heap, intervals[0][1])\n",
    "\n",
    "    for i in range(1, len(intervals)):\n",
    "        current_start, current_end = intervals[i]\n",
    "\n",
    "        if end_time_heap  and current_start >= end_time_heap[0]:\n",
    "            heapq.heappop(end_time_heap)\n",
    "\n",
    "        heapq.heappush(end_time_heap, current_end)\n",
    "\n",
    "    return len(end_time_heap)"
   ]
  },
  {
   "cell_type": "code",
   "execution_count": 18,
   "id": "474cc5dd",
   "metadata": {},
   "outputs": [
    {
     "name": "stdout",
     "output_type": "stream",
     "text": [
      "meeting time:[[0, 30], [5, 10], [15, 20]], room needed:2\n",
      "meeting time:[[7, 10], [2, 4]], room needed:1\n",
      "meeting time:[[1, 5], [8, 9], [8, 9]], room needed:2\n",
      "meeting time:[[6, 15], [13, 20], [6, 17]], room needed:3\n"
     ]
    }
   ],
   "source": [
    "meeting1 = [[0,30], [5,10],[15,20]]\n",
    "print(f\"meeting time:{meeting1}, room needed:{min_meeting_rooms(meeting1)}\")\n",
    "\n",
    "meeting2 = [[7,10],[2,4]]\n",
    "print(f\"meeting time:{meeting2}, room needed:{min_meeting_rooms(meeting2)}\")\n",
    "\n",
    "meeting3 = [[1,5], [8,9],[8,9]]\n",
    "print(f\"meeting time:{meeting3}, room needed:{min_meeting_rooms(meeting3)}\")\n",
    "meeting4 = [[6,15], [13,20],[6,17]]\n",
    "print(f\"meeting time:{meeting4}, room needed:{min_meeting_rooms(meeting4)}\")"
   ]
  }
 ],
 "metadata": {
  "kernelspec": {
   "display_name": "base",
   "language": "python",
   "name": "python3"
  },
  "language_info": {
   "codemirror_mode": {
    "name": "ipython",
    "version": 3
   },
   "file_extension": ".py",
   "mimetype": "text/x-python",
   "name": "python",
   "nbconvert_exporter": "python",
   "pygments_lexer": "ipython3",
   "version": "3.12.7"
  }
 },
 "nbformat": 4,
 "nbformat_minor": 5
}
