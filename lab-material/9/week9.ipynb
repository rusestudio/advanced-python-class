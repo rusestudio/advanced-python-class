{
 "cells": [
  {
   "cell_type": "code",
   "execution_count": null,
   "id": "f620da2f",
   "metadata": {},
   "outputs": [],
   "source": [
    "import asyncio\n",
    "import time\n",
    "\n",
    "async def say_after(delay, what):\n",
    "    await asyncio.sleep(delay)\n",
    "    print(what)\n",
    "\n",
    "\n",
    "async def main():\n",
    "    print(f\"start: {time.strftime('%X')}\")\n",
    "    await say_after(1, \"hello\")\n",
    "    await say_after(2, \"world\")\n",
    "    print(f\"end: {time.strftime('%X')}\")\n",
    "\n",
    "asyncio.run(main())\n"
   ]
  },
  {
   "cell_type": "code",
   "execution_count": 4,
   "id": "cf7e2c17",
   "metadata": {},
   "outputs": [],
   "source": [
    "import asyncio\n",
    "import time\n",
    "\n",
    "async def say_after(delay, what):\n",
    "    await asyncio.sleep(delay)\n",
    "    print(f\"done: {time.strftime('%X')}, {what}\")\n",
    "\n",
    "\n",
    "async def main():\n",
    "    task1 = asyncio.create_task(say_after(1,\"hello\"))\n",
    "    task2 = asyncio.create_task(say_after(2,\"world\"))\n",
    "\n",
    "    print(f\"start: {time.strftime('%X')}\")\n",
    "    await task1\n",
    "    await task2\n",
    "    print(f\"end: {time.strftime('%X')}\")\n",
    "\n",
    "    asyncio.run(main())\n",
    "    \n"
   ]
  }
 ],
 "metadata": {
  "kernelspec": {
   "display_name": "base",
   "language": "python",
   "name": "python3"
  },
  "language_info": {
   "codemirror_mode": {
    "name": "ipython",
    "version": 3
   },
   "file_extension": ".py",
   "mimetype": "text/x-python",
   "name": "python",
   "nbconvert_exporter": "python",
   "pygments_lexer": "ipython3",
   "version": "3.12.7"
  }
 },
 "nbformat": 4,
 "nbformat_minor": 5
}
