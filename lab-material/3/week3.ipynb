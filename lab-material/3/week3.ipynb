{
 "cells": [
  {
   "cell_type": "code",
   "execution_count": null,
   "metadata": {},
   "outputs": [],
   "source": [
    "#module\n",
    "\n",
    "class DataScientist:\n",
    "    major = \"data science\"  #class attribute\n",
    "\n",
    "    def __init__(self, name: str):\n",
    "        self.name = name\n",
    "\n",
    "    def work(self, hours: int =2):  #instance method\n",
    "        print(f\"{self.name} has work for {hours}\")\n",
    "\n",
    "    @classmethod\n",
    "    def print_major(cls)\n",
    "        print(f\"data scientist major is {cls.major}\") #cann access class attribute\n",
    "\n",
    "    @staticmethod\n",
    "    def sleep(hours=8): #no self. only can access its attributes. \n",
    "        print(f\"data scientist sleep for {hours}\")\n",
    "\n",
    "def print_hello(name: str):\n",
    "    print(f\"hello, {name}!\")\n"
   ]
  },
  {
   "cell_type": "code",
   "execution_count": 1,
   "metadata": {},
   "outputs": [
    {
     "ename": "ImportError",
     "evalue": "cannot import name 'DataScientist' from 'week3' (unknown location)",
     "output_type": "error",
     "traceback": [
      "\u001b[31m---------------------------------------------------------------------------\u001b[39m",
      "\u001b[31mImportError\u001b[39m                               Traceback (most recent call last)",
      "\u001b[36mCell\u001b[39m\u001b[36m \u001b[39m\u001b[32mIn[1]\u001b[39m\u001b[32m, line 2\u001b[39m\n\u001b[32m      1\u001b[39m \u001b[38;5;66;03m#import module\u001b[39;00m\n\u001b[32m----> \u001b[39m\u001b[32m2\u001b[39m \u001b[38;5;28;01mfrom\u001b[39;00m\u001b[38;5;250m \u001b[39m\u001b[34;01mweek3\u001b[39;00m\u001b[38;5;250m \u001b[39m\u001b[38;5;28;01mimport\u001b[39;00m DataScientist, print_hello\n\u001b[32m      4\u001b[39m w1 = DataScientist(\u001b[33m\"\u001b[39m\u001b[33manna\u001b[39m\u001b[33m\"\u001b[39m)\n\u001b[32m      5\u001b[39m w1.work()\n",
      "\u001b[31mImportError\u001b[39m: cannot import name 'DataScientist' from 'week3' (unknown location)"
     ]
    }
   ],
   "source": [
    "#import module\n",
    "from week3 import DataScientist, print_hello\n",
    "\n",
    "w1 = DataScientist(\"anna\")\n",
    "w1.work()\n",
    "\n",
    "print_hello(\"anna\")"
   ]
  },
  {
   "cell_type": "code",
   "execution_count": null,
   "metadata": {},
   "outputs": [],
   "source": [
    "#__name__ = main\n",
    "\n",
    "class DataScientist:\n",
    "    major = \"data science\"  #class attribute\n",
    "\n",
    "    def __init__(self, name: str):\n",
    "        self.name = name\n",
    "\n",
    "    def work(self, hours: int =2):  #instance method\n",
    "        print(f\"{self.name} has work for {hours}\")\n",
    "\n",
    "    @classmethod\n",
    "    def print_major(cls)\n",
    "        print(f\"data scientist major is {cls.major}\") #cann access class attribute\n",
    "\n",
    "    @staticmethod\n",
    "    def sleep(hours=8): #no self. only can access its attributes. \n",
    "        print(f\"data scientist sleep for {hours}\")\n",
    "\n",
    "def print_hello(name: str):\n",
    "    print(f\"hello, {name}!\")\n",
    "\n",
    "\n",
    "if __name__ == \"__main__\":\n",
    "    print(\"week3 is print\")"
   ]
  },
  {
   "cell_type": "code",
   "execution_count": 2,
   "metadata": {},
   "outputs": [
    {
     "name": "stdout",
     "output_type": "stream",
     "text": [
      "2025-03-24 13:53:08.468990\n",
      "2025-03-24 13:53:08\n",
      "1 day, 0:00:00\n"
     ]
    }
   ],
   "source": [
    "#library\n",
    "\n",
    "from datetime import datetime\n",
    "\n",
    "current_time = datetime.now()\n",
    "\n",
    "yesterday_time = current_time.replace(day=current_time.day-1)\n",
    "\n",
    "print(current_time)\n",
    "print(current_time.strftime(\"%Y-%m-%d %H:%M:%S\"))\n",
    "\n",
    "print(current_time-yesterday_time)"
   ]
  },
  {
   "cell_type": "code",
   "execution_count": 6,
   "metadata": {},
   "outputs": [
    {
     "name": "stdout",
     "output_type": "stream",
     "text": [
      "1.3009223937988281\n",
      "-1742280496.1062899\n"
     ]
    }
   ],
   "source": [
    "from time import time\n",
    "from time import perf_counter\n",
    "\n",
    "t=time()\n",
    "\n",
    "n = 0\n",
    "\n",
    "for i in range (10000000):\n",
    "    n+=1\n",
    "\n",
    "print(time()-t)\n",
    "print(perf_counter()-t)"
   ]
  }
 ],
 "metadata": {
  "kernelspec": {
   "display_name": "myenv",
   "language": "python",
   "name": "python3"
  },
  "language_info": {
   "codemirror_mode": {
    "name": "ipython",
    "version": 3
   },
   "file_extension": ".py",
   "mimetype": "text/x-python",
   "name": "python",
   "nbconvert_exporter": "python",
   "pygments_lexer": "ipython3",
   "version": "3.13.2"
  }
 },
 "nbformat": 4,
 "nbformat_minor": 2
}
